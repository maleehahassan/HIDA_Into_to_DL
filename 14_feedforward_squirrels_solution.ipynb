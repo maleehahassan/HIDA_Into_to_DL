{
 "cells": [
  {
   "metadata": {},
   "cell_type": "markdown",
   "source": "<a href=\"https://colab.research.google.com/github/maleehahassan/HIDA_Into_to_DL/blob/main/10_feedforward_squirrels.ipynb\" target=\"_parent\"><img src=\"https://colab.research.google.com/assets/colab-badge.svg\" alt=\"Open In Colab\"/></a>",
   "id": "b6eb3838dae8ba04"
  },
  {
   "cell_type": "code",
   "id": "initial_id",
   "metadata": {
    "collapsed": true,
    "ExecuteTime": {
     "end_time": "2025-10-29T11:35:42.905079Z",
     "start_time": "2025-10-29T11:35:42.899568Z"
    }
   },
   "source": [
    "import pandas as pd\n",
    "import numpy as np\n",
    "\n",
    "import seaborn as sns\n",
    "import matplotlib.pyplot as plt\n",
    "\n",
    "from tensorflow import keras\n",
    "from sklearn.preprocessing import OneHotEncoder\n",
    "from sklearn.model_selection import train_test_split\n",
    "from sklearn.compose import ColumnTransformer\n",
    "from sklearn.pipeline import Pipeline\n",
    "from sklearn.metrics import confusion_matrix\n",
    "\n",
    "sns.set_theme(style='white')"
   ],
   "outputs": [],
   "execution_count": 216
  },
  {
   "metadata": {
    "ExecuteTime": {
     "end_time": "2025-10-29T11:35:42.912461Z",
     "start_time": "2025-10-29T11:35:42.910386Z"
    }
   },
   "cell_type": "code",
   "source": "# %matplotlib inline",
   "id": "6e53bc010c1b943e",
   "outputs": [],
   "execution_count": 217
  },
  {
   "metadata": {},
   "cell_type": "markdown",
   "source": "First, download a dataset about squirrel sightings in New York City.",
   "id": "9bd979bad6b5d6dc"
  },
  {
   "metadata": {
    "ExecuteTime": {
     "end_time": "2025-10-29T11:35:44.337089Z",
     "start_time": "2025-10-29T11:35:42.919109Z"
    }
   },
   "cell_type": "code",
   "source": [
    "# simply using pandas\n",
    "url = 'https://data.cityofnewyork.us/resource/vfnx-vebw.csv?$limit=5000'\n",
    "df = pd.read_csv(url)\n",
    "df.shape"
   ],
   "id": "6069249852471ae3",
   "outputs": [
    {
     "data": {
      "text/plain": [
       "(3023, 31)"
      ]
     },
     "execution_count": 218,
     "metadata": {},
     "output_type": "execute_result"
    }
   ],
   "execution_count": 218
  },
  {
   "metadata": {
    "ExecuteTime": {
     "end_time": "2025-10-29T11:35:44.383942Z",
     "start_time": "2025-10-29T11:35:44.376043Z"
    }
   },
   "cell_type": "code",
   "source": "df.head()",
   "id": "74847c4cbbf05f7d",
   "outputs": [
    {
     "data": {
      "text/plain": [
       "           x          y unique_squirrel_id hectare shift      date  \\\n",
       "0 -73.956134  40.794082     37F-PM-1014-03     37F    PM  10142018   \n",
       "1 -73.968857  40.783783     21B-AM-1019-04     21B    AM  10192018   \n",
       "2 -73.974281  40.775534     11B-PM-1014-08     11B    PM  10142018   \n",
       "3 -73.959641  40.790313     32E-PM-1017-14     32E    PM  10172018   \n",
       "4 -73.970268  40.776213     13E-AM-1017-05     13E    AM  10172018   \n",
       "\n",
       "   hectare_squirrel_number    age primary_fur_color highlight_fur_color  ...  \\\n",
       "0                        3    NaN               NaN                 NaN  ...   \n",
       "1                        4    NaN               NaN                 NaN  ...   \n",
       "2                        8    NaN              Gray                 NaN  ...   \n",
       "3                       14  Adult              Gray                 NaN  ...   \n",
       "4                        5  Adult              Gray            Cinnamon  ...   \n",
       "\n",
       "    kuks  quaas  moans tail_flags tail_twitches  approaches  indifferent  \\\n",
       "0  False  False  False      False         False       False        False   \n",
       "1  False  False  False      False         False       False        False   \n",
       "2  False  False  False      False         False       False        False   \n",
       "3  False  False  False      False         False       False        False   \n",
       "4  False  False  False      False         False       False        False   \n",
       "\n",
       "   runs_from  other_interactions                             geocoded_column  \n",
       "0      False                 NaN  POINT (-73.9561344937861 40.7940823884086)  \n",
       "1      False                 NaN  POINT (-73.9688574691102 40.7837825208444)  \n",
       "2      False                 NaN  POINT (-73.97428114848522 40.775533619083)  \n",
       "3       True                 NaN  POINT (-73.9596413903948 40.7903128889029)  \n",
       "4      False                 NaN  POINT (-73.9702676472613 40.7762126854894)  \n",
       "\n",
       "[5 rows x 31 columns]"
      ],
      "text/html": [
       "<div>\n",
       "<style scoped>\n",
       "    .dataframe tbody tr th:only-of-type {\n",
       "        vertical-align: middle;\n",
       "    }\n",
       "\n",
       "    .dataframe tbody tr th {\n",
       "        vertical-align: top;\n",
       "    }\n",
       "\n",
       "    .dataframe thead th {\n",
       "        text-align: right;\n",
       "    }\n",
       "</style>\n",
       "<table border=\"1\" class=\"dataframe\">\n",
       "  <thead>\n",
       "    <tr style=\"text-align: right;\">\n",
       "      <th></th>\n",
       "      <th>x</th>\n",
       "      <th>y</th>\n",
       "      <th>unique_squirrel_id</th>\n",
       "      <th>hectare</th>\n",
       "      <th>shift</th>\n",
       "      <th>date</th>\n",
       "      <th>hectare_squirrel_number</th>\n",
       "      <th>age</th>\n",
       "      <th>primary_fur_color</th>\n",
       "      <th>highlight_fur_color</th>\n",
       "      <th>...</th>\n",
       "      <th>kuks</th>\n",
       "      <th>quaas</th>\n",
       "      <th>moans</th>\n",
       "      <th>tail_flags</th>\n",
       "      <th>tail_twitches</th>\n",
       "      <th>approaches</th>\n",
       "      <th>indifferent</th>\n",
       "      <th>runs_from</th>\n",
       "      <th>other_interactions</th>\n",
       "      <th>geocoded_column</th>\n",
       "    </tr>\n",
       "  </thead>\n",
       "  <tbody>\n",
       "    <tr>\n",
       "      <th>0</th>\n",
       "      <td>-73.956134</td>\n",
       "      <td>40.794082</td>\n",
       "      <td>37F-PM-1014-03</td>\n",
       "      <td>37F</td>\n",
       "      <td>PM</td>\n",
       "      <td>10142018</td>\n",
       "      <td>3</td>\n",
       "      <td>NaN</td>\n",
       "      <td>NaN</td>\n",
       "      <td>NaN</td>\n",
       "      <td>...</td>\n",
       "      <td>False</td>\n",
       "      <td>False</td>\n",
       "      <td>False</td>\n",
       "      <td>False</td>\n",
       "      <td>False</td>\n",
       "      <td>False</td>\n",
       "      <td>False</td>\n",
       "      <td>False</td>\n",
       "      <td>NaN</td>\n",
       "      <td>POINT (-73.9561344937861 40.7940823884086)</td>\n",
       "    </tr>\n",
       "    <tr>\n",
       "      <th>1</th>\n",
       "      <td>-73.968857</td>\n",
       "      <td>40.783783</td>\n",
       "      <td>21B-AM-1019-04</td>\n",
       "      <td>21B</td>\n",
       "      <td>AM</td>\n",
       "      <td>10192018</td>\n",
       "      <td>4</td>\n",
       "      <td>NaN</td>\n",
       "      <td>NaN</td>\n",
       "      <td>NaN</td>\n",
       "      <td>...</td>\n",
       "      <td>False</td>\n",
       "      <td>False</td>\n",
       "      <td>False</td>\n",
       "      <td>False</td>\n",
       "      <td>False</td>\n",
       "      <td>False</td>\n",
       "      <td>False</td>\n",
       "      <td>False</td>\n",
       "      <td>NaN</td>\n",
       "      <td>POINT (-73.9688574691102 40.7837825208444)</td>\n",
       "    </tr>\n",
       "    <tr>\n",
       "      <th>2</th>\n",
       "      <td>-73.974281</td>\n",
       "      <td>40.775534</td>\n",
       "      <td>11B-PM-1014-08</td>\n",
       "      <td>11B</td>\n",
       "      <td>PM</td>\n",
       "      <td>10142018</td>\n",
       "      <td>8</td>\n",
       "      <td>NaN</td>\n",
       "      <td>Gray</td>\n",
       "      <td>NaN</td>\n",
       "      <td>...</td>\n",
       "      <td>False</td>\n",
       "      <td>False</td>\n",
       "      <td>False</td>\n",
       "      <td>False</td>\n",
       "      <td>False</td>\n",
       "      <td>False</td>\n",
       "      <td>False</td>\n",
       "      <td>False</td>\n",
       "      <td>NaN</td>\n",
       "      <td>POINT (-73.97428114848522 40.775533619083)</td>\n",
       "    </tr>\n",
       "    <tr>\n",
       "      <th>3</th>\n",
       "      <td>-73.959641</td>\n",
       "      <td>40.790313</td>\n",
       "      <td>32E-PM-1017-14</td>\n",
       "      <td>32E</td>\n",
       "      <td>PM</td>\n",
       "      <td>10172018</td>\n",
       "      <td>14</td>\n",
       "      <td>Adult</td>\n",
       "      <td>Gray</td>\n",
       "      <td>NaN</td>\n",
       "      <td>...</td>\n",
       "      <td>False</td>\n",
       "      <td>False</td>\n",
       "      <td>False</td>\n",
       "      <td>False</td>\n",
       "      <td>False</td>\n",
       "      <td>False</td>\n",
       "      <td>False</td>\n",
       "      <td>True</td>\n",
       "      <td>NaN</td>\n",
       "      <td>POINT (-73.9596413903948 40.7903128889029)</td>\n",
       "    </tr>\n",
       "    <tr>\n",
       "      <th>4</th>\n",
       "      <td>-73.970268</td>\n",
       "      <td>40.776213</td>\n",
       "      <td>13E-AM-1017-05</td>\n",
       "      <td>13E</td>\n",
       "      <td>AM</td>\n",
       "      <td>10172018</td>\n",
       "      <td>5</td>\n",
       "      <td>Adult</td>\n",
       "      <td>Gray</td>\n",
       "      <td>Cinnamon</td>\n",
       "      <td>...</td>\n",
       "      <td>False</td>\n",
       "      <td>False</td>\n",
       "      <td>False</td>\n",
       "      <td>False</td>\n",
       "      <td>False</td>\n",
       "      <td>False</td>\n",
       "      <td>False</td>\n",
       "      <td>False</td>\n",
       "      <td>NaN</td>\n",
       "      <td>POINT (-73.9702676472613 40.7762126854894)</td>\n",
       "    </tr>\n",
       "  </tbody>\n",
       "</table>\n",
       "<p>5 rows × 31 columns</p>\n",
       "</div>"
      ]
     },
     "execution_count": 219,
     "metadata": {},
     "output_type": "execute_result"
    }
   ],
   "execution_count": 219
  },
  {
   "metadata": {
    "ExecuteTime": {
     "end_time": "2025-10-29T11:35:44.463972Z",
     "start_time": "2025-10-29T11:35:44.437553Z"
    }
   },
   "cell_type": "code",
   "source": "df.describe(include='all')",
   "id": "6b1bb065ad6106c8",
   "outputs": [
    {
     "data": {
      "text/plain": [
       "                  x            y unique_squirrel_id hectare shift  \\\n",
       "count   3023.000000  3023.000000               3023    3023  3023   \n",
       "unique          NaN          NaN               3018     339     2   \n",
       "top             NaN          NaN      7D-PM-1010-01     14D    PM   \n",
       "freq            NaN          NaN                  2      32  1676   \n",
       "mean     -73.967184    40.780853                NaN     NaN   NaN   \n",
       "std        0.007726     0.010285                NaN     NaN   NaN   \n",
       "min      -73.981159    40.764911                NaN     NaN   NaN   \n",
       "25%      -73.973102    40.771676                NaN     NaN   NaN   \n",
       "50%      -73.968594    40.778166                NaN     NaN   NaN   \n",
       "75%      -73.960189    40.791219                NaN     NaN   NaN   \n",
       "max      -73.949722    40.800119                NaN     NaN   NaN   \n",
       "\n",
       "                date  hectare_squirrel_number    age primary_fur_color  \\\n",
       "count   3.023000e+03              3023.000000   2902              2968   \n",
       "unique           NaN                      NaN      3                 3   \n",
       "top              NaN                      NaN  Adult              Gray   \n",
       "freq             NaN                      NaN   2568              2473   \n",
       "mean    1.011949e+07                 4.123718    NaN               NaN   \n",
       "std     4.246671e+04                 3.096492    NaN               NaN   \n",
       "min     1.006202e+07                 1.000000    NaN               NaN   \n",
       "25%     1.008202e+07                 2.000000    NaN               NaN   \n",
       "50%     1.012202e+07                 3.000000    NaN               NaN   \n",
       "75%     1.014202e+07                 6.000000    NaN               NaN   \n",
       "max     1.020202e+07                23.000000    NaN               NaN   \n",
       "\n",
       "       highlight_fur_color  ...   kuks  quaas  moans tail_flags tail_twitches  \\\n",
       "count                 1937  ...   3023   3023   3023       3023          3023   \n",
       "unique                  10  ...      2      2      2          2             2   \n",
       "top               Cinnamon  ...  False  False  False      False         False   \n",
       "freq                   767  ...   2921   2973   3020       2868          2589   \n",
       "mean                   NaN  ...    NaN    NaN    NaN        NaN           NaN   \n",
       "std                    NaN  ...    NaN    NaN    NaN        NaN           NaN   \n",
       "min                    NaN  ...    NaN    NaN    NaN        NaN           NaN   \n",
       "25%                    NaN  ...    NaN    NaN    NaN        NaN           NaN   \n",
       "50%                    NaN  ...    NaN    NaN    NaN        NaN           NaN   \n",
       "75%                    NaN  ...    NaN    NaN    NaN        NaN           NaN   \n",
       "max                    NaN  ...    NaN    NaN    NaN        NaN           NaN   \n",
       "\n",
       "       approaches indifferent runs_from other_interactions  \\\n",
       "count        3023        3023      3023                240   \n",
       "unique          2           2         2                197   \n",
       "top         False       False     False    runs from (dog)   \n",
       "freq         2845        1569      2345                  9   \n",
       "mean          NaN         NaN       NaN                NaN   \n",
       "std           NaN         NaN       NaN                NaN   \n",
       "min           NaN         NaN       NaN                NaN   \n",
       "25%           NaN         NaN       NaN                NaN   \n",
       "50%           NaN         NaN       NaN                NaN   \n",
       "75%           NaN         NaN       NaN                NaN   \n",
       "max           NaN         NaN       NaN                NaN   \n",
       "\n",
       "                                   geocoded_column  \n",
       "count                                         3023  \n",
       "unique                                        3023  \n",
       "top     POINT (-73.9561344937861 40.7940823884086)  \n",
       "freq                                             1  \n",
       "mean                                           NaN  \n",
       "std                                            NaN  \n",
       "min                                            NaN  \n",
       "25%                                            NaN  \n",
       "50%                                            NaN  \n",
       "75%                                            NaN  \n",
       "max                                            NaN  \n",
       "\n",
       "[11 rows x 31 columns]"
      ],
      "text/html": [
       "<div>\n",
       "<style scoped>\n",
       "    .dataframe tbody tr th:only-of-type {\n",
       "        vertical-align: middle;\n",
       "    }\n",
       "\n",
       "    .dataframe tbody tr th {\n",
       "        vertical-align: top;\n",
       "    }\n",
       "\n",
       "    .dataframe thead th {\n",
       "        text-align: right;\n",
       "    }\n",
       "</style>\n",
       "<table border=\"1\" class=\"dataframe\">\n",
       "  <thead>\n",
       "    <tr style=\"text-align: right;\">\n",
       "      <th></th>\n",
       "      <th>x</th>\n",
       "      <th>y</th>\n",
       "      <th>unique_squirrel_id</th>\n",
       "      <th>hectare</th>\n",
       "      <th>shift</th>\n",
       "      <th>date</th>\n",
       "      <th>hectare_squirrel_number</th>\n",
       "      <th>age</th>\n",
       "      <th>primary_fur_color</th>\n",
       "      <th>highlight_fur_color</th>\n",
       "      <th>...</th>\n",
       "      <th>kuks</th>\n",
       "      <th>quaas</th>\n",
       "      <th>moans</th>\n",
       "      <th>tail_flags</th>\n",
       "      <th>tail_twitches</th>\n",
       "      <th>approaches</th>\n",
       "      <th>indifferent</th>\n",
       "      <th>runs_from</th>\n",
       "      <th>other_interactions</th>\n",
       "      <th>geocoded_column</th>\n",
       "    </tr>\n",
       "  </thead>\n",
       "  <tbody>\n",
       "    <tr>\n",
       "      <th>count</th>\n",
       "      <td>3023.000000</td>\n",
       "      <td>3023.000000</td>\n",
       "      <td>3023</td>\n",
       "      <td>3023</td>\n",
       "      <td>3023</td>\n",
       "      <td>3.023000e+03</td>\n",
       "      <td>3023.000000</td>\n",
       "      <td>2902</td>\n",
       "      <td>2968</td>\n",
       "      <td>1937</td>\n",
       "      <td>...</td>\n",
       "      <td>3023</td>\n",
       "      <td>3023</td>\n",
       "      <td>3023</td>\n",
       "      <td>3023</td>\n",
       "      <td>3023</td>\n",
       "      <td>3023</td>\n",
       "      <td>3023</td>\n",
       "      <td>3023</td>\n",
       "      <td>240</td>\n",
       "      <td>3023</td>\n",
       "    </tr>\n",
       "    <tr>\n",
       "      <th>unique</th>\n",
       "      <td>NaN</td>\n",
       "      <td>NaN</td>\n",
       "      <td>3018</td>\n",
       "      <td>339</td>\n",
       "      <td>2</td>\n",
       "      <td>NaN</td>\n",
       "      <td>NaN</td>\n",
       "      <td>3</td>\n",
       "      <td>3</td>\n",
       "      <td>10</td>\n",
       "      <td>...</td>\n",
       "      <td>2</td>\n",
       "      <td>2</td>\n",
       "      <td>2</td>\n",
       "      <td>2</td>\n",
       "      <td>2</td>\n",
       "      <td>2</td>\n",
       "      <td>2</td>\n",
       "      <td>2</td>\n",
       "      <td>197</td>\n",
       "      <td>3023</td>\n",
       "    </tr>\n",
       "    <tr>\n",
       "      <th>top</th>\n",
       "      <td>NaN</td>\n",
       "      <td>NaN</td>\n",
       "      <td>7D-PM-1010-01</td>\n",
       "      <td>14D</td>\n",
       "      <td>PM</td>\n",
       "      <td>NaN</td>\n",
       "      <td>NaN</td>\n",
       "      <td>Adult</td>\n",
       "      <td>Gray</td>\n",
       "      <td>Cinnamon</td>\n",
       "      <td>...</td>\n",
       "      <td>False</td>\n",
       "      <td>False</td>\n",
       "      <td>False</td>\n",
       "      <td>False</td>\n",
       "      <td>False</td>\n",
       "      <td>False</td>\n",
       "      <td>False</td>\n",
       "      <td>False</td>\n",
       "      <td>runs from (dog)</td>\n",
       "      <td>POINT (-73.9561344937861 40.7940823884086)</td>\n",
       "    </tr>\n",
       "    <tr>\n",
       "      <th>freq</th>\n",
       "      <td>NaN</td>\n",
       "      <td>NaN</td>\n",
       "      <td>2</td>\n",
       "      <td>32</td>\n",
       "      <td>1676</td>\n",
       "      <td>NaN</td>\n",
       "      <td>NaN</td>\n",
       "      <td>2568</td>\n",
       "      <td>2473</td>\n",
       "      <td>767</td>\n",
       "      <td>...</td>\n",
       "      <td>2921</td>\n",
       "      <td>2973</td>\n",
       "      <td>3020</td>\n",
       "      <td>2868</td>\n",
       "      <td>2589</td>\n",
       "      <td>2845</td>\n",
       "      <td>1569</td>\n",
       "      <td>2345</td>\n",
       "      <td>9</td>\n",
       "      <td>1</td>\n",
       "    </tr>\n",
       "    <tr>\n",
       "      <th>mean</th>\n",
       "      <td>-73.967184</td>\n",
       "      <td>40.780853</td>\n",
       "      <td>NaN</td>\n",
       "      <td>NaN</td>\n",
       "      <td>NaN</td>\n",
       "      <td>1.011949e+07</td>\n",
       "      <td>4.123718</td>\n",
       "      <td>NaN</td>\n",
       "      <td>NaN</td>\n",
       "      <td>NaN</td>\n",
       "      <td>...</td>\n",
       "      <td>NaN</td>\n",
       "      <td>NaN</td>\n",
       "      <td>NaN</td>\n",
       "      <td>NaN</td>\n",
       "      <td>NaN</td>\n",
       "      <td>NaN</td>\n",
       "      <td>NaN</td>\n",
       "      <td>NaN</td>\n",
       "      <td>NaN</td>\n",
       "      <td>NaN</td>\n",
       "    </tr>\n",
       "    <tr>\n",
       "      <th>std</th>\n",
       "      <td>0.007726</td>\n",
       "      <td>0.010285</td>\n",
       "      <td>NaN</td>\n",
       "      <td>NaN</td>\n",
       "      <td>NaN</td>\n",
       "      <td>4.246671e+04</td>\n",
       "      <td>3.096492</td>\n",
       "      <td>NaN</td>\n",
       "      <td>NaN</td>\n",
       "      <td>NaN</td>\n",
       "      <td>...</td>\n",
       "      <td>NaN</td>\n",
       "      <td>NaN</td>\n",
       "      <td>NaN</td>\n",
       "      <td>NaN</td>\n",
       "      <td>NaN</td>\n",
       "      <td>NaN</td>\n",
       "      <td>NaN</td>\n",
       "      <td>NaN</td>\n",
       "      <td>NaN</td>\n",
       "      <td>NaN</td>\n",
       "    </tr>\n",
       "    <tr>\n",
       "      <th>min</th>\n",
       "      <td>-73.981159</td>\n",
       "      <td>40.764911</td>\n",
       "      <td>NaN</td>\n",
       "      <td>NaN</td>\n",
       "      <td>NaN</td>\n",
       "      <td>1.006202e+07</td>\n",
       "      <td>1.000000</td>\n",
       "      <td>NaN</td>\n",
       "      <td>NaN</td>\n",
       "      <td>NaN</td>\n",
       "      <td>...</td>\n",
       "      <td>NaN</td>\n",
       "      <td>NaN</td>\n",
       "      <td>NaN</td>\n",
       "      <td>NaN</td>\n",
       "      <td>NaN</td>\n",
       "      <td>NaN</td>\n",
       "      <td>NaN</td>\n",
       "      <td>NaN</td>\n",
       "      <td>NaN</td>\n",
       "      <td>NaN</td>\n",
       "    </tr>\n",
       "    <tr>\n",
       "      <th>25%</th>\n",
       "      <td>-73.973102</td>\n",
       "      <td>40.771676</td>\n",
       "      <td>NaN</td>\n",
       "      <td>NaN</td>\n",
       "      <td>NaN</td>\n",
       "      <td>1.008202e+07</td>\n",
       "      <td>2.000000</td>\n",
       "      <td>NaN</td>\n",
       "      <td>NaN</td>\n",
       "      <td>NaN</td>\n",
       "      <td>...</td>\n",
       "      <td>NaN</td>\n",
       "      <td>NaN</td>\n",
       "      <td>NaN</td>\n",
       "      <td>NaN</td>\n",
       "      <td>NaN</td>\n",
       "      <td>NaN</td>\n",
       "      <td>NaN</td>\n",
       "      <td>NaN</td>\n",
       "      <td>NaN</td>\n",
       "      <td>NaN</td>\n",
       "    </tr>\n",
       "    <tr>\n",
       "      <th>50%</th>\n",
       "      <td>-73.968594</td>\n",
       "      <td>40.778166</td>\n",
       "      <td>NaN</td>\n",
       "      <td>NaN</td>\n",
       "      <td>NaN</td>\n",
       "      <td>1.012202e+07</td>\n",
       "      <td>3.000000</td>\n",
       "      <td>NaN</td>\n",
       "      <td>NaN</td>\n",
       "      <td>NaN</td>\n",
       "      <td>...</td>\n",
       "      <td>NaN</td>\n",
       "      <td>NaN</td>\n",
       "      <td>NaN</td>\n",
       "      <td>NaN</td>\n",
       "      <td>NaN</td>\n",
       "      <td>NaN</td>\n",
       "      <td>NaN</td>\n",
       "      <td>NaN</td>\n",
       "      <td>NaN</td>\n",
       "      <td>NaN</td>\n",
       "    </tr>\n",
       "    <tr>\n",
       "      <th>75%</th>\n",
       "      <td>-73.960189</td>\n",
       "      <td>40.791219</td>\n",
       "      <td>NaN</td>\n",
       "      <td>NaN</td>\n",
       "      <td>NaN</td>\n",
       "      <td>1.014202e+07</td>\n",
       "      <td>6.000000</td>\n",
       "      <td>NaN</td>\n",
       "      <td>NaN</td>\n",
       "      <td>NaN</td>\n",
       "      <td>...</td>\n",
       "      <td>NaN</td>\n",
       "      <td>NaN</td>\n",
       "      <td>NaN</td>\n",
       "      <td>NaN</td>\n",
       "      <td>NaN</td>\n",
       "      <td>NaN</td>\n",
       "      <td>NaN</td>\n",
       "      <td>NaN</td>\n",
       "      <td>NaN</td>\n",
       "      <td>NaN</td>\n",
       "    </tr>\n",
       "    <tr>\n",
       "      <th>max</th>\n",
       "      <td>-73.949722</td>\n",
       "      <td>40.800119</td>\n",
       "      <td>NaN</td>\n",
       "      <td>NaN</td>\n",
       "      <td>NaN</td>\n",
       "      <td>1.020202e+07</td>\n",
       "      <td>23.000000</td>\n",
       "      <td>NaN</td>\n",
       "      <td>NaN</td>\n",
       "      <td>NaN</td>\n",
       "      <td>...</td>\n",
       "      <td>NaN</td>\n",
       "      <td>NaN</td>\n",
       "      <td>NaN</td>\n",
       "      <td>NaN</td>\n",
       "      <td>NaN</td>\n",
       "      <td>NaN</td>\n",
       "      <td>NaN</td>\n",
       "      <td>NaN</td>\n",
       "      <td>NaN</td>\n",
       "      <td>NaN</td>\n",
       "    </tr>\n",
       "  </tbody>\n",
       "</table>\n",
       "<p>11 rows × 31 columns</p>\n",
       "</div>"
      ]
     },
     "execution_count": 220,
     "metadata": {},
     "output_type": "execute_result"
    }
   ],
   "execution_count": 220
  },
  {
   "metadata": {
    "ExecuteTime": {
     "end_time": "2025-10-29T11:35:44.645741Z",
     "start_time": "2025-10-29T11:35:44.642007Z"
    }
   },
   "cell_type": "code",
   "source": [
    "# this is just extra pre-processing. It didn't work well in the end\n",
    "df.above_ground_sighter = df.above_ground_sighter == 'FALSE'"
   ],
   "id": "436f1db953108b66",
   "outputs": [],
   "execution_count": 221
  },
  {
   "metadata": {},
   "cell_type": "markdown",
   "source": [
    "## Exploratory data analysis\n",
    "Inspect the dataset some more, using in particular `dtypes` or `describe`. Find out how often the different behaviours were observed!"
   ],
   "id": "fa76a053afb15adf"
  },
  {
   "metadata": {
    "ExecuteTime": {
     "end_time": "2025-10-29T11:35:44.700564Z",
     "start_time": "2025-10-29T11:35:44.697168Z"
    }
   },
   "cell_type": "code",
   "source": [
    "# using dtypes\n",
    "print(df.dtypes)"
   ],
   "id": "8277ee607f3d2d40",
   "outputs": [
    {
     "name": "stdout",
     "output_type": "stream",
     "text": [
      "x                             float64\n",
      "y                             float64\n",
      "unique_squirrel_id             object\n",
      "hectare                        object\n",
      "shift                          object\n",
      "date                            int64\n",
      "hectare_squirrel_number         int64\n",
      "age                            object\n",
      "primary_fur_color              object\n",
      "highlight_fur_color            object\n",
      "combination_of_primary_and     object\n",
      "color_notes                    object\n",
      "location                       object\n",
      "above_ground_sighter             bool\n",
      "specific_location              object\n",
      "running                          bool\n",
      "chasing                          bool\n",
      "climbing                         bool\n",
      "eating                           bool\n",
      "foraging                         bool\n",
      "other_activities               object\n",
      "kuks                             bool\n",
      "quaas                            bool\n",
      "moans                            bool\n",
      "tail_flags                       bool\n",
      "tail_twitches                    bool\n",
      "approaches                       bool\n",
      "indifferent                      bool\n",
      "runs_from                        bool\n",
      "other_interactions             object\n",
      "geocoded_column                object\n",
      "dtype: object\n"
     ]
    }
   ],
   "execution_count": 222
  },
  {
   "metadata": {
    "ExecuteTime": {
     "end_time": "2025-10-29T11:35:44.922949Z",
     "start_time": "2025-10-29T11:35:44.893252Z"
    }
   },
   "cell_type": "code",
   "source": [
    "# using pandas describe\n",
    "df.describe(include='all')"
   ],
   "id": "ea192885dd49e889",
   "outputs": [
    {
     "data": {
      "text/plain": [
       "                  x            y unique_squirrel_id hectare shift  \\\n",
       "count   3023.000000  3023.000000               3023    3023  3023   \n",
       "unique          NaN          NaN               3018     339     2   \n",
       "top             NaN          NaN      7D-PM-1010-01     14D    PM   \n",
       "freq            NaN          NaN                  2      32  1676   \n",
       "mean     -73.967184    40.780853                NaN     NaN   NaN   \n",
       "std        0.007726     0.010285                NaN     NaN   NaN   \n",
       "min      -73.981159    40.764911                NaN     NaN   NaN   \n",
       "25%      -73.973102    40.771676                NaN     NaN   NaN   \n",
       "50%      -73.968594    40.778166                NaN     NaN   NaN   \n",
       "75%      -73.960189    40.791219                NaN     NaN   NaN   \n",
       "max      -73.949722    40.800119                NaN     NaN   NaN   \n",
       "\n",
       "                date  hectare_squirrel_number    age primary_fur_color  \\\n",
       "count   3.023000e+03              3023.000000   2902              2968   \n",
       "unique           NaN                      NaN      3                 3   \n",
       "top              NaN                      NaN  Adult              Gray   \n",
       "freq             NaN                      NaN   2568              2473   \n",
       "mean    1.011949e+07                 4.123718    NaN               NaN   \n",
       "std     4.246671e+04                 3.096492    NaN               NaN   \n",
       "min     1.006202e+07                 1.000000    NaN               NaN   \n",
       "25%     1.008202e+07                 2.000000    NaN               NaN   \n",
       "50%     1.012202e+07                 3.000000    NaN               NaN   \n",
       "75%     1.014202e+07                 6.000000    NaN               NaN   \n",
       "max     1.020202e+07                23.000000    NaN               NaN   \n",
       "\n",
       "       highlight_fur_color  ...   kuks  quaas  moans tail_flags tail_twitches  \\\n",
       "count                 1937  ...   3023   3023   3023       3023          3023   \n",
       "unique                  10  ...      2      2      2          2             2   \n",
       "top               Cinnamon  ...  False  False  False      False         False   \n",
       "freq                   767  ...   2921   2973   3020       2868          2589   \n",
       "mean                   NaN  ...    NaN    NaN    NaN        NaN           NaN   \n",
       "std                    NaN  ...    NaN    NaN    NaN        NaN           NaN   \n",
       "min                    NaN  ...    NaN    NaN    NaN        NaN           NaN   \n",
       "25%                    NaN  ...    NaN    NaN    NaN        NaN           NaN   \n",
       "50%                    NaN  ...    NaN    NaN    NaN        NaN           NaN   \n",
       "75%                    NaN  ...    NaN    NaN    NaN        NaN           NaN   \n",
       "max                    NaN  ...    NaN    NaN    NaN        NaN           NaN   \n",
       "\n",
       "       approaches indifferent runs_from other_interactions  \\\n",
       "count        3023        3023      3023                240   \n",
       "unique          2           2         2                197   \n",
       "top         False       False     False    runs from (dog)   \n",
       "freq         2845        1569      2345                  9   \n",
       "mean          NaN         NaN       NaN                NaN   \n",
       "std           NaN         NaN       NaN                NaN   \n",
       "min           NaN         NaN       NaN                NaN   \n",
       "25%           NaN         NaN       NaN                NaN   \n",
       "50%           NaN         NaN       NaN                NaN   \n",
       "75%           NaN         NaN       NaN                NaN   \n",
       "max           NaN         NaN       NaN                NaN   \n",
       "\n",
       "                                   geocoded_column  \n",
       "count                                         3023  \n",
       "unique                                        3023  \n",
       "top     POINT (-73.9561344937861 40.7940823884086)  \n",
       "freq                                             1  \n",
       "mean                                           NaN  \n",
       "std                                            NaN  \n",
       "min                                            NaN  \n",
       "25%                                            NaN  \n",
       "50%                                            NaN  \n",
       "75%                                            NaN  \n",
       "max                                            NaN  \n",
       "\n",
       "[11 rows x 31 columns]"
      ],
      "text/html": [
       "<div>\n",
       "<style scoped>\n",
       "    .dataframe tbody tr th:only-of-type {\n",
       "        vertical-align: middle;\n",
       "    }\n",
       "\n",
       "    .dataframe tbody tr th {\n",
       "        vertical-align: top;\n",
       "    }\n",
       "\n",
       "    .dataframe thead th {\n",
       "        text-align: right;\n",
       "    }\n",
       "</style>\n",
       "<table border=\"1\" class=\"dataframe\">\n",
       "  <thead>\n",
       "    <tr style=\"text-align: right;\">\n",
       "      <th></th>\n",
       "      <th>x</th>\n",
       "      <th>y</th>\n",
       "      <th>unique_squirrel_id</th>\n",
       "      <th>hectare</th>\n",
       "      <th>shift</th>\n",
       "      <th>date</th>\n",
       "      <th>hectare_squirrel_number</th>\n",
       "      <th>age</th>\n",
       "      <th>primary_fur_color</th>\n",
       "      <th>highlight_fur_color</th>\n",
       "      <th>...</th>\n",
       "      <th>kuks</th>\n",
       "      <th>quaas</th>\n",
       "      <th>moans</th>\n",
       "      <th>tail_flags</th>\n",
       "      <th>tail_twitches</th>\n",
       "      <th>approaches</th>\n",
       "      <th>indifferent</th>\n",
       "      <th>runs_from</th>\n",
       "      <th>other_interactions</th>\n",
       "      <th>geocoded_column</th>\n",
       "    </tr>\n",
       "  </thead>\n",
       "  <tbody>\n",
       "    <tr>\n",
       "      <th>count</th>\n",
       "      <td>3023.000000</td>\n",
       "      <td>3023.000000</td>\n",
       "      <td>3023</td>\n",
       "      <td>3023</td>\n",
       "      <td>3023</td>\n",
       "      <td>3.023000e+03</td>\n",
       "      <td>3023.000000</td>\n",
       "      <td>2902</td>\n",
       "      <td>2968</td>\n",
       "      <td>1937</td>\n",
       "      <td>...</td>\n",
       "      <td>3023</td>\n",
       "      <td>3023</td>\n",
       "      <td>3023</td>\n",
       "      <td>3023</td>\n",
       "      <td>3023</td>\n",
       "      <td>3023</td>\n",
       "      <td>3023</td>\n",
       "      <td>3023</td>\n",
       "      <td>240</td>\n",
       "      <td>3023</td>\n",
       "    </tr>\n",
       "    <tr>\n",
       "      <th>unique</th>\n",
       "      <td>NaN</td>\n",
       "      <td>NaN</td>\n",
       "      <td>3018</td>\n",
       "      <td>339</td>\n",
       "      <td>2</td>\n",
       "      <td>NaN</td>\n",
       "      <td>NaN</td>\n",
       "      <td>3</td>\n",
       "      <td>3</td>\n",
       "      <td>10</td>\n",
       "      <td>...</td>\n",
       "      <td>2</td>\n",
       "      <td>2</td>\n",
       "      <td>2</td>\n",
       "      <td>2</td>\n",
       "      <td>2</td>\n",
       "      <td>2</td>\n",
       "      <td>2</td>\n",
       "      <td>2</td>\n",
       "      <td>197</td>\n",
       "      <td>3023</td>\n",
       "    </tr>\n",
       "    <tr>\n",
       "      <th>top</th>\n",
       "      <td>NaN</td>\n",
       "      <td>NaN</td>\n",
       "      <td>7D-PM-1010-01</td>\n",
       "      <td>14D</td>\n",
       "      <td>PM</td>\n",
       "      <td>NaN</td>\n",
       "      <td>NaN</td>\n",
       "      <td>Adult</td>\n",
       "      <td>Gray</td>\n",
       "      <td>Cinnamon</td>\n",
       "      <td>...</td>\n",
       "      <td>False</td>\n",
       "      <td>False</td>\n",
       "      <td>False</td>\n",
       "      <td>False</td>\n",
       "      <td>False</td>\n",
       "      <td>False</td>\n",
       "      <td>False</td>\n",
       "      <td>False</td>\n",
       "      <td>runs from (dog)</td>\n",
       "      <td>POINT (-73.9561344937861 40.7940823884086)</td>\n",
       "    </tr>\n",
       "    <tr>\n",
       "      <th>freq</th>\n",
       "      <td>NaN</td>\n",
       "      <td>NaN</td>\n",
       "      <td>2</td>\n",
       "      <td>32</td>\n",
       "      <td>1676</td>\n",
       "      <td>NaN</td>\n",
       "      <td>NaN</td>\n",
       "      <td>2568</td>\n",
       "      <td>2473</td>\n",
       "      <td>767</td>\n",
       "      <td>...</td>\n",
       "      <td>2921</td>\n",
       "      <td>2973</td>\n",
       "      <td>3020</td>\n",
       "      <td>2868</td>\n",
       "      <td>2589</td>\n",
       "      <td>2845</td>\n",
       "      <td>1569</td>\n",
       "      <td>2345</td>\n",
       "      <td>9</td>\n",
       "      <td>1</td>\n",
       "    </tr>\n",
       "    <tr>\n",
       "      <th>mean</th>\n",
       "      <td>-73.967184</td>\n",
       "      <td>40.780853</td>\n",
       "      <td>NaN</td>\n",
       "      <td>NaN</td>\n",
       "      <td>NaN</td>\n",
       "      <td>1.011949e+07</td>\n",
       "      <td>4.123718</td>\n",
       "      <td>NaN</td>\n",
       "      <td>NaN</td>\n",
       "      <td>NaN</td>\n",
       "      <td>...</td>\n",
       "      <td>NaN</td>\n",
       "      <td>NaN</td>\n",
       "      <td>NaN</td>\n",
       "      <td>NaN</td>\n",
       "      <td>NaN</td>\n",
       "      <td>NaN</td>\n",
       "      <td>NaN</td>\n",
       "      <td>NaN</td>\n",
       "      <td>NaN</td>\n",
       "      <td>NaN</td>\n",
       "    </tr>\n",
       "    <tr>\n",
       "      <th>std</th>\n",
       "      <td>0.007726</td>\n",
       "      <td>0.010285</td>\n",
       "      <td>NaN</td>\n",
       "      <td>NaN</td>\n",
       "      <td>NaN</td>\n",
       "      <td>4.246671e+04</td>\n",
       "      <td>3.096492</td>\n",
       "      <td>NaN</td>\n",
       "      <td>NaN</td>\n",
       "      <td>NaN</td>\n",
       "      <td>...</td>\n",
       "      <td>NaN</td>\n",
       "      <td>NaN</td>\n",
       "      <td>NaN</td>\n",
       "      <td>NaN</td>\n",
       "      <td>NaN</td>\n",
       "      <td>NaN</td>\n",
       "      <td>NaN</td>\n",
       "      <td>NaN</td>\n",
       "      <td>NaN</td>\n",
       "      <td>NaN</td>\n",
       "    </tr>\n",
       "    <tr>\n",
       "      <th>min</th>\n",
       "      <td>-73.981159</td>\n",
       "      <td>40.764911</td>\n",
       "      <td>NaN</td>\n",
       "      <td>NaN</td>\n",
       "      <td>NaN</td>\n",
       "      <td>1.006202e+07</td>\n",
       "      <td>1.000000</td>\n",
       "      <td>NaN</td>\n",
       "      <td>NaN</td>\n",
       "      <td>NaN</td>\n",
       "      <td>...</td>\n",
       "      <td>NaN</td>\n",
       "      <td>NaN</td>\n",
       "      <td>NaN</td>\n",
       "      <td>NaN</td>\n",
       "      <td>NaN</td>\n",
       "      <td>NaN</td>\n",
       "      <td>NaN</td>\n",
       "      <td>NaN</td>\n",
       "      <td>NaN</td>\n",
       "      <td>NaN</td>\n",
       "    </tr>\n",
       "    <tr>\n",
       "      <th>25%</th>\n",
       "      <td>-73.973102</td>\n",
       "      <td>40.771676</td>\n",
       "      <td>NaN</td>\n",
       "      <td>NaN</td>\n",
       "      <td>NaN</td>\n",
       "      <td>1.008202e+07</td>\n",
       "      <td>2.000000</td>\n",
       "      <td>NaN</td>\n",
       "      <td>NaN</td>\n",
       "      <td>NaN</td>\n",
       "      <td>...</td>\n",
       "      <td>NaN</td>\n",
       "      <td>NaN</td>\n",
       "      <td>NaN</td>\n",
       "      <td>NaN</td>\n",
       "      <td>NaN</td>\n",
       "      <td>NaN</td>\n",
       "      <td>NaN</td>\n",
       "      <td>NaN</td>\n",
       "      <td>NaN</td>\n",
       "      <td>NaN</td>\n",
       "    </tr>\n",
       "    <tr>\n",
       "      <th>50%</th>\n",
       "      <td>-73.968594</td>\n",
       "      <td>40.778166</td>\n",
       "      <td>NaN</td>\n",
       "      <td>NaN</td>\n",
       "      <td>NaN</td>\n",
       "      <td>1.012202e+07</td>\n",
       "      <td>3.000000</td>\n",
       "      <td>NaN</td>\n",
       "      <td>NaN</td>\n",
       "      <td>NaN</td>\n",
       "      <td>...</td>\n",
       "      <td>NaN</td>\n",
       "      <td>NaN</td>\n",
       "      <td>NaN</td>\n",
       "      <td>NaN</td>\n",
       "      <td>NaN</td>\n",
       "      <td>NaN</td>\n",
       "      <td>NaN</td>\n",
       "      <td>NaN</td>\n",
       "      <td>NaN</td>\n",
       "      <td>NaN</td>\n",
       "    </tr>\n",
       "    <tr>\n",
       "      <th>75%</th>\n",
       "      <td>-73.960189</td>\n",
       "      <td>40.791219</td>\n",
       "      <td>NaN</td>\n",
       "      <td>NaN</td>\n",
       "      <td>NaN</td>\n",
       "      <td>1.014202e+07</td>\n",
       "      <td>6.000000</td>\n",
       "      <td>NaN</td>\n",
       "      <td>NaN</td>\n",
       "      <td>NaN</td>\n",
       "      <td>...</td>\n",
       "      <td>NaN</td>\n",
       "      <td>NaN</td>\n",
       "      <td>NaN</td>\n",
       "      <td>NaN</td>\n",
       "      <td>NaN</td>\n",
       "      <td>NaN</td>\n",
       "      <td>NaN</td>\n",
       "      <td>NaN</td>\n",
       "      <td>NaN</td>\n",
       "      <td>NaN</td>\n",
       "    </tr>\n",
       "    <tr>\n",
       "      <th>max</th>\n",
       "      <td>-73.949722</td>\n",
       "      <td>40.800119</td>\n",
       "      <td>NaN</td>\n",
       "      <td>NaN</td>\n",
       "      <td>NaN</td>\n",
       "      <td>1.020202e+07</td>\n",
       "      <td>23.000000</td>\n",
       "      <td>NaN</td>\n",
       "      <td>NaN</td>\n",
       "      <td>NaN</td>\n",
       "      <td>...</td>\n",
       "      <td>NaN</td>\n",
       "      <td>NaN</td>\n",
       "      <td>NaN</td>\n",
       "      <td>NaN</td>\n",
       "      <td>NaN</td>\n",
       "      <td>NaN</td>\n",
       "      <td>NaN</td>\n",
       "      <td>NaN</td>\n",
       "      <td>NaN</td>\n",
       "      <td>NaN</td>\n",
       "    </tr>\n",
       "  </tbody>\n",
       "</table>\n",
       "<p>11 rows × 31 columns</p>\n",
       "</div>"
      ]
     },
     "execution_count": 223,
     "metadata": {},
     "output_type": "execute_result"
    }
   ],
   "execution_count": 223
  },
  {
   "metadata": {
    "ExecuteTime": {
     "end_time": "2025-10-29T11:35:45.049378Z",
     "start_time": "2025-10-29T11:35:45.037778Z"
    }
   },
   "cell_type": "code",
   "source": "df.describe()",
   "id": "97f3dc3f3fbe44b",
   "outputs": [
    {
     "data": {
      "text/plain": [
       "                 x            y          date  hectare_squirrel_number\n",
       "count  3023.000000  3023.000000  3.023000e+03              3023.000000\n",
       "mean    -73.967184    40.780853  1.011949e+07                 4.123718\n",
       "std       0.007726     0.010285  4.246671e+04                 3.096492\n",
       "min     -73.981159    40.764911  1.006202e+07                 1.000000\n",
       "25%     -73.973102    40.771676  1.008202e+07                 2.000000\n",
       "50%     -73.968594    40.778166  1.012202e+07                 3.000000\n",
       "75%     -73.960189    40.791219  1.014202e+07                 6.000000\n",
       "max     -73.949722    40.800119  1.020202e+07                23.000000"
      ],
      "text/html": [
       "<div>\n",
       "<style scoped>\n",
       "    .dataframe tbody tr th:only-of-type {\n",
       "        vertical-align: middle;\n",
       "    }\n",
       "\n",
       "    .dataframe tbody tr th {\n",
       "        vertical-align: top;\n",
       "    }\n",
       "\n",
       "    .dataframe thead th {\n",
       "        text-align: right;\n",
       "    }\n",
       "</style>\n",
       "<table border=\"1\" class=\"dataframe\">\n",
       "  <thead>\n",
       "    <tr style=\"text-align: right;\">\n",
       "      <th></th>\n",
       "      <th>x</th>\n",
       "      <th>y</th>\n",
       "      <th>date</th>\n",
       "      <th>hectare_squirrel_number</th>\n",
       "    </tr>\n",
       "  </thead>\n",
       "  <tbody>\n",
       "    <tr>\n",
       "      <th>count</th>\n",
       "      <td>3023.000000</td>\n",
       "      <td>3023.000000</td>\n",
       "      <td>3.023000e+03</td>\n",
       "      <td>3023.000000</td>\n",
       "    </tr>\n",
       "    <tr>\n",
       "      <th>mean</th>\n",
       "      <td>-73.967184</td>\n",
       "      <td>40.780853</td>\n",
       "      <td>1.011949e+07</td>\n",
       "      <td>4.123718</td>\n",
       "    </tr>\n",
       "    <tr>\n",
       "      <th>std</th>\n",
       "      <td>0.007726</td>\n",
       "      <td>0.010285</td>\n",
       "      <td>4.246671e+04</td>\n",
       "      <td>3.096492</td>\n",
       "    </tr>\n",
       "    <tr>\n",
       "      <th>min</th>\n",
       "      <td>-73.981159</td>\n",
       "      <td>40.764911</td>\n",
       "      <td>1.006202e+07</td>\n",
       "      <td>1.000000</td>\n",
       "    </tr>\n",
       "    <tr>\n",
       "      <th>25%</th>\n",
       "      <td>-73.973102</td>\n",
       "      <td>40.771676</td>\n",
       "      <td>1.008202e+07</td>\n",
       "      <td>2.000000</td>\n",
       "    </tr>\n",
       "    <tr>\n",
       "      <th>50%</th>\n",
       "      <td>-73.968594</td>\n",
       "      <td>40.778166</td>\n",
       "      <td>1.012202e+07</td>\n",
       "      <td>3.000000</td>\n",
       "    </tr>\n",
       "    <tr>\n",
       "      <th>75%</th>\n",
       "      <td>-73.960189</td>\n",
       "      <td>40.791219</td>\n",
       "      <td>1.014202e+07</td>\n",
       "      <td>6.000000</td>\n",
       "    </tr>\n",
       "    <tr>\n",
       "      <th>max</th>\n",
       "      <td>-73.949722</td>\n",
       "      <td>40.800119</td>\n",
       "      <td>1.020202e+07</td>\n",
       "      <td>23.000000</td>\n",
       "    </tr>\n",
       "  </tbody>\n",
       "</table>\n",
       "</div>"
      ]
     },
     "execution_count": 224,
     "metadata": {},
     "output_type": "execute_result"
    }
   ],
   "execution_count": 224
  },
  {
   "metadata": {},
   "cell_type": "markdown",
   "source": "If you want, you can draw a `pairplot` – but it will be very big!",
   "id": "fbd381fa3b423f2f"
  },
  {
   "metadata": {
    "ExecuteTime": {
     "end_time": "2025-10-29T11:35:45.222462Z",
     "start_time": "2025-10-29T11:35:45.217419Z"
    }
   },
   "cell_type": "code",
   "source": "sns.set_theme(style='white')",
   "id": "5394e495a32dfa82",
   "outputs": [],
   "execution_count": 225
  },
  {
   "metadata": {},
   "cell_type": "markdown",
   "source": "Draw sighting locations using `sns.relplot` or `sns.jointplot`, then explore the distributions of a few interesting features and the `hue` parameter.",
   "id": "790cfc80ec41192d"
  },
  {
   "metadata": {
    "ExecuteTime": {
     "end_time": "2025-10-29T11:35:45.588179Z",
     "start_time": "2025-10-29T11:35:45.271486Z"
    }
   },
   "cell_type": "code",
   "source": [
    "# the primary_fur_color is probably interesting\n",
    "sns.relplot(data=df,\n",
    "            x='x',\n",
    "            y='y',\n",
    "            hue='primary_fur_color',\n",
    "            )"
   ],
   "id": "18ad227d81f74460",
   "outputs": [
    {
     "data": {
      "text/plain": [
       "<seaborn.axisgrid.FacetGrid at 0x1571568a0>"
      ]
     },
     "execution_count": 226,
     "metadata": {},
     "output_type": "execute_result"
    },
    {
     "data": {
      "text/plain": [
       "<Figure size 642.097x500 with 1 Axes>"
      ],
      "image/png": "[encoded data removed]"
     },
     "metadata": {},
     "output_type": "display_data",
     "jetTransient": {
      "display_id": null
     }
    }
   ],
   "execution_count": 226
  },
  {
   "metadata": {
    "ExecuteTime": {
     "end_time": "2025-10-29T11:35:46.239385Z",
     "start_time": "2025-10-29T11:35:45.754041Z"
    }
   },
   "cell_type": "code",
   "source": [
    "# here is a more complex plot that also shows the shift\n",
    "f = sns.displot(data=df,\n",
    "                # kind='kde',\n",
    "                x='x',\n",
    "                y='y',\n",
    "                row='shift',\n",
    "                col='primary_fur_color',\n",
    "                height=2.8,\n",
    "                facet_kws=dict(margin_titles=True)\n",
    "                )"
   ],
   "id": "dcb9d2b23fae338c",
   "outputs": [
    {
     "data": {
      "text/plain": [
       "<Figure size 840x560 with 6 Axes>"
      ],
      "image/png": "[encoded data removed]"
     },
     "metadata": {},
     "output_type": "display_data",
     "jetTransient": {
      "display_id": null
     }
    }
   ],
   "execution_count": 227
  },
  {
   "metadata": {
    "ExecuteTime": {
     "end_time": "2025-10-29T11:35:46.493186Z",
     "start_time": "2025-10-29T11:35:46.246334Z"
    }
   },
   "cell_type": "code",
   "source": [
    "# a jointplot also shows the marginal distributions\n",
    "sns.jointplot(data=df,\n",
    "              x='x',\n",
    "              y='y',\n",
    "              hue='primary_fur_color',\n",
    "              )"
   ],
   "id": "60c840b437dc23f1",
   "outputs": [
    {
     "data": {
      "text/plain": [
       "<seaborn.axisgrid.JointGrid at 0x153e21e80>"
      ]
     },
     "execution_count": 228,
     "metadata": {},
     "output_type": "execute_result"
    },
    {
     "data": {
      "text/plain": [
       "<Figure size 600x600 with 3 Axes>"
      ],
      "image/png": "[encoded data removed]"
     },
     "metadata": {},
     "output_type": "display_data",
     "jetTransient": {
      "display_id": null
     }
    }
   ],
   "execution_count": 228
  },
  {
   "metadata": {},
   "cell_type": "markdown",
   "source": [
    "## Feature Cleaning / Encoding\n",
    "This dataset definitely needs some cleaning. It has a mix of categorical, boolean and numerical values; a lot of `NA`s and some string columns with rare annotation."
   ],
   "id": "e6c70c9b062377b5"
  },
  {
   "metadata": {
    "ExecuteTime": {
     "end_time": "2025-10-29T11:35:46.504863Z",
     "start_time": "2025-10-29T11:35:46.499288Z"
    }
   },
   "cell_type": "code",
   "source": [
    "def prepare_dataset(df: pd.DataFrame,\n",
    "                    target: str = 'primary_fur_color',\n",
    "                    ) -> tuple[np.array, np.array, OneHotEncoder]:\n",
    "    # make a copy so we don't modify the original dataframe'\n",
    "    df = df.copy()\n",
    "\n",
    "    if target not in df.columns:\n",
    "        raise ValueError(f'column {target} not found in dataset!')\n",
    "\n",
    "    # drop rows where the target column isn't defined\n",
    "    df = df.dropna(subset=[target])\n",
    "    print(f'{len(df)} rows remaining')\n",
    "\n",
    "    # not all columns can be used as training features.\n",
    "    # we also treat categoricals and booleans differently.\n",
    "    cat_cols = ['age', 'hectare', 'shift']\n",
    "    bool_cols = [\n",
    "        'running', 'chasing', 'climbing', 'eating', 'foraging',\n",
    "        'kuks', 'quaas', 'moans', 'tail_flags', 'tail_twitches',\n",
    "        'approaches', 'indifferent', 'runs_from', 'above_ground_sighter'\n",
    "    ]\n",
    "\n",
    "    ok_features = [c for c in [\n",
    "        'hectare', 'shift', 'primary_fur_color',\n",
    "        'highlight_fur_color', 'specific_location',\n",
    "        'running', 'chasing', 'climbing', 'eating',\n",
    "        'foraging', 'kuks', 'quaas', 'moans',\n",
    "        'tail_flags', 'tail_twitches', 'approaches',\n",
    "        'indifferent', 'runs_from',\n",
    "    ] if c in df.columns]\n",
    "\n",
    "    # Keep only available columns\n",
    "    cat_cols = [c for c in cat_cols if c in df.columns and c != target]\n",
    "    bool_cols = [c for c in bool_cols if c in df.columns and c != target]\n",
    "\n",
    "    # fill booleans with False, then convert to int\n",
    "    df[bool_cols] = df[bool_cols].fillna(False).astype(int)\n",
    "\n",
    "    # encoder for categorical features\n",
    "    preprocessor = ColumnTransformer(transformers=[\n",
    "        ('bools', 'passthrough', bool_cols),\n",
    "        ('cats', OneHotEncoder(handle_unknown='ignore'), cat_cols)\n",
    "    ])\n",
    "\n",
    "    # encode and transform features\n",
    "    X = preprocessor.fit_transform(df)\n",
    "\n",
    "    # encode the target column\n",
    "    y_encoder = OneHotEncoder(sparse_output=False, handle_unknown='ignore')\n",
    "    y = y_encoder.fit_transform(df[[target]])\n",
    "\n",
    "    return X, y, y_encoder\n"
   ],
   "id": "7eafa3ef788c1d1f",
   "outputs": [],
   "execution_count": 229
  },
  {
   "metadata": {
    "ExecuteTime": {
     "end_time": "2025-10-29T11:35:46.539935Z",
     "start_time": "2025-10-29T11:35:46.521515Z"
    }
   },
   "cell_type": "code",
   "source": "X, y, y_encoder = prepare_dataset(df, target='primary_fur_color')  # 'primary_fur_color' 'shift', 'age'",
   "id": "1caea3336b347f78",
   "outputs": [
    {
     "name": "stdout",
     "output_type": "stream",
     "text": [
      "2968 rows remaining\n"
     ]
    }
   ],
   "execution_count": 230
  },
  {
   "metadata": {
    "ExecuteTime": {
     "end_time": "2025-10-29T11:35:46.569450Z",
     "start_time": "2025-10-29T11:35:46.553529Z"
    }
   },
   "cell_type": "code",
   "source": [
    "# finally make a train-test-split\n",
    "X_train, X_test, y_train, y_test = train_test_split(\n",
    "    X, y, test_size=.15, random_state=42, stratify=y,)\n",
    "\n",
    "print(f'train: {X_train.shape}\\ntest:  {X_test.shape}')\n",
    "print('Classes:', y_encoder.categories_[0])"
   ],
   "id": "4e0e76811ec1c99f",
   "outputs": [
    {
     "name": "stdout",
     "output_type": "stream",
     "text": [
      "train: (2522, 358)\n",
      "test:  (446, 358)\n",
      "Classes: ['Black' 'Cinnamon' 'Gray']\n"
     ]
    }
   ],
   "execution_count": 231
  },
  {
   "metadata": {
    "ExecuteTime": {
     "end_time": "2025-10-29T11:35:46.580611Z",
     "start_time": "2025-10-29T11:35:46.579190Z"
    }
   },
   "cell_type": "code",
   "source": "",
   "id": "10d2179e262b8f25",
   "outputs": [],
   "execution_count": null
  },
  {
   "metadata": {},
   "cell_type": "markdown",
   "source": "### Reproducibility",
   "id": "c03b3025df569317"
  },
  {
   "metadata": {
    "ExecuteTime": {
     "end_time": "2025-10-29T11:35:46.607408Z",
     "start_time": "2025-10-29T11:35:46.602217Z"
    }
   },
   "cell_type": "code",
   "source": [
    "from numpy.random import seed\n",
    "from tensorflow.random import set_seed\n",
    "seed(1)\n",
    "set_seed(2)"
   ],
   "id": "6962ebccd5ef810f",
   "outputs": [],
   "execution_count": 232
  },
  {
   "metadata": {},
   "cell_type": "markdown",
   "source": "## Predict Squirrel Fur Color",
   "id": "5800ffcb413a46e4"
  },
  {
   "metadata": {
    "ExecuteTime": {
     "end_time": "2025-10-29T11:35:46.666829Z",
     "start_time": "2025-10-29T11:35:46.620339Z"
    }
   },
   "cell_type": "code",
   "source": [
    "# this function sets up the model. You can make it as complex or simple as you want. In particular, feel free to try dropout, or try different sizes.\n",
    "def make_multiclass_model(input_shape, n_classes) -> keras.Model:\n",
    "    inputs = keras.Input(shape=input_shape)\n",
    "    dense1 = keras.layers.Dense(32, activation='relu')(inputs)\n",
    "    dense1 = keras.layers.Dropout(.1)(dense1)\n",
    "    dense2 = keras.layers.Dense(16, activation='relu')(dense1)\n",
    "    outputs = keras.layers.Dense(n_classes, activation='softmax')(dense2)\n",
    "    return keras.Model(inputs=inputs, outputs=outputs)\n",
    "\n",
    "# once your function is finished, you can build your model:\n",
    "model = make_multiclass_model((X_train.shape[1],), y_train.shape[1])\n",
    "# now compile it with the correct loss and optimizer:\n",
    "model.compile(optimizer='adam',\n",
    "              loss='categorical_crossentropy',\n",
    "              metrics=['accuracy'],\n",
    "              )\n",
    "model.summary()"
   ],
   "id": "d17fc213b7acfdda",
   "outputs": [
    {
     "data": {
      "text/plain": [
       "\u001B[1mModel: \"functional_9\"\u001B[0m\n"
      ],
      "text/html": [
       "<pre style=\"white-space:pre;overflow-x:auto;line-height:normal;font-family:Menlo,'DejaVu Sans Mono',consolas,'Courier New',monospace\"><span style=\"font-weight: bold\">Model: \"functional_9\"</span>\n",
       "</pre>\n"
      ]
     },
     "metadata": {},
     "output_type": "display_data",
     "jetTransient": {
      "display_id": null
     }
    },
    {
     "data": {
      "text/plain": [
       "┏━━━━━━━━━━━━━━━━━━━━━━━━━━━━━━━━━┳━━━━━━━━━━━━━━━━━━━━━━━━┳━━━━━━━━━━━━━━━┓\n",
       "┃\u001B[1m \u001B[0m\u001B[1mLayer (type)                   \u001B[0m\u001B[1m \u001B[0m┃\u001B[1m \u001B[0m\u001B[1mOutput Shape          \u001B[0m\u001B[1m \u001B[0m┃\u001B[1m \u001B[0m\u001B[1m      Param #\u001B[0m\u001B[1m \u001B[0m┃\n",
       "┡━━━━━━━━━━━━━━━━━━━━━━━━━━━━━━━━━╇━━━━━━━━━━━━━━━━━━━━━━━━╇━━━━━━━━━━━━━━━┩\n",
       "│ input_layer_9 (\u001B[38;5;33mInputLayer\u001B[0m)      │ (\u001B[38;5;45mNone\u001B[0m, \u001B[38;5;34m358\u001B[0m)            │             \u001B[38;5;34m0\u001B[0m │\n",
       "├─────────────────────────────────┼────────────────────────┼───────────────┤\n",
       "│ dense_27 (\u001B[38;5;33mDense\u001B[0m)                │ (\u001B[38;5;45mNone\u001B[0m, \u001B[38;5;34m32\u001B[0m)             │        \u001B[38;5;34m11,488\u001B[0m │\n",
       "├─────────────────────────────────┼────────────────────────┼───────────────┤\n",
       "│ dropout_9 (\u001B[38;5;33mDropout\u001B[0m)             │ (\u001B[38;5;45mNone\u001B[0m, \u001B[38;5;34m32\u001B[0m)             │             \u001B[38;5;34m0\u001B[0m │\n",
       "├─────────────────────────────────┼────────────────────────┼───────────────┤\n",
       "│ dense_28 (\u001B[38;5;33mDense\u001B[0m)                │ (\u001B[38;5;45mNone\u001B[0m, \u001B[38;5;34m16\u001B[0m)             │           \u001B[38;5;34m528\u001B[0m │\n",
       "├─────────────────────────────────┼────────────────────────┼───────────────┤\n",
       "│ dense_29 (\u001B[38;5;33mDense\u001B[0m)                │ (\u001B[38;5;45mNone\u001B[0m, \u001B[38;5;34m3\u001B[0m)              │            \u001B[38;5;34m51\u001B[0m │\n",
       "└─────────────────────────────────┴────────────────────────┴───────────────┘\n"
      ],
      "text/html": [
       "<pre style=\"white-space:pre;overflow-x:auto;line-height:normal;font-family:Menlo,'DejaVu Sans Mono',consolas,'Courier New',monospace\">┏━━━━━━━━━━━━━━━━━━━━━━━━━━━━━━━━━┳━━━━━━━━━━━━━━━━━━━━━━━━┳━━━━━━━━━━━━━━━┓\n",
       "┃<span style=\"font-weight: bold\"> Layer (type)                    </span>┃<span style=\"font-weight: bold\"> Output Shape           </span>┃<span style=\"font-weight: bold\">       Param # </span>┃\n",
       "┡━━━━━━━━━━━━━━━━━━━━━━━━━━━━━━━━━╇━━━━━━━━━━━━━━━━━━━━━━━━╇━━━━━━━━━━━━━━━┩\n",
       "│ input_layer_9 (<span style=\"color: #0087ff; text-decoration-color: #0087ff\">InputLayer</span>)      │ (<span style=\"color: #00d7ff; text-decoration-color: #00d7ff\">None</span>, <span style=\"color: #00af00; text-decoration-color: #00af00\">358</span>)            │             <span style=\"color: #00af00; text-decoration-color: #00af00\">0</span> │\n",
       "├─────────────────────────────────┼────────────────────────┼───────────────┤\n",
       "│ dense_27 (<span style=\"color: #0087ff; text-decoration-color: #0087ff\">Dense</span>)                │ (<span style=\"color: #00d7ff; text-decoration-color: #00d7ff\">None</span>, <span style=\"color: #00af00; text-decoration-color: #00af00\">32</span>)             │        <span style=\"color: #00af00; text-decoration-color: #00af00\">11,488</span> │\n",
       "├─────────────────────────────────┼────────────────────────┼───────────────┤\n",
       "│ dropout_9 (<span style=\"color: #0087ff; text-decoration-color: #0087ff\">Dropout</span>)             │ (<span style=\"color: #00d7ff; text-decoration-color: #00d7ff\">None</span>, <span style=\"color: #00af00; text-decoration-color: #00af00\">32</span>)             │             <span style=\"color: #00af00; text-decoration-color: #00af00\">0</span> │\n",
       "├─────────────────────────────────┼────────────────────────┼───────────────┤\n",
       "│ dense_28 (<span style=\"color: #0087ff; text-decoration-color: #0087ff\">Dense</span>)                │ (<span style=\"color: #00d7ff; text-decoration-color: #00d7ff\">None</span>, <span style=\"color: #00af00; text-decoration-color: #00af00\">16</span>)             │           <span style=\"color: #00af00; text-decoration-color: #00af00\">528</span> │\n",
       "├─────────────────────────────────┼────────────────────────┼───────────────┤\n",
       "│ dense_29 (<span style=\"color: #0087ff; text-decoration-color: #0087ff\">Dense</span>)                │ (<span style=\"color: #00d7ff; text-decoration-color: #00d7ff\">None</span>, <span style=\"color: #00af00; text-decoration-color: #00af00\">3</span>)              │            <span style=\"color: #00af00; text-decoration-color: #00af00\">51</span> │\n",
       "└─────────────────────────────────┴────────────────────────┴───────────────┘\n",
       "</pre>\n"
      ]
     },
     "metadata": {},
     "output_type": "display_data",
     "jetTransient": {
      "display_id": null
     }
    },
    {
     "data": {
      "text/plain": [
       "\u001B[1m Total params: \u001B[0m\u001B[38;5;34m12,067\u001B[0m (47.14 KB)\n"
      ],
      "text/html": [
       "<pre style=\"white-space:pre;overflow-x:auto;line-height:normal;font-family:Menlo,'DejaVu Sans Mono',consolas,'Courier New',monospace\"><span style=\"font-weight: bold\"> Total params: </span><span style=\"color: #00af00; text-decoration-color: #00af00\">12,067</span> (47.14 KB)\n",
       "</pre>\n"
      ]
     },
     "metadata": {},
     "output_type": "display_data",
     "jetTransient": {
      "display_id": null
     }
    },
    {
     "data": {
      "text/plain": [
       "\u001B[1m Trainable params: \u001B[0m\u001B[38;5;34m12,067\u001B[0m (47.14 KB)\n"
      ],
      "text/html": [
       "<pre style=\"white-space:pre;overflow-x:auto;line-height:normal;font-family:Menlo,'DejaVu Sans Mono',consolas,'Courier New',monospace\"><span style=\"font-weight: bold\"> Trainable params: </span><span style=\"color: #00af00; text-decoration-color: #00af00\">12,067</span> (47.14 KB)\n",
       "</pre>\n"
      ]
     },
     "metadata": {},
     "output_type": "display_data",
     "jetTransient": {
      "display_id": null
     }
    },
    {
     "data": {
      "text/plain": [
       "\u001B[1m Non-trainable params: \u001B[0m\u001B[38;5;34m0\u001B[0m (0.00 B)\n"
      ],
      "text/html": [
       "<pre style=\"white-space:pre;overflow-x:auto;line-height:normal;font-family:Menlo,'DejaVu Sans Mono',consolas,'Courier New',monospace\"><span style=\"font-weight: bold\"> Non-trainable params: </span><span style=\"color: #00af00; text-decoration-color: #00af00\">0</span> (0.00 B)\n",
       "</pre>\n"
      ]
     },
     "metadata": {},
     "output_type": "display_data",
     "jetTransient": {
      "display_id": null
     }
    }
   ],
   "execution_count": 233
  },
  {
   "metadata": {
    "ExecuteTime": {
     "end_time": "2025-10-29T11:36:03.135823Z",
     "start_time": "2025-10-29T11:35:46.695581Z"
    }
   },
   "cell_type": "code",
   "source": [
    "# train the model\n",
    "history = model.fit(X_train, y_train,\n",
    "                    batch_size=16,\n",
    "                    epochs=100,\n",
    "                    validation_split=.2,\n",
    "                    verbose=2)\n",
    "\n",
    "y_train_predict = model.predict(X_train)\n",
    "y_test_predict = model.predict(X_test)"
   ],
   "id": "9b1d257655c9300d",
   "outputs": [
    {
     "name": "stdout",
     "output_type": "stream",
     "text": [
      "Epoch 1/100\n",
      "127/127 - 2s - 15ms/step - accuracy: 0.8324 - loss: 0.6406 - val_accuracy: 0.8337 - val_loss: 0.5290\n",
      "Epoch 2/100\n",
      "127/127 - 0s - 2ms/step - accuracy: 0.8329 - loss: 0.5331 - val_accuracy: 0.8337 - val_loss: 0.5167\n",
      "Epoch 3/100\n",
      "127/127 - 0s - 1ms/step - accuracy: 0.8329 - loss: 0.5059 - val_accuracy: 0.8337 - val_loss: 0.5032\n",
      "Epoch 4/100\n",
      "127/127 - 0s - 1ms/step - accuracy: 0.8329 - loss: 0.4774 - val_accuracy: 0.8337 - val_loss: 0.4853\n",
      "Epoch 5/100\n",
      "127/127 - 0s - 1ms/step - accuracy: 0.8329 - loss: 0.4410 - val_accuracy: 0.8337 - val_loss: 0.4745\n",
      "Epoch 6/100\n",
      "127/127 - 0s - 2ms/step - accuracy: 0.8339 - loss: 0.4007 - val_accuracy: 0.8337 - val_loss: 0.4676\n",
      "Epoch 7/100\n",
      "127/127 - 0s - 1ms/step - accuracy: 0.8418 - loss: 0.3671 - val_accuracy: 0.8356 - val_loss: 0.4677\n",
      "Epoch 8/100\n",
      "127/127 - 0s - 1ms/step - accuracy: 0.8577 - loss: 0.3475 - val_accuracy: 0.8376 - val_loss: 0.4719\n",
      "Epoch 9/100\n",
      "127/127 - 0s - 1ms/step - accuracy: 0.8666 - loss: 0.3183 - val_accuracy: 0.8376 - val_loss: 0.4807\n",
      "Epoch 10/100\n",
      "127/127 - 0s - 1ms/step - accuracy: 0.8746 - loss: 0.2934 - val_accuracy: 0.8337 - val_loss: 0.4910\n",
      "Epoch 11/100\n",
      "127/127 - 0s - 1ms/step - accuracy: 0.8875 - loss: 0.2712 - val_accuracy: 0.8238 - val_loss: 0.5134\n",
      "Epoch 12/100\n",
      "127/127 - 0s - 1ms/step - accuracy: 0.8949 - loss: 0.2517 - val_accuracy: 0.8218 - val_loss: 0.5284\n",
      "Epoch 13/100\n",
      "127/127 - 0s - 2ms/step - accuracy: 0.8984 - loss: 0.2408 - val_accuracy: 0.8158 - val_loss: 0.5511\n",
      "Epoch 14/100\n",
      "127/127 - 0s - 1ms/step - accuracy: 0.9073 - loss: 0.2235 - val_accuracy: 0.8178 - val_loss: 0.5658\n",
      "Epoch 15/100\n",
      "127/127 - 0s - 1ms/step - accuracy: 0.9197 - loss: 0.1983 - val_accuracy: 0.8139 - val_loss: 0.5958\n",
      "Epoch 16/100\n",
      "127/127 - 0s - 1ms/step - accuracy: 0.9202 - loss: 0.1887 - val_accuracy: 0.8139 - val_loss: 0.6235\n",
      "Epoch 17/100\n",
      "127/127 - 0s - 1ms/step - accuracy: 0.9291 - loss: 0.1806 - val_accuracy: 0.8178 - val_loss: 0.6483\n",
      "Epoch 18/100\n",
      "127/127 - 0s - 1ms/step - accuracy: 0.9291 - loss: 0.1719 - val_accuracy: 0.8079 - val_loss: 0.6781\n",
      "Epoch 19/100\n",
      "127/127 - 0s - 1ms/step - accuracy: 0.9326 - loss: 0.1648 - val_accuracy: 0.8139 - val_loss: 0.6950\n",
      "Epoch 20/100\n",
      "127/127 - 0s - 1ms/step - accuracy: 0.9395 - loss: 0.1529 - val_accuracy: 0.8158 - val_loss: 0.7357\n",
      "Epoch 21/100\n",
      "127/127 - 0s - 1ms/step - accuracy: 0.9375 - loss: 0.1487 - val_accuracy: 0.8178 - val_loss: 0.7528\n",
      "Epoch 22/100\n",
      "127/127 - 0s - 1ms/step - accuracy: 0.9479 - loss: 0.1418 - val_accuracy: 0.8139 - val_loss: 0.7857\n",
      "Epoch 23/100\n",
      "127/127 - 0s - 1ms/step - accuracy: 0.9465 - loss: 0.1390 - val_accuracy: 0.8119 - val_loss: 0.7899\n",
      "Epoch 24/100\n",
      "127/127 - 0s - 1ms/step - accuracy: 0.9445 - loss: 0.1345 - val_accuracy: 0.8119 - val_loss: 0.8413\n",
      "Epoch 25/100\n",
      "127/127 - 0s - 1ms/step - accuracy: 0.9494 - loss: 0.1267 - val_accuracy: 0.8158 - val_loss: 0.8601\n",
      "Epoch 26/100\n",
      "127/127 - 0s - 1ms/step - accuracy: 0.9564 - loss: 0.1172 - val_accuracy: 0.8178 - val_loss: 0.8812\n",
      "Epoch 27/100\n",
      "127/127 - 0s - 1ms/step - accuracy: 0.9450 - loss: 0.1218 - val_accuracy: 0.8178 - val_loss: 0.8899\n",
      "Epoch 28/100\n",
      "127/127 - 0s - 1ms/step - accuracy: 0.9539 - loss: 0.1213 - val_accuracy: 0.8178 - val_loss: 0.8943\n",
      "Epoch 29/100\n",
      "127/127 - 0s - 999us/step - accuracy: 0.9539 - loss: 0.1106 - val_accuracy: 0.8158 - val_loss: 0.8976\n",
      "Epoch 30/100\n",
      "127/127 - 0s - 1ms/step - accuracy: 0.9569 - loss: 0.1082 - val_accuracy: 0.8198 - val_loss: 0.9569\n",
      "Epoch 31/100\n",
      "127/127 - 0s - 1ms/step - accuracy: 0.9574 - loss: 0.1080 - val_accuracy: 0.8198 - val_loss: 0.9622\n",
      "Epoch 32/100\n",
      "127/127 - 0s - 1ms/step - accuracy: 0.9544 - loss: 0.0996 - val_accuracy: 0.8238 - val_loss: 0.9915\n",
      "Epoch 33/100\n",
      "127/127 - 0s - 1ms/step - accuracy: 0.9554 - loss: 0.1029 - val_accuracy: 0.8139 - val_loss: 0.9824\n",
      "Epoch 34/100\n",
      "127/127 - 0s - 1ms/step - accuracy: 0.9574 - loss: 0.1043 - val_accuracy: 0.8158 - val_loss: 0.9986\n",
      "Epoch 35/100\n",
      "127/127 - 0s - 1ms/step - accuracy: 0.9559 - loss: 0.0994 - val_accuracy: 0.8218 - val_loss: 1.0331\n",
      "Epoch 36/100\n",
      "127/127 - 0s - 982us/step - accuracy: 0.9628 - loss: 0.0965 - val_accuracy: 0.8178 - val_loss: 1.0863\n",
      "Epoch 37/100\n",
      "127/127 - 0s - 1ms/step - accuracy: 0.9534 - loss: 0.0988 - val_accuracy: 0.8257 - val_loss: 1.0796\n",
      "Epoch 38/100\n",
      "127/127 - 0s - 1ms/step - accuracy: 0.9603 - loss: 0.0950 - val_accuracy: 0.8059 - val_loss: 1.0571\n",
      "Epoch 39/100\n",
      "127/127 - 0s - 1ms/step - accuracy: 0.9608 - loss: 0.0905 - val_accuracy: 0.8119 - val_loss: 1.0967\n",
      "Epoch 40/100\n",
      "127/127 - 0s - 990us/step - accuracy: 0.9648 - loss: 0.0905 - val_accuracy: 0.8059 - val_loss: 1.1109\n",
      "Epoch 41/100\n",
      "127/127 - 0s - 983us/step - accuracy: 0.9618 - loss: 0.0874 - val_accuracy: 0.8040 - val_loss: 1.1225\n",
      "Epoch 42/100\n",
      "127/127 - 0s - 1ms/step - accuracy: 0.9653 - loss: 0.0826 - val_accuracy: 0.8020 - val_loss: 1.1162\n",
      "Epoch 43/100\n",
      "127/127 - 0s - 979us/step - accuracy: 0.9643 - loss: 0.0815 - val_accuracy: 0.8079 - val_loss: 1.1392\n",
      "Epoch 44/100\n",
      "127/127 - 0s - 972us/step - accuracy: 0.9658 - loss: 0.0851 - val_accuracy: 0.8099 - val_loss: 1.1885\n",
      "Epoch 45/100\n",
      "127/127 - 0s - 981us/step - accuracy: 0.9628 - loss: 0.0850 - val_accuracy: 0.8079 - val_loss: 1.2128\n",
      "Epoch 46/100\n",
      "127/127 - 0s - 1ms/step - accuracy: 0.9648 - loss: 0.0828 - val_accuracy: 0.8059 - val_loss: 1.1899\n",
      "Epoch 47/100\n",
      "127/127 - 0s - 988us/step - accuracy: 0.9608 - loss: 0.0865 - val_accuracy: 0.8040 - val_loss: 1.2178\n",
      "Epoch 48/100\n",
      "127/127 - 0s - 989us/step - accuracy: 0.9559 - loss: 0.0944 - val_accuracy: 0.8099 - val_loss: 1.2083\n",
      "Epoch 49/100\n",
      "127/127 - 0s - 1ms/step - accuracy: 0.9683 - loss: 0.0746 - val_accuracy: 0.8040 - val_loss: 1.2530\n",
      "Epoch 50/100\n",
      "127/127 - 0s - 1ms/step - accuracy: 0.9623 - loss: 0.0845 - val_accuracy: 0.8079 - val_loss: 1.2120\n",
      "Epoch 51/100\n",
      "127/127 - 0s - 1ms/step - accuracy: 0.9668 - loss: 0.0765 - val_accuracy: 0.8020 - val_loss: 1.2392\n",
      "Epoch 52/100\n",
      "127/127 - 0s - 1ms/step - accuracy: 0.9678 - loss: 0.0745 - val_accuracy: 0.7960 - val_loss: 1.2641\n",
      "Epoch 53/100\n",
      "127/127 - 0s - 1ms/step - accuracy: 0.9673 - loss: 0.0801 - val_accuracy: 0.8158 - val_loss: 1.2858\n",
      "Epoch 54/100\n",
      "127/127 - 0s - 1ms/step - accuracy: 0.9628 - loss: 0.0788 - val_accuracy: 0.8079 - val_loss: 1.2983\n",
      "Epoch 55/100\n",
      "127/127 - 0s - 1ms/step - accuracy: 0.9608 - loss: 0.0808 - val_accuracy: 0.8040 - val_loss: 1.3000\n",
      "Epoch 56/100\n",
      "127/127 - 0s - 1ms/step - accuracy: 0.9653 - loss: 0.0749 - val_accuracy: 0.7980 - val_loss: 1.3224\n",
      "Epoch 57/100\n",
      "127/127 - 0s - 1ms/step - accuracy: 0.9623 - loss: 0.0734 - val_accuracy: 0.8059 - val_loss: 1.3539\n",
      "Epoch 58/100\n",
      "127/127 - 0s - 1ms/step - accuracy: 0.9648 - loss: 0.0751 - val_accuracy: 0.8079 - val_loss: 1.3530\n",
      "Epoch 59/100\n",
      "127/127 - 0s - 1ms/step - accuracy: 0.9653 - loss: 0.0752 - val_accuracy: 0.8000 - val_loss: 1.3655\n",
      "Epoch 60/100\n",
      "127/127 - 0s - 1ms/step - accuracy: 0.9638 - loss: 0.0813 - val_accuracy: 0.7980 - val_loss: 1.3356\n",
      "Epoch 61/100\n",
      "127/127 - 0s - 1ms/step - accuracy: 0.9653 - loss: 0.0741 - val_accuracy: 0.8020 - val_loss: 1.3467\n",
      "Epoch 62/100\n",
      "127/127 - 0s - 1ms/step - accuracy: 0.9698 - loss: 0.0670 - val_accuracy: 0.8000 - val_loss: 1.3768\n",
      "Epoch 63/100\n",
      "127/127 - 0s - 1ms/step - accuracy: 0.9712 - loss: 0.0720 - val_accuracy: 0.7980 - val_loss: 1.3982\n",
      "Epoch 64/100\n",
      "127/127 - 0s - 1ms/step - accuracy: 0.9633 - loss: 0.0781 - val_accuracy: 0.8000 - val_loss: 1.3957\n",
      "Epoch 65/100\n",
      "127/127 - 0s - 1ms/step - accuracy: 0.9668 - loss: 0.0687 - val_accuracy: 0.7980 - val_loss: 1.4378\n",
      "Epoch 66/100\n",
      "127/127 - 0s - 1ms/step - accuracy: 0.9698 - loss: 0.0661 - val_accuracy: 0.7960 - val_loss: 1.3879\n",
      "Epoch 67/100\n",
      "127/127 - 0s - 1ms/step - accuracy: 0.9658 - loss: 0.0722 - val_accuracy: 0.8020 - val_loss: 1.3629\n",
      "Epoch 68/100\n",
      "127/127 - 0s - 1ms/step - accuracy: 0.9683 - loss: 0.0667 - val_accuracy: 0.8020 - val_loss: 1.4107\n",
      "Epoch 69/100\n",
      "127/127 - 0s - 1ms/step - accuracy: 0.9727 - loss: 0.0655 - val_accuracy: 0.8040 - val_loss: 1.4690\n",
      "Epoch 70/100\n",
      "127/127 - 0s - 1ms/step - accuracy: 0.9683 - loss: 0.0652 - val_accuracy: 0.7980 - val_loss: 1.4192\n",
      "Epoch 71/100\n",
      "127/127 - 0s - 1ms/step - accuracy: 0.9698 - loss: 0.0667 - val_accuracy: 0.8000 - val_loss: 1.4252\n",
      "Epoch 72/100\n",
      "127/127 - 0s - 1ms/step - accuracy: 0.9703 - loss: 0.0638 - val_accuracy: 0.8059 - val_loss: 1.4353\n",
      "Epoch 73/100\n",
      "127/127 - 0s - 1ms/step - accuracy: 0.9668 - loss: 0.0684 - val_accuracy: 0.8040 - val_loss: 1.4084\n",
      "Epoch 74/100\n",
      "127/127 - 0s - 1ms/step - accuracy: 0.9707 - loss: 0.0671 - val_accuracy: 0.7960 - val_loss: 1.4410\n",
      "Epoch 75/100\n",
      "127/127 - 0s - 1ms/step - accuracy: 0.9683 - loss: 0.0619 - val_accuracy: 0.8020 - val_loss: 1.4616\n",
      "Epoch 76/100\n",
      "127/127 - 0s - 1ms/step - accuracy: 0.9663 - loss: 0.0602 - val_accuracy: 0.8099 - val_loss: 1.4570\n",
      "Epoch 77/100\n",
      "127/127 - 0s - 1ms/step - accuracy: 0.9663 - loss: 0.0684 - val_accuracy: 0.8099 - val_loss: 1.5419\n",
      "Epoch 78/100\n",
      "127/127 - 0s - 1ms/step - accuracy: 0.9693 - loss: 0.0679 - val_accuracy: 0.8079 - val_loss: 1.5194\n",
      "Epoch 79/100\n",
      "127/127 - 0s - 1ms/step - accuracy: 0.9663 - loss: 0.0726 - val_accuracy: 0.8059 - val_loss: 1.5236\n",
      "Epoch 80/100\n",
      "127/127 - 0s - 1ms/step - accuracy: 0.9742 - loss: 0.0612 - val_accuracy: 0.7980 - val_loss: 1.5039\n",
      "Epoch 81/100\n",
      "127/127 - 0s - 1ms/step - accuracy: 0.9688 - loss: 0.0685 - val_accuracy: 0.8040 - val_loss: 1.5081\n",
      "Epoch 82/100\n",
      "127/127 - 0s - 1ms/step - accuracy: 0.9678 - loss: 0.0704 - val_accuracy: 0.8040 - val_loss: 1.5043\n",
      "Epoch 83/100\n",
      "127/127 - 0s - 1ms/step - accuracy: 0.9673 - loss: 0.0596 - val_accuracy: 0.8040 - val_loss: 1.5142\n",
      "Epoch 84/100\n",
      "127/127 - 0s - 1ms/step - accuracy: 0.9737 - loss: 0.0563 - val_accuracy: 0.8020 - val_loss: 1.5051\n",
      "Epoch 85/100\n",
      "127/127 - 0s - 1ms/step - accuracy: 0.9707 - loss: 0.0599 - val_accuracy: 0.8059 - val_loss: 1.5325\n",
      "Epoch 86/100\n",
      "127/127 - 0s - 1ms/step - accuracy: 0.9643 - loss: 0.0723 - val_accuracy: 0.8079 - val_loss: 1.4942\n",
      "Epoch 87/100\n",
      "127/127 - 0s - 1ms/step - accuracy: 0.9707 - loss: 0.0596 - val_accuracy: 0.8040 - val_loss: 1.5266\n",
      "Epoch 88/100\n",
      "127/127 - 0s - 1ms/step - accuracy: 0.9683 - loss: 0.0621 - val_accuracy: 0.8059 - val_loss: 1.5484\n",
      "Epoch 89/100\n",
      "127/127 - 0s - 1ms/step - accuracy: 0.9712 - loss: 0.0629 - val_accuracy: 0.8000 - val_loss: 1.5745\n",
      "Epoch 90/100\n",
      "127/127 - 0s - 1ms/step - accuracy: 0.9747 - loss: 0.0598 - val_accuracy: 0.8020 - val_loss: 1.5218\n",
      "Epoch 91/100\n",
      "127/127 - 0s - 1ms/step - accuracy: 0.9683 - loss: 0.0665 - val_accuracy: 0.8000 - val_loss: 1.4954\n",
      "Epoch 92/100\n",
      "127/127 - 0s - 1ms/step - accuracy: 0.9673 - loss: 0.0639 - val_accuracy: 0.8020 - val_loss: 1.5292\n",
      "Epoch 93/100\n",
      "127/127 - 0s - 1ms/step - accuracy: 0.9717 - loss: 0.0595 - val_accuracy: 0.8059 - val_loss: 1.5062\n",
      "Epoch 94/100\n",
      "127/127 - 0s - 1ms/step - accuracy: 0.9712 - loss: 0.0545 - val_accuracy: 0.8020 - val_loss: 1.5636\n",
      "Epoch 95/100\n",
      "127/127 - 0s - 1ms/step - accuracy: 0.9673 - loss: 0.0604 - val_accuracy: 0.8079 - val_loss: 1.5369\n",
      "Epoch 96/100\n",
      "127/127 - 0s - 1ms/step - accuracy: 0.9722 - loss: 0.0579 - val_accuracy: 0.7980 - val_loss: 1.5882\n",
      "Epoch 97/100\n",
      "127/127 - 0s - 1ms/step - accuracy: 0.9732 - loss: 0.0568 - val_accuracy: 0.8079 - val_loss: 1.6541\n",
      "Epoch 98/100\n",
      "127/127 - 0s - 1ms/step - accuracy: 0.9698 - loss: 0.0562 - val_accuracy: 0.7980 - val_loss: 1.6155\n",
      "Epoch 99/100\n",
      "127/127 - 0s - 1ms/step - accuracy: 0.9717 - loss: 0.0542 - val_accuracy: 0.8020 - val_loss: 1.6274\n",
      "Epoch 100/100\n",
      "127/127 - 0s - 1ms/step - accuracy: 0.9698 - loss: 0.0606 - val_accuracy: 0.8079 - val_loss: 1.6072\n",
      "\u001B[1m79/79\u001B[0m \u001B[32m━━━━━━━━━━━━━━━━━━━━\u001B[0m\u001B[37m\u001B[0m \u001B[1m0s\u001B[0m 817us/step\n",
      "\u001B[1m14/14\u001B[0m \u001B[32m━━━━━━━━━━━━━━━━━━━━\u001B[0m\u001B[37m\u001B[0m \u001B[1m0s\u001B[0m 2ms/step \n"
     ]
    }
   ],
   "execution_count": 234
  },
  {
   "metadata": {
    "ExecuteTime": {
     "end_time": "2025-10-29T11:36:03.186447Z",
     "start_time": "2025-10-29T11:36:03.180432Z"
    }
   },
   "cell_type": "code",
   "source": [
    "# turn the history into a DataFrame for easier analysis\n",
    "history_df = pd.DataFrame.from_dict(history.history)\n",
    "history_df.head()"
   ],
   "id": "6c2d39a18d3436a6",
   "outputs": [
    {
     "data": {
      "text/plain": [
       "   accuracy      loss  val_accuracy  val_loss\n",
       "0  0.832424  0.640645      0.833663  0.529044\n",
       "1  0.832920  0.533134      0.833663  0.516682\n",
       "2  0.832920  0.505931      0.833663  0.503178\n",
       "3  0.832920  0.477441      0.833663  0.485349\n",
       "4  0.832920  0.441004      0.833663  0.474542"
      ],
      "text/html": [
       "<div>\n",
       "<style scoped>\n",
       "    .dataframe tbody tr th:only-of-type {\n",
       "        vertical-align: middle;\n",
       "    }\n",
       "\n",
       "    .dataframe tbody tr th {\n",
       "        vertical-align: top;\n",
       "    }\n",
       "\n",
       "    .dataframe thead th {\n",
       "        text-align: right;\n",
       "    }\n",
       "</style>\n",
       "<table border=\"1\" class=\"dataframe\">\n",
       "  <thead>\n",
       "    <tr style=\"text-align: right;\">\n",
       "      <th></th>\n",
       "      <th>accuracy</th>\n",
       "      <th>loss</th>\n",
       "      <th>val_accuracy</th>\n",
       "      <th>val_loss</th>\n",
       "    </tr>\n",
       "  </thead>\n",
       "  <tbody>\n",
       "    <tr>\n",
       "      <th>0</th>\n",
       "      <td>0.832424</td>\n",
       "      <td>0.640645</td>\n",
       "      <td>0.833663</td>\n",
       "      <td>0.529044</td>\n",
       "    </tr>\n",
       "    <tr>\n",
       "      <th>1</th>\n",
       "      <td>0.832920</td>\n",
       "      <td>0.533134</td>\n",
       "      <td>0.833663</td>\n",
       "      <td>0.516682</td>\n",
       "    </tr>\n",
       "    <tr>\n",
       "      <th>2</th>\n",
       "      <td>0.832920</td>\n",
       "      <td>0.505931</td>\n",
       "      <td>0.833663</td>\n",
       "      <td>0.503178</td>\n",
       "    </tr>\n",
       "    <tr>\n",
       "      <th>3</th>\n",
       "      <td>0.832920</td>\n",
       "      <td>0.477441</td>\n",
       "      <td>0.833663</td>\n",
       "      <td>0.485349</td>\n",
       "    </tr>\n",
       "    <tr>\n",
       "      <th>4</th>\n",
       "      <td>0.832920</td>\n",
       "      <td>0.441004</td>\n",
       "      <td>0.833663</td>\n",
       "      <td>0.474542</td>\n",
       "    </tr>\n",
       "  </tbody>\n",
       "</table>\n",
       "</div>"
      ]
     },
     "execution_count": 235,
     "metadata": {},
     "output_type": "execute_result"
    }
   ],
   "execution_count": 235
  },
  {
   "metadata": {
    "ExecuteTime": {
     "end_time": "2025-10-29T11:36:03.330079Z",
     "start_time": "2025-10-29T11:36:03.200442Z"
    }
   },
   "cell_type": "code",
   "source": [
    "# plot the training and validation loss and accuracy\n",
    "fig, (ax0, ax1) = plt.subplots(1, 2, figsize=(6, 3))\n",
    "\n",
    "sns.lineplot(data=history_df[['loss', 'val_loss']], ax=ax0)\n",
    "ax0.set_xlabel('epochs')\n",
    "sns.lineplot(data=history_df[['accuracy', 'val_accuracy']], ax=ax1)\n",
    "plt.tight_layout()\n"
   ],
   "id": "6e3be85a57e6972b",
   "outputs": [
    {
     "data": {
      "text/plain": [
       "<Figure size 600x300 with 2 Axes>"
      ],
      "image/png": "[encoded data removed]"
     },
     "metadata": {},
     "output_type": "display_data",
     "jetTransient": {
      "display_id": null
     }
    }
   ],
   "execution_count": 236
  },
  {
   "metadata": {},
   "cell_type": "markdown",
   "source": "Does it look like the orange loss curve is going up? Then this model might be over-fitting!",
   "id": "4628246860abad7a"
  },
  {
   "metadata": {
    "ExecuteTime": {
     "end_time": "2025-10-29T11:36:03.519027Z",
     "start_time": "2025-10-29T11:36:03.363519Z"
    }
   },
   "cell_type": "code",
   "source": [
    "test_loss, test_accuracy = model.evaluate(X_test, y_test)\n",
    "f'test loss: {test_loss:.2f}, test accuracy {test_accuracy:.2f}'"
   ],
   "id": "1c9eada8e9ff4752",
   "outputs": [
    {
     "name": "stdout",
     "output_type": "stream",
     "text": [
      "\u001B[1m14/14\u001B[0m \u001B[32m━━━━━━━━━━━━━━━━━━━━\u001B[0m\u001B[37m\u001B[0m \u001B[1m0s\u001B[0m 3ms/step - accuracy: 0.7825 - loss: 1.8512 \n"
     ]
    },
    {
     "data": {
      "text/plain": [
       "'test loss: 1.85, test accuracy 0.78'"
      ]
     },
     "execution_count": 237,
     "metadata": {},
     "output_type": "execute_result"
    }
   ],
   "execution_count": 237
  },
  {
   "metadata": {
    "ExecuteTime": {
     "end_time": "2025-10-29T11:36:03.750970Z",
     "start_time": "2025-10-29T11:36:03.556642Z"
    }
   },
   "cell_type": "code",
   "source": [
    "y_pred = model.predict(X_test)\n",
    "prediction = y_encoder.inverse_transform(y_pred)\n",
    "ground_truth = y_encoder.inverse_transform(y_test)"
   ],
   "id": "368060cb7e9ac7f9",
   "outputs": [
    {
     "name": "stdout",
     "output_type": "stream",
     "text": [
      "\u001B[1m14/14\u001B[0m \u001B[32m━━━━━━━━━━━━━━━━━━━━\u001B[0m\u001B[37m\u001B[0m \u001B[1m0s\u001B[0m 5ms/step \n"
     ]
    }
   ],
   "execution_count": 238
  },
  {
   "metadata": {
    "ExecuteTime": {
     "end_time": "2025-10-29T11:36:03.825195Z",
     "start_time": "2025-10-29T11:36:03.819053Z"
    }
   },
   "cell_type": "code",
   "source": [
    "cm = confusion_matrix(ground_truth, prediction)\n",
    "print(cm)"
   ],
   "id": "5bade08a336b0aad",
   "outputs": [
    {
     "name": "stdout",
     "output_type": "stream",
     "text": [
      "[[  1   0  14]\n",
      " [  0  16  43]\n",
      " [ 13  27 332]]\n"
     ]
    }
   ],
   "execution_count": 239
  },
  {
   "metadata": {
    "ExecuteTime": {
     "end_time": "2025-10-29T11:36:03.912066Z",
     "start_time": "2025-10-29T11:36:03.907477Z"
    }
   },
   "cell_type": "code",
   "source": [
    "# To confirm which axis is the truth and which is the prediction\n",
    "np.unique(ground_truth, return_counts=True)"
   ],
   "id": "d972033bdd66d6e5",
   "outputs": [
    {
     "data": {
      "text/plain": [
       "(array(['Black', 'Cinnamon', 'Gray'], dtype=object), array([ 15,  59, 372]))"
      ]
     },
     "execution_count": 240,
     "metadata": {},
     "output_type": "execute_result"
    }
   ],
   "execution_count": 240
  },
  {
   "metadata": {
    "ExecuteTime": {
     "end_time": "2025-10-29T11:36:04.073244Z",
     "start_time": "2025-10-29T11:36:03.957323Z"
    }
   },
   "cell_type": "code",
   "source": [
    "fig, ax = plt.subplots(figsize=(3, 3))\n",
    "ax = sns.heatmap(cm, annot=True, square=True,\n",
    "                 yticklabels=y_encoder.categories_[0],\n",
    "                 xticklabels=y_encoder.categories_[0],\n",
    "                 ax=ax\n",
    "                 )\n",
    "ax.set(xlabel='prediction', ylabel='ground truth')"
   ],
   "id": "a66c3056e5213e63",
   "outputs": [
    {
     "data": {
      "text/plain": [
       "[Text(0.5, 22.749999999999986, 'prediction'),\n",
       " Text(4.749999999999998, 0.5, 'ground truth')]"
      ]
     },
     "execution_count": 241,
     "metadata": {},
     "output_type": "execute_result"
    },
    {
     "data": {
      "text/plain": [
       "<Figure size 300x300 with 2 Axes>"
      ],
      "image/png": "[encoded data removed]"
     },
     "metadata": {},
     "output_type": "display_data",
     "jetTransient": {
      "display_id": null
     }
    }
   ],
   "execution_count": 241
  },
  {
   "metadata": {},
   "cell_type": "markdown",
   "source": [
    "<div style=\"border-left: 5px solid #0b84a5; padding: 0.5em; background: #44bcad80;\">\n",
    "  <b>⚠️ This model doesn't seem to work very well?</b>\n",
    "  Let's find a baseline model!\n",
    "</div>\n",
    "Then we will at least know if something is going wrong during training; or if maybe the task is hard or there is no signal."
   ],
   "id": "7579a01eafc360ea"
  },
  {
   "metadata": {},
   "cell_type": "markdown",
   "source": [
    "A first idea for a baseline model is.\n",
    "> just predict the most frequent class all the time.\n",
    "\n",
    "Let's try this:"
   ],
   "id": "1b71eb322b9e7507"
  },
  {
   "metadata": {
    "ExecuteTime": {
     "end_time": "2025-10-29T11:36:04.085133Z",
     "start_time": "2025-10-29T11:36:04.080714Z"
    }
   },
   "cell_type": "code",
   "source": [
    "# the distribution of the classes\n",
    "np.unique(ground_truth, return_counts=True)"
   ],
   "id": "570bca20e259e27f",
   "outputs": [
    {
     "data": {
      "text/plain": [
       "(array(['Black', 'Cinnamon', 'Gray'], dtype=object), array([ 15,  59, 372]))"
      ]
     },
     "execution_count": 242,
     "metadata": {},
     "output_type": "execute_result"
    }
   ],
   "execution_count": 242
  },
  {
   "metadata": {},
   "cell_type": "markdown",
   "source": [
    "Therefore, the model following that approach would be\n",
    "> predict every squirrel is gray\n",
    "\n",
    "We can build a model that acts this way, or just directly test how well that would work. Let's do that instead."
   ],
   "id": "66863982a670327c"
  },
  {
   "metadata": {
    "ExecuteTime": {
     "end_time": "2025-10-29T11:36:04.109017Z",
     "start_time": "2025-10-29T11:36:04.102798Z"
    }
   },
   "cell_type": "code",
   "source": [
    "number_of_gray_squirrels = int(y_test[:, 2].sum())\n",
    "number_of_gray_squirrels"
   ],
   "id": "4c1973b04ead81e1",
   "outputs": [
    {
     "data": {
      "text/plain": [
       "372"
      ]
     },
     "execution_count": 243,
     "metadata": {},
     "output_type": "execute_result"
    }
   ],
   "execution_count": 243
  },
  {
   "metadata": {
    "ExecuteTime": {
     "end_time": "2025-10-29T11:36:04.149712Z",
     "start_time": "2025-10-29T11:36:04.125611Z"
    }
   },
   "cell_type": "code",
   "source": [
    "number_of_all_squirrels = len(y_test)\n",
    "number_of_all_squirrels"
   ],
   "id": "97dd4ce2d01eb712",
   "outputs": [
    {
     "data": {
      "text/plain": [
       "446"
      ]
     },
     "execution_count": 244,
     "metadata": {},
     "output_type": "execute_result"
    }
   ],
   "execution_count": 244
  },
  {
   "metadata": {
    "ExecuteTime": {
     "end_time": "2025-10-29T11:36:04.290675Z",
     "start_time": "2025-10-29T11:36:04.273717Z"
    }
   },
   "cell_type": "code",
   "source": [
    "baseline_accuracy = number_of_gray_squirrels / number_of_all_squirrels\n",
    "print(f'This baseline model would be correct for {100 * baseline_accuracy :.2f}% of the squirrels.\\nCompare with our test accuracy of {test_accuracy * 100:.2f}%.')"
   ],
   "id": "db8c2b2d5d47e26a",
   "outputs": [
    {
     "name": "stdout",
     "output_type": "stream",
     "text": [
      "This baseline model would be correct for 83.41% of the squirrels.\n",
      "Compare with our test accuracy of 78.25%.\n"
     ]
    }
   ],
   "execution_count": 245
  },
  {
   "metadata": {},
   "cell_type": "markdown",
   "source": "If we compare this `baseline_accuracy` with the `test_accuracy` from above, we see that the baseline model is actually better than the model we trained. 😵😅\n",
   "id": "71dddbf56c49e033"
  },
  {
   "metadata": {},
   "cell_type": "markdown",
   "source": [
    "## Extra Task: Predict `shift`\n",
    "This means whether the squirrel was seen before or after noon."
   ],
   "id": "206ff66ec82167e1"
  },
  {
   "metadata": {
    "ExecuteTime": {
     "end_time": "2025-10-28T09:11:53.053572Z",
     "start_time": "2025-10-28T09:11:53.046804Z"
    }
   },
   "cell_type": "code",
   "source": [
    "# Edit the function call above to predict `shift` instead, then re-run the cells above!\n",
    "prepare_dataset(df, target='primary_fur_color')"
   ],
   "id": "97575d9c1138692e",
   "outputs": [],
   "execution_count": null
  },
  {
   "metadata": {},
   "cell_type": "markdown",
   "source": [
    "## Extra Task: Feature Engineering\n",
    "Build a feature that indicates whether a squirrel will accept and eat a nut from you:\n",
    "It `approaches` or `forages`, or `eating` already. Also, it is not `indifferent` or `runs_from` you. Then build a predictor for this feature!"
   ],
   "id": "c609ae46d2d26439"
  },
  {
   "metadata": {
    "ExecuteTime": {
     "end_time": "2025-10-29T11:20:02.308960Z",
     "start_time": "2025-10-29T11:20:02.272947Z"
    }
   },
   "cell_type": "code",
   "source": [
    "df['might_accept_snack'] = False\n",
    "df.loc[((df.eating == True) | (df.foraging == True) | (df.approaches == True)) & (df.indifferent == False) & (df.runs_from == False), 'might_accept_snack'] = True\n",
    "df.might_accept_snack.value_counts()"
   ],
   "id": "8ebd1a29f1acaa47",
   "outputs": [
    {
     "data": {
      "text/plain": [
       "might_accept_snack\n",
       "False    2503\n",
       "True      520\n",
       "Name: count, dtype: int64"
      ]
     },
     "execution_count": 147,
     "metadata": {},
     "output_type": "execute_result"
    }
   ],
   "execution_count": 147
  },
  {
   "metadata": {
    "ExecuteTime": {
     "end_time": "2025-10-29T11:24:45.466766Z",
     "start_time": "2025-10-29T11:24:45.455267Z"
    }
   },
   "cell_type": "code",
   "source": [
    "# Now edit the function call above to predict this target instead, then re-run the cells above!\n",
    "_ = prepare_dataset(df, target='might_accept_snack')"
   ],
   "id": "8b76a0034cfb63bc",
   "outputs": [
    {
     "name": "stdout",
     "output_type": "stream",
     "text": [
      "3023 rows remaining\n"
     ]
    }
   ],
   "execution_count": 173
  },
  {
   "metadata": {},
   "cell_type": "markdown",
   "source": [
    "You will see that this model seems to be doing a lot better, or at least not overfit. But again:\n",
    "\n",
    "<div style=\"border-left: 5px solid #0b84a5; padding: 0.5em; background: #44bcad80;\">\n",
    "  <b>⚠️ Let's find a baseline model!</b>\n",
    "</div>"
   ],
   "id": "552013db0f327f28"
  },
  {
   "metadata": {
    "ExecuteTime": {
     "end_time": "2025-10-29T11:31:33.957827Z",
     "start_time": "2025-10-29T11:31:33.953392Z"
    }
   },
   "cell_type": "code",
   "source": [
    "share_of_feedable_squirrels = len(df.loc[df.might_accept_snack == True]) / len(df)\n",
    "print(f'Predicting that no squirrel will accept a snack will be correct for {100 * (1 - share_of_feedable_squirrels) :.2f}% of the squirrels.\\nCompare with our test accuracy of {test_accuracy * 100:.2f}%.')"
   ],
   "id": "352e911e2d4cc806",
   "outputs": [
    {
     "name": "stdout",
     "output_type": "stream",
     "text": [
      "Predicting that no squirrel will accept a snack will be correct for 82.80% of the squirrels.\n",
      "Compare with our test accuracy of 100.00%.\n"
     ]
    }
   ],
   "execution_count": 197
  },
  {
   "metadata": {},
   "cell_type": "markdown",
   "source": [
    "Our model does great on this feature! But wait, we're using information that was already in the dataset; so it totally makes sense that it's possible for the feedforward neural network to learn that rule! 🙈😅\n",
    "\n",
    "On the other hand, this is also an indication that there is really no signal for `primary_fur_color`, and just because a squirrel is black doesn't mean it's not active before noon or that they behave differently. (For example)"
   ],
   "id": "2b51eeaa93f04e52"
  },
  {
   "metadata": {},
   "cell_type": "code",
   "outputs": [],
   "execution_count": null,
   "source": "",
   "id": "c74a18183f4af357"
  },
  {
   "metadata": {},
   "cell_type": "markdown",
   "source": [
    "## Extra Task: Regression\n",
    "Build a synthetic feature that encodes how chatty a squirrel is. For that, combine `kuks`, `moans` and `quaas`."
   ],
   "id": "21dfc3504786ec58"
  },
  {
   "metadata": {
    "ExecuteTime": {
     "end_time": "2025-10-28T09:11:53.155934Z",
     "start_time": "2025-10-28T09:11:53.154056Z"
    }
   },
   "cell_type": "code",
   "source": "# i'm skipping this 🤐",
   "id": "e4c7074766c8f82e",
   "outputs": [],
   "execution_count": null
  }
 ],
 "metadata": {
  "kernelspec": {
   "display_name": "Python 3",
   "language": "python",
   "name": "python3"
  },
  "language_info": {
   "codemirror_mode": {
    "name": "ipython",
    "version": 2
   },
   "file_extension": ".py",
   "mimetype": "text/x-python",
   "name": "python",
   "nbconvert_exporter": "python",
   "pygments_lexer": "ipython2",
   "version": "2.7.6"
  }
 },
 "nbformat": 4,
 "nbformat_minor": 5
}
