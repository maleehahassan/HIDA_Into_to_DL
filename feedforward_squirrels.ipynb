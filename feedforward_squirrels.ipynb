{
 "cells": [
  {
   "metadata": {},
   "cell_type": "markdown",
   "source": "<a href=\"https://colab.research.google.com/github/maleehahassan/HIDA_Into_to_DL/blob/main/10_feedforward_squirrels.ipynb\" target=\"_parent\"><img src=\"https://colab.research.google.com/assets/colab-badge.svg\" alt=\"Open In Colab\"/></a>",
   "id": "b6eb3838dae8ba04"
  },
  {
   "cell_type": "code",
   "id": "initial_id",
   "metadata": {
    "collapsed": true,
    "ExecuteTime": {
     "end_time": "2025-10-28T00:52:16.667225Z",
     "start_time": "2025-10-28T00:52:16.493100Z"
    }
   },
   "source": [
    "import pandas as pd\n",
    "import numpy as np\n",
    "\n",
    "import seaborn as sns\n",
    "import matplotlib.pyplot as plt\n",
    "\n",
    "from tensorflow import keras\n",
    "from sklearn.preprocessing import OneHotEncoder\n",
    "from sklearn.model_selection import train_test_split\n",
    "from sklearn.compose import ColumnTransformer\n",
    "from sklearn.pipeline import Pipeline\n",
    "from sklearn.metrics import confusion_matrix\n",
    "\n",
    "sns.set_theme(style='white')"
   ],
   "outputs": [],
   "execution_count": 198
  },
  {
   "metadata": {
    "ExecuteTime": {
     "end_time": "2025-10-27T23:44:27.262562Z",
     "start_time": "2025-10-27T23:44:27.261028Z"
    }
   },
   "cell_type": "code",
   "source": "# %matplotlib inline",
   "id": "6e53bc010c1b943e",
   "outputs": [],
   "execution_count": 2
  },
  {
   "metadata": {},
   "cell_type": "markdown",
   "source": "First, download a dataset about squirrel sightings in New York City.",
   "id": "9bd979bad6b5d6dc"
  },
  {
   "metadata": {
    "ExecuteTime": {
     "end_time": "2025-10-27T23:44:29.023342Z",
     "start_time": "2025-10-27T23:44:27.268279Z"
    }
   },
   "cell_type": "code",
   "source": [
    "# simply using pandas\n",
    "url = 'https://data.cityofnewyork.us/resource/vfnx-vebw.csv?$limit=5000'\n",
    "df = pd.read_csv(url)\n",
    "df.shape"
   ],
   "id": "6069249852471ae3",
   "outputs": [
    {
     "data": {
      "text/plain": [
       "(3023, 31)"
      ]
     },
     "execution_count": 3,
     "metadata": {},
     "output_type": "execute_result"
    }
   ],
   "execution_count": 3
  },
  {
   "metadata": {
    "ExecuteTime": {
     "end_time": "2025-10-27T23:44:30.677686Z",
     "start_time": "2025-10-27T23:44:30.667987Z"
    }
   },
   "cell_type": "code",
   "source": "df.head()",
   "id": "74847c4cbbf05f7d",
   "outputs": [
    {
     "data": {
      "text/plain": [
       "           x          y unique_squirrel_id hectare shift      date  \\\n",
       "0 -73.956134  40.794082     37F-PM-1014-03     37F    PM  10142018   \n",
       "1 -73.968857  40.783783     21B-AM-1019-04     21B    AM  10192018   \n",
       "2 -73.974281  40.775534     11B-PM-1014-08     11B    PM  10142018   \n",
       "3 -73.959641  40.790313     32E-PM-1017-14     32E    PM  10172018   \n",
       "4 -73.970268  40.776213     13E-AM-1017-05     13E    AM  10172018   \n",
       "\n",
       "   hectare_squirrel_number    age primary_fur_color highlight_fur_color  ...  \\\n",
       "0                        3    NaN               NaN                 NaN  ...   \n",
       "1                        4    NaN               NaN                 NaN  ...   \n",
       "2                        8    NaN              Gray                 NaN  ...   \n",
       "3                       14  Adult              Gray                 NaN  ...   \n",
       "4                        5  Adult              Gray            Cinnamon  ...   \n",
       "\n",
       "    kuks  quaas  moans tail_flags tail_twitches  approaches  indifferent  \\\n",
       "0  False  False  False      False         False       False        False   \n",
       "1  False  False  False      False         False       False        False   \n",
       "2  False  False  False      False         False       False        False   \n",
       "3  False  False  False      False         False       False        False   \n",
       "4  False  False  False      False         False       False        False   \n",
       "\n",
       "   runs_from  other_interactions                             geocoded_column  \n",
       "0      False                 NaN  POINT (-73.9561344937861 40.7940823884086)  \n",
       "1      False                 NaN  POINT (-73.9688574691102 40.7837825208444)  \n",
       "2      False                 NaN  POINT (-73.97428114848522 40.775533619083)  \n",
       "3       True                 NaN  POINT (-73.9596413903948 40.7903128889029)  \n",
       "4      False                 NaN  POINT (-73.9702676472613 40.7762126854894)  \n",
       "\n",
       "[5 rows x 31 columns]"
      ],
      "text/html": [
       "<div>\n",
       "<style scoped>\n",
       "    .dataframe tbody tr th:only-of-type {\n",
       "        vertical-align: middle;\n",
       "    }\n",
       "\n",
       "    .dataframe tbody tr th {\n",
       "        vertical-align: top;\n",
       "    }\n",
       "\n",
       "    .dataframe thead th {\n",
       "        text-align: right;\n",
       "    }\n",
       "</style>\n",
       "<table border=\"1\" class=\"dataframe\">\n",
       "  <thead>\n",
       "    <tr style=\"text-align: right;\">\n",
       "      <th></th>\n",
       "      <th>x</th>\n",
       "      <th>y</th>\n",
       "      <th>unique_squirrel_id</th>\n",
       "      <th>hectare</th>\n",
       "      <th>shift</th>\n",
       "      <th>date</th>\n",
       "      <th>hectare_squirrel_number</th>\n",
       "      <th>age</th>\n",
       "      <th>primary_fur_color</th>\n",
       "      <th>highlight_fur_color</th>\n",
       "      <th>...</th>\n",
       "      <th>kuks</th>\n",
       "      <th>quaas</th>\n",
       "      <th>moans</th>\n",
       "      <th>tail_flags</th>\n",
       "      <th>tail_twitches</th>\n",
       "      <th>approaches</th>\n",
       "      <th>indifferent</th>\n",
       "      <th>runs_from</th>\n",
       "      <th>other_interactions</th>\n",
       "      <th>geocoded_column</th>\n",
       "    </tr>\n",
       "  </thead>\n",
       "  <tbody>\n",
       "    <tr>\n",
       "      <th>0</th>\n",
       "      <td>-73.956134</td>\n",
       "      <td>40.794082</td>\n",
       "      <td>37F-PM-1014-03</td>\n",
       "      <td>37F</td>\n",
       "      <td>PM</td>\n",
       "      <td>10142018</td>\n",
       "      <td>3</td>\n",
       "      <td>NaN</td>\n",
       "      <td>NaN</td>\n",
       "      <td>NaN</td>\n",
       "      <td>...</td>\n",
       "      <td>False</td>\n",
       "      <td>False</td>\n",
       "      <td>False</td>\n",
       "      <td>False</td>\n",
       "      <td>False</td>\n",
       "      <td>False</td>\n",
       "      <td>False</td>\n",
       "      <td>False</td>\n",
       "      <td>NaN</td>\n",
       "      <td>POINT (-73.9561344937861 40.7940823884086)</td>\n",
       "    </tr>\n",
       "    <tr>\n",
       "      <th>1</th>\n",
       "      <td>-73.968857</td>\n",
       "      <td>40.783783</td>\n",
       "      <td>21B-AM-1019-04</td>\n",
       "      <td>21B</td>\n",
       "      <td>AM</td>\n",
       "      <td>10192018</td>\n",
       "      <td>4</td>\n",
       "      <td>NaN</td>\n",
       "      <td>NaN</td>\n",
       "      <td>NaN</td>\n",
       "      <td>...</td>\n",
       "      <td>False</td>\n",
       "      <td>False</td>\n",
       "      <td>False</td>\n",
       "      <td>False</td>\n",
       "      <td>False</td>\n",
       "      <td>False</td>\n",
       "      <td>False</td>\n",
       "      <td>False</td>\n",
       "      <td>NaN</td>\n",
       "      <td>POINT (-73.9688574691102 40.7837825208444)</td>\n",
       "    </tr>\n",
       "    <tr>\n",
       "      <th>2</th>\n",
       "      <td>-73.974281</td>\n",
       "      <td>40.775534</td>\n",
       "      <td>11B-PM-1014-08</td>\n",
       "      <td>11B</td>\n",
       "      <td>PM</td>\n",
       "      <td>10142018</td>\n",
       "      <td>8</td>\n",
       "      <td>NaN</td>\n",
       "      <td>Gray</td>\n",
       "      <td>NaN</td>\n",
       "      <td>...</td>\n",
       "      <td>False</td>\n",
       "      <td>False</td>\n",
       "      <td>False</td>\n",
       "      <td>False</td>\n",
       "      <td>False</td>\n",
       "      <td>False</td>\n",
       "      <td>False</td>\n",
       "      <td>False</td>\n",
       "      <td>NaN</td>\n",
       "      <td>POINT (-73.97428114848522 40.775533619083)</td>\n",
       "    </tr>\n",
       "    <tr>\n",
       "      <th>3</th>\n",
       "      <td>-73.959641</td>\n",
       "      <td>40.790313</td>\n",
       "      <td>32E-PM-1017-14</td>\n",
       "      <td>32E</td>\n",
       "      <td>PM</td>\n",
       "      <td>10172018</td>\n",
       "      <td>14</td>\n",
       "      <td>Adult</td>\n",
       "      <td>Gray</td>\n",
       "      <td>NaN</td>\n",
       "      <td>...</td>\n",
       "      <td>False</td>\n",
       "      <td>False</td>\n",
       "      <td>False</td>\n",
       "      <td>False</td>\n",
       "      <td>False</td>\n",
       "      <td>False</td>\n",
       "      <td>False</td>\n",
       "      <td>True</td>\n",
       "      <td>NaN</td>\n",
       "      <td>POINT (-73.9596413903948 40.7903128889029)</td>\n",
       "    </tr>\n",
       "    <tr>\n",
       "      <th>4</th>\n",
       "      <td>-73.970268</td>\n",
       "      <td>40.776213</td>\n",
       "      <td>13E-AM-1017-05</td>\n",
       "      <td>13E</td>\n",
       "      <td>AM</td>\n",
       "      <td>10172018</td>\n",
       "      <td>5</td>\n",
       "      <td>Adult</td>\n",
       "      <td>Gray</td>\n",
       "      <td>Cinnamon</td>\n",
       "      <td>...</td>\n",
       "      <td>False</td>\n",
       "      <td>False</td>\n",
       "      <td>False</td>\n",
       "      <td>False</td>\n",
       "      <td>False</td>\n",
       "      <td>False</td>\n",
       "      <td>False</td>\n",
       "      <td>False</td>\n",
       "      <td>NaN</td>\n",
       "      <td>POINT (-73.9702676472613 40.7762126854894)</td>\n",
       "    </tr>\n",
       "  </tbody>\n",
       "</table>\n",
       "<p>5 rows × 31 columns</p>\n",
       "</div>"
      ]
     },
     "execution_count": 4,
     "metadata": {},
     "output_type": "execute_result"
    }
   ],
   "execution_count": 4
  },
  {
   "metadata": {
    "ExecuteTime": {
     "end_time": "2025-10-27T23:44:30.777319Z",
     "start_time": "2025-10-27T23:44:30.750241Z"
    }
   },
   "cell_type": "code",
   "source": "df.describe(include='all')",
   "id": "6b1bb065ad6106c8",
   "outputs": [
    {
     "data": {
      "text/plain": [
       "                  x            y unique_squirrel_id hectare shift  \\\n",
       "count   3023.000000  3023.000000               3023    3023  3023   \n",
       "unique          NaN          NaN               3018     339     2   \n",
       "top             NaN          NaN      7D-PM-1010-01     14D    PM   \n",
       "freq            NaN          NaN                  2      32  1676   \n",
       "mean     -73.967184    40.780853                NaN     NaN   NaN   \n",
       "std        0.007726     0.010285                NaN     NaN   NaN   \n",
       "min      -73.981159    40.764911                NaN     NaN   NaN   \n",
       "25%      -73.973102    40.771676                NaN     NaN   NaN   \n",
       "50%      -73.968594    40.778166                NaN     NaN   NaN   \n",
       "75%      -73.960189    40.791219                NaN     NaN   NaN   \n",
       "max      -73.949722    40.800119                NaN     NaN   NaN   \n",
       "\n",
       "                date  hectare_squirrel_number    age primary_fur_color  \\\n",
       "count   3.023000e+03              3023.000000   2902              2968   \n",
       "unique           NaN                      NaN      3                 3   \n",
       "top              NaN                      NaN  Adult              Gray   \n",
       "freq             NaN                      NaN   2568              2473   \n",
       "mean    1.011949e+07                 4.123718    NaN               NaN   \n",
       "std     4.246671e+04                 3.096492    NaN               NaN   \n",
       "min     1.006202e+07                 1.000000    NaN               NaN   \n",
       "25%     1.008202e+07                 2.000000    NaN               NaN   \n",
       "50%     1.012202e+07                 3.000000    NaN               NaN   \n",
       "75%     1.014202e+07                 6.000000    NaN               NaN   \n",
       "max     1.020202e+07                23.000000    NaN               NaN   \n",
       "\n",
       "       highlight_fur_color  ...   kuks  quaas  moans tail_flags tail_twitches  \\\n",
       "count                 1937  ...   3023   3023   3023       3023          3023   \n",
       "unique                  10  ...      2      2      2          2             2   \n",
       "top               Cinnamon  ...  False  False  False      False         False   \n",
       "freq                   767  ...   2921   2973   3020       2868          2589   \n",
       "mean                   NaN  ...    NaN    NaN    NaN        NaN           NaN   \n",
       "std                    NaN  ...    NaN    NaN    NaN        NaN           NaN   \n",
       "min                    NaN  ...    NaN    NaN    NaN        NaN           NaN   \n",
       "25%                    NaN  ...    NaN    NaN    NaN        NaN           NaN   \n",
       "50%                    NaN  ...    NaN    NaN    NaN        NaN           NaN   \n",
       "75%                    NaN  ...    NaN    NaN    NaN        NaN           NaN   \n",
       "max                    NaN  ...    NaN    NaN    NaN        NaN           NaN   \n",
       "\n",
       "       approaches indifferent runs_from other_interactions  \\\n",
       "count        3023        3023      3023                240   \n",
       "unique          2           2         2                197   \n",
       "top         False       False     False    runs from (dog)   \n",
       "freq         2845        1569      2345                  9   \n",
       "mean          NaN         NaN       NaN                NaN   \n",
       "std           NaN         NaN       NaN                NaN   \n",
       "min           NaN         NaN       NaN                NaN   \n",
       "25%           NaN         NaN       NaN                NaN   \n",
       "50%           NaN         NaN       NaN                NaN   \n",
       "75%           NaN         NaN       NaN                NaN   \n",
       "max           NaN         NaN       NaN                NaN   \n",
       "\n",
       "                                   geocoded_column  \n",
       "count                                         3023  \n",
       "unique                                        3023  \n",
       "top     POINT (-73.9561344937861 40.7940823884086)  \n",
       "freq                                             1  \n",
       "mean                                           NaN  \n",
       "std                                            NaN  \n",
       "min                                            NaN  \n",
       "25%                                            NaN  \n",
       "50%                                            NaN  \n",
       "75%                                            NaN  \n",
       "max                                            NaN  \n",
       "\n",
       "[11 rows x 31 columns]"
      ],
      "text/html": [
       "<div>\n",
       "<style scoped>\n",
       "    .dataframe tbody tr th:only-of-type {\n",
       "        vertical-align: middle;\n",
       "    }\n",
       "\n",
       "    .dataframe tbody tr th {\n",
       "        vertical-align: top;\n",
       "    }\n",
       "\n",
       "    .dataframe thead th {\n",
       "        text-align: right;\n",
       "    }\n",
       "</style>\n",
       "<table border=\"1\" class=\"dataframe\">\n",
       "  <thead>\n",
       "    <tr style=\"text-align: right;\">\n",
       "      <th></th>\n",
       "      <th>x</th>\n",
       "      <th>y</th>\n",
       "      <th>unique_squirrel_id</th>\n",
       "      <th>hectare</th>\n",
       "      <th>shift</th>\n",
       "      <th>date</th>\n",
       "      <th>hectare_squirrel_number</th>\n",
       "      <th>age</th>\n",
       "      <th>primary_fur_color</th>\n",
       "      <th>highlight_fur_color</th>\n",
       "      <th>...</th>\n",
       "      <th>kuks</th>\n",
       "      <th>quaas</th>\n",
       "      <th>moans</th>\n",
       "      <th>tail_flags</th>\n",
       "      <th>tail_twitches</th>\n",
       "      <th>approaches</th>\n",
       "      <th>indifferent</th>\n",
       "      <th>runs_from</th>\n",
       "      <th>other_interactions</th>\n",
       "      <th>geocoded_column</th>\n",
       "    </tr>\n",
       "  </thead>\n",
       "  <tbody>\n",
       "    <tr>\n",
       "      <th>count</th>\n",
       "      <td>3023.000000</td>\n",
       "      <td>3023.000000</td>\n",
       "      <td>3023</td>\n",
       "      <td>3023</td>\n",
       "      <td>3023</td>\n",
       "      <td>3.023000e+03</td>\n",
       "      <td>3023.000000</td>\n",
       "      <td>2902</td>\n",
       "      <td>2968</td>\n",
       "      <td>1937</td>\n",
       "      <td>...</td>\n",
       "      <td>3023</td>\n",
       "      <td>3023</td>\n",
       "      <td>3023</td>\n",
       "      <td>3023</td>\n",
       "      <td>3023</td>\n",
       "      <td>3023</td>\n",
       "      <td>3023</td>\n",
       "      <td>3023</td>\n",
       "      <td>240</td>\n",
       "      <td>3023</td>\n",
       "    </tr>\n",
       "    <tr>\n",
       "      <th>unique</th>\n",
       "      <td>NaN</td>\n",
       "      <td>NaN</td>\n",
       "      <td>3018</td>\n",
       "      <td>339</td>\n",
       "      <td>2</td>\n",
       "      <td>NaN</td>\n",
       "      <td>NaN</td>\n",
       "      <td>3</td>\n",
       "      <td>3</td>\n",
       "      <td>10</td>\n",
       "      <td>...</td>\n",
       "      <td>2</td>\n",
       "      <td>2</td>\n",
       "      <td>2</td>\n",
       "      <td>2</td>\n",
       "      <td>2</td>\n",
       "      <td>2</td>\n",
       "      <td>2</td>\n",
       "      <td>2</td>\n",
       "      <td>197</td>\n",
       "      <td>3023</td>\n",
       "    </tr>\n",
       "    <tr>\n",
       "      <th>top</th>\n",
       "      <td>NaN</td>\n",
       "      <td>NaN</td>\n",
       "      <td>7D-PM-1010-01</td>\n",
       "      <td>14D</td>\n",
       "      <td>PM</td>\n",
       "      <td>NaN</td>\n",
       "      <td>NaN</td>\n",
       "      <td>Adult</td>\n",
       "      <td>Gray</td>\n",
       "      <td>Cinnamon</td>\n",
       "      <td>...</td>\n",
       "      <td>False</td>\n",
       "      <td>False</td>\n",
       "      <td>False</td>\n",
       "      <td>False</td>\n",
       "      <td>False</td>\n",
       "      <td>False</td>\n",
       "      <td>False</td>\n",
       "      <td>False</td>\n",
       "      <td>runs from (dog)</td>\n",
       "      <td>POINT (-73.9561344937861 40.7940823884086)</td>\n",
       "    </tr>\n",
       "    <tr>\n",
       "      <th>freq</th>\n",
       "      <td>NaN</td>\n",
       "      <td>NaN</td>\n",
       "      <td>2</td>\n",
       "      <td>32</td>\n",
       "      <td>1676</td>\n",
       "      <td>NaN</td>\n",
       "      <td>NaN</td>\n",
       "      <td>2568</td>\n",
       "      <td>2473</td>\n",
       "      <td>767</td>\n",
       "      <td>...</td>\n",
       "      <td>2921</td>\n",
       "      <td>2973</td>\n",
       "      <td>3020</td>\n",
       "      <td>2868</td>\n",
       "      <td>2589</td>\n",
       "      <td>2845</td>\n",
       "      <td>1569</td>\n",
       "      <td>2345</td>\n",
       "      <td>9</td>\n",
       "      <td>1</td>\n",
       "    </tr>\n",
       "    <tr>\n",
       "      <th>mean</th>\n",
       "      <td>-73.967184</td>\n",
       "      <td>40.780853</td>\n",
       "      <td>NaN</td>\n",
       "      <td>NaN</td>\n",
       "      <td>NaN</td>\n",
       "      <td>1.011949e+07</td>\n",
       "      <td>4.123718</td>\n",
       "      <td>NaN</td>\n",
       "      <td>NaN</td>\n",
       "      <td>NaN</td>\n",
       "      <td>...</td>\n",
       "      <td>NaN</td>\n",
       "      <td>NaN</td>\n",
       "      <td>NaN</td>\n",
       "      <td>NaN</td>\n",
       "      <td>NaN</td>\n",
       "      <td>NaN</td>\n",
       "      <td>NaN</td>\n",
       "      <td>NaN</td>\n",
       "      <td>NaN</td>\n",
       "      <td>NaN</td>\n",
       "    </tr>\n",
       "    <tr>\n",
       "      <th>std</th>\n",
       "      <td>0.007726</td>\n",
       "      <td>0.010285</td>\n",
       "      <td>NaN</td>\n",
       "      <td>NaN</td>\n",
       "      <td>NaN</td>\n",
       "      <td>4.246671e+04</td>\n",
       "      <td>3.096492</td>\n",
       "      <td>NaN</td>\n",
       "      <td>NaN</td>\n",
       "      <td>NaN</td>\n",
       "      <td>...</td>\n",
       "      <td>NaN</td>\n",
       "      <td>NaN</td>\n",
       "      <td>NaN</td>\n",
       "      <td>NaN</td>\n",
       "      <td>NaN</td>\n",
       "      <td>NaN</td>\n",
       "      <td>NaN</td>\n",
       "      <td>NaN</td>\n",
       "      <td>NaN</td>\n",
       "      <td>NaN</td>\n",
       "    </tr>\n",
       "    <tr>\n",
       "      <th>min</th>\n",
       "      <td>-73.981159</td>\n",
       "      <td>40.764911</td>\n",
       "      <td>NaN</td>\n",
       "      <td>NaN</td>\n",
       "      <td>NaN</td>\n",
       "      <td>1.006202e+07</td>\n",
       "      <td>1.000000</td>\n",
       "      <td>NaN</td>\n",
       "      <td>NaN</td>\n",
       "      <td>NaN</td>\n",
       "      <td>...</td>\n",
       "      <td>NaN</td>\n",
       "      <td>NaN</td>\n",
       "      <td>NaN</td>\n",
       "      <td>NaN</td>\n",
       "      <td>NaN</td>\n",
       "      <td>NaN</td>\n",
       "      <td>NaN</td>\n",
       "      <td>NaN</td>\n",
       "      <td>NaN</td>\n",
       "      <td>NaN</td>\n",
       "    </tr>\n",
       "    <tr>\n",
       "      <th>25%</th>\n",
       "      <td>-73.973102</td>\n",
       "      <td>40.771676</td>\n",
       "      <td>NaN</td>\n",
       "      <td>NaN</td>\n",
       "      <td>NaN</td>\n",
       "      <td>1.008202e+07</td>\n",
       "      <td>2.000000</td>\n",
       "      <td>NaN</td>\n",
       "      <td>NaN</td>\n",
       "      <td>NaN</td>\n",
       "      <td>...</td>\n",
       "      <td>NaN</td>\n",
       "      <td>NaN</td>\n",
       "      <td>NaN</td>\n",
       "      <td>NaN</td>\n",
       "      <td>NaN</td>\n",
       "      <td>NaN</td>\n",
       "      <td>NaN</td>\n",
       "      <td>NaN</td>\n",
       "      <td>NaN</td>\n",
       "      <td>NaN</td>\n",
       "    </tr>\n",
       "    <tr>\n",
       "      <th>50%</th>\n",
       "      <td>-73.968594</td>\n",
       "      <td>40.778166</td>\n",
       "      <td>NaN</td>\n",
       "      <td>NaN</td>\n",
       "      <td>NaN</td>\n",
       "      <td>1.012202e+07</td>\n",
       "      <td>3.000000</td>\n",
       "      <td>NaN</td>\n",
       "      <td>NaN</td>\n",
       "      <td>NaN</td>\n",
       "      <td>...</td>\n",
       "      <td>NaN</td>\n",
       "      <td>NaN</td>\n",
       "      <td>NaN</td>\n",
       "      <td>NaN</td>\n",
       "      <td>NaN</td>\n",
       "      <td>NaN</td>\n",
       "      <td>NaN</td>\n",
       "      <td>NaN</td>\n",
       "      <td>NaN</td>\n",
       "      <td>NaN</td>\n",
       "    </tr>\n",
       "    <tr>\n",
       "      <th>75%</th>\n",
       "      <td>-73.960189</td>\n",
       "      <td>40.791219</td>\n",
       "      <td>NaN</td>\n",
       "      <td>NaN</td>\n",
       "      <td>NaN</td>\n",
       "      <td>1.014202e+07</td>\n",
       "      <td>6.000000</td>\n",
       "      <td>NaN</td>\n",
       "      <td>NaN</td>\n",
       "      <td>NaN</td>\n",
       "      <td>...</td>\n",
       "      <td>NaN</td>\n",
       "      <td>NaN</td>\n",
       "      <td>NaN</td>\n",
       "      <td>NaN</td>\n",
       "      <td>NaN</td>\n",
       "      <td>NaN</td>\n",
       "      <td>NaN</td>\n",
       "      <td>NaN</td>\n",
       "      <td>NaN</td>\n",
       "      <td>NaN</td>\n",
       "    </tr>\n",
       "    <tr>\n",
       "      <th>max</th>\n",
       "      <td>-73.949722</td>\n",
       "      <td>40.800119</td>\n",
       "      <td>NaN</td>\n",
       "      <td>NaN</td>\n",
       "      <td>NaN</td>\n",
       "      <td>1.020202e+07</td>\n",
       "      <td>23.000000</td>\n",
       "      <td>NaN</td>\n",
       "      <td>NaN</td>\n",
       "      <td>NaN</td>\n",
       "      <td>...</td>\n",
       "      <td>NaN</td>\n",
       "      <td>NaN</td>\n",
       "      <td>NaN</td>\n",
       "      <td>NaN</td>\n",
       "      <td>NaN</td>\n",
       "      <td>NaN</td>\n",
       "      <td>NaN</td>\n",
       "      <td>NaN</td>\n",
       "      <td>NaN</td>\n",
       "      <td>NaN</td>\n",
       "    </tr>\n",
       "  </tbody>\n",
       "</table>\n",
       "<p>11 rows × 31 columns</p>\n",
       "</div>"
      ]
     },
     "execution_count": 5,
     "metadata": {},
     "output_type": "execute_result"
    }
   ],
   "execution_count": 5
  },
  {
   "metadata": {
    "ExecuteTime": {
     "end_time": "2025-10-27T23:44:34.937317Z",
     "start_time": "2025-10-27T23:44:34.935573Z"
    }
   },
   "cell_type": "code",
   "source": "",
   "id": "436f1db953108b66",
   "outputs": [],
   "execution_count": null
  },
  {
   "metadata": {},
   "cell_type": "markdown",
   "source": [
    "## Exploratory data analysis\n",
    "Inspect the dataset some more, using in particular `dtypes` or `describe`. Find out how often the different behaviours were observed!"
   ],
   "id": "fa76a053afb15adf"
  },
  {
   "metadata": {
    "ExecuteTime": {
     "end_time": "2025-10-28T00:31:19.398179Z",
     "start_time": "2025-10-28T00:31:19.393511Z"
    }
   },
   "cell_type": "code",
   "source": "# using dtypes",
   "id": "8277ee607f3d2d40",
   "outputs": [],
   "execution_count": null
  },
  {
   "metadata": {
    "ExecuteTime": {
     "end_time": "2025-10-28T00:31:44.538944Z",
     "start_time": "2025-10-28T00:31:44.531974Z"
    }
   },
   "cell_type": "code",
   "source": "# using pandas describe",
   "id": "ea192885dd49e889",
   "outputs": [],
   "execution_count": 188
  },
  {
   "metadata": {},
   "cell_type": "markdown",
   "source": "If you want, you can draw a `pairplot` – but it will be very big!",
   "id": "fbd381fa3b423f2f"
  },
  {
   "metadata": {
    "ExecuteTime": {
     "end_time": "2025-10-27T23:44:37.667071Z",
     "start_time": "2025-10-27T23:44:37.665742Z"
    }
   },
   "cell_type": "code",
   "source": "",
   "id": "5394e495a32dfa82",
   "outputs": [],
   "execution_count": null
  },
  {
   "metadata": {},
   "cell_type": "markdown",
   "source": "Draw sighting locations using `sns.relplot` or `sns.jointplot`, then explore the distributions of a few interesting features and the `hue` parameter.",
   "id": "790cfc80ec41192d"
  },
  {
   "metadata": {},
   "cell_type": "code",
   "source": [
    "# the primary_fur_color is probably interesting\n",
    "sns.relplot(data=df,\n",
    "            ...,\n",
    "            )"
   ],
   "id": "18ad227d81f74460",
   "outputs": [],
   "execution_count": null
  },
  {
   "metadata": {},
   "cell_type": "code",
   "outputs": [],
   "execution_count": null,
   "source": "# or the shift\n",
   "id": "e67358669153eaba"
  },
  {
   "metadata": {},
   "cell_type": "code",
   "source": [
    "# a jointplot also shows the marginal distributions\n",
    "sns.jointplot(\n",
    "    ...\n",
    "              )"
   ],
   "id": "60c840b437dc23f1",
   "outputs": [],
   "execution_count": null
  },
  {
   "metadata": {},
   "cell_type": "markdown",
   "source": [
    "## Feature Cleaning / Encoding\n",
    "This dataset definitely needs some cleaning. It has a mix of categorical, boolean and numerical values; a lot of `NA`s and some string columns with rare annotation."
   ],
   "id": "e6c70c9b062377b5"
  },
  {
   "metadata": {
    "ExecuteTime": {
     "end_time": "2025-10-28T00:57:51.404358Z",
     "start_time": "2025-10-28T00:57:51.398177Z"
    }
   },
   "cell_type": "code",
   "source": [
    "def prepare_dataset(df: pd.DataFrame,\n",
    "                    target: str = 'primary_fur_color',\n",
    "                    ) -> tuple[np.array, np.array, list[str], OneHotEncoder]:\n",
    "    # make a copy so we don't modify the original dataframe'\n",
    "    df = df.copy()\n",
    "\n",
    "    if target not in df.columns:\n",
    "        raise ValueError(f'column {target} not found in dataset!')\n",
    "\n",
    "    # drop rows where the target column isn't defined\n",
    "    df = df.dropna(subset=[target])\n",
    "    print(f'{len(df)} rows remaining')\n",
    "\n",
    "    # not all columns can be used as training features.\n",
    "    # we also treat categoricals and booleans differently.\n",
    "    cat_cols = ['age', 'hectare', 'shift']\n",
    "    bool_cols = [\n",
    "        'running', 'chasing', 'climbing', 'eating', 'foraging',\n",
    "        'kuks', 'quaas', 'moans', 'tail_flags', 'tail_twitches',\n",
    "        'approaches', 'indifferent', 'runs_from',\n",
    "    ]\n",
    "\n",
    "    ok_features = [c for c in [\n",
    "        'hectare', 'shift', 'primary_fur_color',\n",
    "        'highlight_fur_color', 'specific_location',\n",
    "        'running', 'chasing', 'climbing', 'eating',\n",
    "        'foraging', 'kuks', 'quaas', 'moans',\n",
    "        'tail_flags', 'tail_twitches', 'approaches',\n",
    "        'indifferent', 'runs_from',\n",
    "    ] if c in df.columns]\n",
    "\n",
    "    # Keep only available columns\n",
    "    cat_cols = [c for c in cat_cols if c in df.columns and c != target]\n",
    "    bool_cols = [c for c in bool_cols if c in df.columns and c != target]\n",
    "\n",
    "    # fill booleans with False, then convert to int\n",
    "    df[bool_cols] = df[bool_cols].fillna(False).astype(int)\n",
    "\n",
    "    # encoder for categorical features\n",
    "    preprocessor = ColumnTransformer(transformers=[\n",
    "        ('bools', 'passthrough', bool_cols),\n",
    "        ('cats', OneHotEncoder(handle_unknown='ignore'), cat_cols)\n",
    "    ])\n",
    "\n",
    "    # encode and transform features\n",
    "    X = preprocessor.fit_transform(df)\n",
    "\n",
    "    # encode the target column\n",
    "    y_encoder = OneHotEncoder(sparse_output=False, handle_unknown='ignore')\n",
    "    y = y_encoder.fit_transform(df[[target]])\n",
    "\n",
    "    return X, y, feature_names, y_encoder\n",
    "    "
   ],
   "id": "7eafa3ef788c1d1f",
   "outputs": [],
   "execution_count": 218
  },
  {
   "metadata": {
    "ExecuteTime": {
     "end_time": "2025-10-28T00:57:57.135063Z",
     "start_time": "2025-10-28T00:57:57.118716Z"
    }
   },
   "cell_type": "code",
   "source": "X, y, feature_names, y_encoder = prepare_dataset(df, target='primary_fur_color')  # 'primary_fur_color' 'shift', 'age'",
   "id": "1caea3336b347f78",
   "outputs": [
    {
     "name": "stdout",
     "output_type": "stream",
     "text": [
      "2968 rows remaining\n"
     ]
    }
   ],
   "execution_count": 220
  },
  {
   "metadata": {
    "ExecuteTime": {
     "end_time": "2025-10-28T00:58:04.064366Z",
     "start_time": "2025-10-28T00:58:04.052296Z"
    }
   },
   "cell_type": "code",
   "source": [
    "# finally make a train-test-split\n",
    "X_train, X_test, y_train, y_test = train_test_split(\n",
    "    ...)\n",
    "\n",
    "print(f'train: {X_train.shape}\\ntest:  {X_test.shape}')\n",
    "print('Classes:', y_encoder.categories_[0])"
   ],
   "id": "4e0e76811ec1c99f",
   "outputs": [
    {
     "name": "stdout",
     "output_type": "stream",
     "text": [
      "train: (2522, 357)\n",
      "test:  (446, 357)\n",
      "Classes: ['Black' 'Cinnamon' 'Gray']\n"
     ]
    }
   ],
   "execution_count": 222
  },
  {
   "metadata": {
    "ExecuteTime": {
     "end_time": "2025-10-28T00:58:05.662487Z",
     "start_time": "2025-10-28T00:58:05.659736Z"
    }
   },
   "cell_type": "code",
   "source": "",
   "id": "10d2179e262b8f25",
   "outputs": [],
   "execution_count": null
  },
  {
   "metadata": {},
   "cell_type": "markdown",
   "source": "### Reproducibility",
   "id": "c03b3025df569317"
  },
  {
   "metadata": {
    "ExecuteTime": {
     "end_time": "2025-10-28T00:58:06.593434Z",
     "start_time": "2025-10-28T00:58:06.574750Z"
    }
   },
   "cell_type": "code",
   "source": [
    "from numpy.random import seed\n",
    "from tensorflow.random import set_seed\n",
    "seed(1)\n",
    "set_seed(2)\n",
    "sns.set_theme(style='white')"
   ],
   "id": "6962ebccd5ef810f",
   "outputs": [],
   "execution_count": 223
  },
  {
   "metadata": {},
   "cell_type": "markdown",
   "source": "## Predict Squirrel Fur Color",
   "id": "5800ffcb413a46e4"
  },
  {
   "metadata": {},
   "cell_type": "code",
   "source": [
    "# this function sets up the model. You can make it as complex or simple as you want. In particular, feel free to try dropout, or try different sizes.\n",
    "def make_multiclass_model(input_shape, n_classes) -> keras.Model:\n",
    "    ...\n",
    "\n",
    "# once your function is finished, you can build your model:\n",
    "model = make_multiclass_model((X_train.shape[1],), y_train.shape[1])\n",
    "# now compile it with the correct loss and optimizer:\n",
    "model.compile(\n",
    "    ...\n",
    "              )\n",
    "model.summary()"
   ],
   "id": "d17fc213b7acfdda",
   "outputs": [],
   "execution_count": null
  },
  {
   "metadata": {},
   "cell_type": "code",
   "source": [
    "# train the model\n",
    "history = model.fit(...,\n",
    "                    validation_split=.2,\n",
    "                    verbose=2)\n",
    "\n",
    "y_train_predict = model.predict(X_train)\n",
    "y_test_predict = model.predict(X_test)"
   ],
   "id": "9b1d257655c9300d",
   "outputs": [],
   "execution_count": null
  },
  {
   "metadata": {},
   "cell_type": "code",
   "source": [
    "# turn the history into a DataFrame for easier analysis\n",
    "history_df = pd.DataFrame.from_dict(history.history)\n",
    "history_df.head()"
   ],
   "id": "6c2d39a18d3436a6",
   "outputs": [],
   "execution_count": null
  },
  {
   "metadata": {},
   "cell_type": "code",
   "source": [
    "# plot the training and validation loss and accuracy\n",
    "fig, (ax0, ax1) = plt.subplots(1, 2, figsize=(6, 3))\n",
    "\n",
    "sns.lineplot(..., ax=ax0)\n",
    "ax0.set_xlabel('epochs')\n",
    "sns.lineplot(..., ax=ax1)\n",
    "plt.tight_layout()\n"
   ],
   "id": "6e3be85a57e6972b",
   "outputs": [],
   "execution_count": null
  },
  {
   "metadata": {
    "ExecuteTime": {
     "end_time": "2025-10-28T00:58:51.219764Z",
     "start_time": "2025-10-28T00:58:51.105668Z"
    }
   },
   "cell_type": "code",
   "source": [
    "test_loss, test_accuracy = model.evaluate(X_test, y_test)\n",
    "f'test loss: {test_loss:.2f}, test accuracy {test_accuracy:.2f}'"
   ],
   "id": "1c9eada8e9ff4752",
   "outputs": [
    {
     "name": "stdout",
     "output_type": "stream",
     "text": [
      "\u001B[1m14/14\u001B[0m \u001B[32m━━━━━━━━━━━━━━━━━━━━\u001B[0m\u001B[37m\u001B[0m \u001B[1m0s\u001B[0m 2ms/step - accuracy: 0.8072 - loss: 1.8044 \n"
     ]
    },
    {
     "data": {
      "text/plain": [
       "'test loss: 1.80, test accuracy 0.81'"
      ]
     },
     "execution_count": 229,
     "metadata": {},
     "output_type": "execute_result"
    }
   ],
   "execution_count": 229
  },
  {
   "metadata": {
    "ExecuteTime": {
     "end_time": "2025-10-28T00:58:51.892053Z",
     "start_time": "2025-10-28T00:58:51.814257Z"
    }
   },
   "cell_type": "code",
   "source": [
    "y_pred = model.predict(X_test)\n",
    "prediction = y_encoder.inverse_transform(y_pred)\n",
    "ground_truth = y_encoder.inverse_transform(y_test)"
   ],
   "id": "368060cb7e9ac7f9",
   "outputs": [
    {
     "name": "stdout",
     "output_type": "stream",
     "text": [
      "\u001B[1m14/14\u001B[0m \u001B[32m━━━━━━━━━━━━━━━━━━━━\u001B[0m\u001B[37m\u001B[0m \u001B[1m0s\u001B[0m 1ms/step \n"
     ]
    }
   ],
   "execution_count": 230
  },
  {
   "metadata": {
    "ExecuteTime": {
     "end_time": "2025-10-28T00:58:52.253038Z",
     "start_time": "2025-10-28T00:58:52.248561Z"
    }
   },
   "cell_type": "code",
   "source": [
    "cm = confusion_matrix(ground_truth, prediction)\n",
    "print(cm)"
   ],
   "id": "48ee86d839ccf5b1",
   "outputs": [
    {
     "name": "stdout",
     "output_type": "stream",
     "text": [
      "[[  0   0  15]\n",
      " [  0  14  45]\n",
      " [  8  18 346]]\n"
     ]
    }
   ],
   "execution_count": 231
  },
  {
   "metadata": {
    "ExecuteTime": {
     "end_time": "2025-10-28T00:58:52.796114Z",
     "start_time": "2025-10-28T00:58:52.792543Z"
    }
   },
   "cell_type": "code",
   "source": [
    "# To confirm which axis is the truth and which is the prediction\n",
    "np.unique(ground_truth, return_counts=True)"
   ],
   "id": "53fbe6a188184348",
   "outputs": [
    {
     "data": {
      "text/plain": [
       "(array(['Black', 'Cinnamon', 'Gray'], dtype=object), array([ 15,  59, 372]))"
      ]
     },
     "execution_count": 232,
     "metadata": {},
     "output_type": "execute_result"
    }
   ],
   "execution_count": 232
  },
  {
   "metadata": {},
   "cell_type": "code",
   "source": [
    "ax = sns.heatmap(cm, annot=True, square=True,\n",
    "            yticklabels=y_encoder.categories_[0],\n",
    "            xticklabels=y_encoder.categories_[0],\n",
    "            )\n",
    "ax.set(xlabel='prediction', ylabel='ground truth')"
   ],
   "id": "a66c3056e5213e63",
   "outputs": [],
   "execution_count": null
  },
  {
   "metadata": {},
   "cell_type": "code",
   "outputs": [],
   "execution_count": null,
   "source": "",
   "id": "db8c2b2d5d47e26a"
  },
  {
   "metadata": {},
   "cell_type": "markdown",
   "source": [
    "## Extra Task: Predict `shift`\n",
    "This means whether the squirrel was seen before or after noon."
   ],
   "id": "206ff66ec82167e1"
  },
  {
   "metadata": {},
   "cell_type": "code",
   "outputs": [],
   "execution_count": null,
   "source": "",
   "id": "97575d9c1138692e"
  },
  {
   "metadata": {},
   "cell_type": "markdown",
   "source": [
    "## Extra Task: Feature Engineering\n",
    "Build a feature that indicates whether a squirrel will accept and eat a nut from you:\n",
    "It `approaches` or `forages`, or `eating` already. Also, it is not `indifferent` or `runs_from` you. Then build a predictor for this feature!"
   ],
   "id": "c609ae46d2d26439"
  },
  {
   "metadata": {},
   "cell_type": "code",
   "outputs": [],
   "execution_count": null,
   "source": "",
   "id": "867c3df1587f2852"
  },
  {
   "metadata": {},
   "cell_type": "markdown",
   "source": [
    "## Extra Task: Regression\n",
    "Build a synthetic feature that encodes how chatty a squirrel is. For that, combine `kuks`, `moans` and `quaas`."
   ],
   "id": "21dfc3504786ec58"
  },
  {
   "metadata": {},
   "cell_type": "code",
   "outputs": [],
   "execution_count": null,
   "source": "",
   "id": "e4c7074766c8f82e"
  }
 ],
 "metadata": {
  "kernelspec": {
   "display_name": "Python 3",
   "language": "python",
   "name": "python3"
  },
  "language_info": {
   "codemirror_mode": {
    "name": "ipython",
    "version": 2
   },
   "file_extension": ".py",
   "mimetype": "text/x-python",
   "name": "python",
   "nbconvert_exporter": "python",
   "pygments_lexer": "ipython2",
   "version": "2.7.6"
  }
 },
 "nbformat": 4,
 "nbformat_minor": 5
}
