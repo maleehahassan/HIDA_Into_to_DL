{
  "cells": [
    {
      "cell_type": "markdown",
      "metadata": {
        "id": "view-in-github",
        "colab_type": "text"
      },
      "source": [
        "<a href=\"https://colab.research.google.com/github/maleehahassan/HIDA_Into_to_DL/blob/main/14_feedforward_squirrels.ipynb\" target=\"_parent\"><img src=\"https://colab.research.google.com/assets/colab-badge.svg\" alt=\"Open In Colab\"/></a>"
      ]
    },
    {
      "metadata": {
        "id": "b6eb3838dae8ba04"
      },
      "cell_type": "markdown",
      "source": [
        "<a href=\"https://colab.research.google.com/github/maleehahassan/HIDA_Into_to_DL/blob/main/10_feedforward_squirrels.ipynb\" target=\"_parent\"><img src=\"https://colab.research.google.com/assets/colab-badge.svg\" alt=\"Open In Colab\"/></a>"
      ],
      "id": "b6eb3838dae8ba04"
    },
    {
      "cell_type": "code",
      "id": "initial_id",
      "metadata": {
        "collapsed": true,
        "ExecuteTime": {
          "end_time": "2025-10-28T00:52:16.667225Z",
          "start_time": "2025-10-28T00:52:16.493100Z"
        },
        "id": "initial_id"
      },
      "source": [
        "import pandas as pd\n",
        "import numpy as np\n",
        "\n",
        "import seaborn as sns\n",
        "import matplotlib.pyplot as plt\n",
        "\n",
        "from tensorflow import keras\n",
        "from sklearn.preprocessing import OneHotEncoder\n",
        "from sklearn.model_selection import train_test_split\n",
        "from sklearn.compose import ColumnTransformer\n",
        "from sklearn.pipeline import Pipeline\n",
        "from sklearn.metrics import confusion_matrix\n",
        "\n",
        "sns.set_theme(style='white')"
      ],
      "outputs": [],
      "execution_count": null
    },
    {
      "metadata": {
        "ExecuteTime": {
          "end_time": "2025-10-27T23:44:27.262562Z",
          "start_time": "2025-10-27T23:44:27.261028Z"
        },
        "id": "6e53bc010c1b943e"
      },
      "cell_type": "code",
      "source": [
        "# %matplotlib inline"
      ],
      "id": "6e53bc010c1b943e",
      "outputs": [],
      "execution_count": null
    },
    {
      "metadata": {
        "id": "9bd979bad6b5d6dc"
      },
      "cell_type": "markdown",
      "source": [
        "First, download a dataset about squirrel sightings in New York City."
      ],
      "id": "9bd979bad6b5d6dc"
    },
    {
      "metadata": {
        "ExecuteTime": {
          "end_time": "2025-10-27T23:44:29.023342Z",
          "start_time": "2025-10-27T23:44:27.268279Z"
        },
        "id": "6069249852471ae3"
      },
      "cell_type": "code",
      "source": [
        "# simply using pandas\n",
        "url = 'https://data.cityofnewyork.us/resource/vfnx-vebw.csv?$limit=5000'\n",
        "df = pd.read_csv(url)\n",
        "df.shape"
      ],
      "id": "6069249852471ae3",
      "outputs": [],
      "execution_count": null
    },
    {
      "metadata": {
        "ExecuteTime": {
          "end_time": "2025-10-27T23:44:30.677686Z",
          "start_time": "2025-10-27T23:44:30.667987Z"
        },
        "id": "74847c4cbbf05f7d"
      },
      "cell_type": "code",
      "source": [
        "df.head()"
      ],
      "id": "74847c4cbbf05f7d",
      "outputs": [],
      "execution_count": null
    },
    {
      "metadata": {
        "ExecuteTime": {
          "end_time": "2025-10-27T23:44:30.777319Z",
          "start_time": "2025-10-27T23:44:30.750241Z"
        },
        "id": "6b1bb065ad6106c8"
      },
      "cell_type": "code",
      "source": [
        "df.describe(include='all')"
      ],
      "id": "6b1bb065ad6106c8",
      "outputs": [],
      "execution_count": null
    },
    {
      "metadata": {
        "ExecuteTime": {
          "end_time": "2025-10-27T23:44:34.937317Z",
          "start_time": "2025-10-27T23:44:34.935573Z"
        },
        "id": "436f1db953108b66"
      },
      "cell_type": "code",
      "source": [],
      "id": "436f1db953108b66",
      "outputs": [],
      "execution_count": null
    },
    {
      "metadata": {
        "id": "fa76a053afb15adf"
      },
      "cell_type": "markdown",
      "source": [
        "## Exploratory data analysis\n",
        "Inspect the dataset some more, using in particular `dtypes` or `describe`. Find out how often the different behaviours were observed!"
      ],
      "id": "fa76a053afb15adf"
    },
    {
      "metadata": {
        "ExecuteTime": {
          "end_time": "2025-10-28T00:31:19.398179Z",
          "start_time": "2025-10-28T00:31:19.393511Z"
        },
        "id": "8277ee607f3d2d40"
      },
      "cell_type": "code",
      "source": [
        "# using dtypes"
      ],
      "id": "8277ee607f3d2d40",
      "outputs": [],
      "execution_count": null
    },
    {
      "metadata": {
        "ExecuteTime": {
          "end_time": "2025-10-28T00:31:44.538944Z",
          "start_time": "2025-10-28T00:31:44.531974Z"
        },
        "id": "ea192885dd49e889"
      },
      "cell_type": "code",
      "source": [
        "# using pandas describe"
      ],
      "id": "ea192885dd49e889",
      "outputs": [],
      "execution_count": null
    },
    {
      "metadata": {
        "id": "fbd381fa3b423f2f"
      },
      "cell_type": "markdown",
      "source": [
        "If you want, you can draw a `pairplot` – but it will be very big!"
      ],
      "id": "fbd381fa3b423f2f"
    },
    {
      "metadata": {
        "ExecuteTime": {
          "end_time": "2025-10-27T23:44:37.667071Z",
          "start_time": "2025-10-27T23:44:37.665742Z"
        },
        "id": "5394e495a32dfa82"
      },
      "cell_type": "code",
      "source": [],
      "id": "5394e495a32dfa82",
      "outputs": [],
      "execution_count": null
    },
    {
      "metadata": {
        "id": "790cfc80ec41192d"
      },
      "cell_type": "markdown",
      "source": [
        "Draw sighting locations using `sns.relplot` or `sns.jointplot`, then explore the distributions of a few interesting features and the `hue` parameter."
      ],
      "id": "790cfc80ec41192d"
    },
    {
      "metadata": {
        "id": "18ad227d81f74460"
      },
      "cell_type": "code",
      "source": [
        "# the primary_fur_color is probably interesting\n",
        "sns.relplot(data=df,\n",
        "            ...,\n",
        "            )"
      ],
      "id": "18ad227d81f74460",
      "outputs": [],
      "execution_count": null
    },
    {
      "metadata": {
        "id": "e67358669153eaba"
      },
      "cell_type": "code",
      "outputs": [],
      "execution_count": null,
      "source": [
        "# or the shift\n"
      ],
      "id": "e67358669153eaba"
    },
    {
      "metadata": {
        "id": "60c840b437dc23f1"
      },
      "cell_type": "code",
      "source": [
        "# a jointplot also shows the marginal distributions\n",
        "sns.jointplot(\n",
        "    ...\n",
        "              )"
      ],
      "id": "60c840b437dc23f1",
      "outputs": [],
      "execution_count": null
    },
    {
      "metadata": {
        "id": "e6c70c9b062377b5"
      },
      "cell_type": "markdown",
      "source": [
        "## Feature Cleaning / Encoding\n",
        "This dataset definitely needs some cleaning. It has a mix of categorical, boolean and numerical values; a lot of `NA`s and some string columns with rare annotation."
      ],
      "id": "e6c70c9b062377b5"
    },
    {
      "metadata": {
        "ExecuteTime": {
          "end_time": "2025-10-28T00:57:51.404358Z",
          "start_time": "2025-10-28T00:57:51.398177Z"
        },
        "id": "7eafa3ef788c1d1f"
      },
      "cell_type": "code",
      "source": [
        "def prepare_dataset(df: pd.DataFrame,\n",
        "                    target: str = 'primary_fur_color',\n",
        "                    ) -> tuple[np.array, np.array, OneHotEncoder]:\n",
        "    # make a copy so we don't modify the original dataframe\n",
        "    df = df.copy()\n",
        "\n",
        "    if target not in df.columns:\n",
        "        raise ValueError(f'column {target} not found in dataset!')\n",
        "\n",
        "    # drop rows where the target column isn't defined\n",
        "    df = df.dropna(subset=[target])\n",
        "    print(f'{len(df)} rows remaining')\n",
        "\n",
        "    # not all columns can be used as training features.\n",
        "    # we also treat categoricals and booleans differently.\n",
        "    cat_cols = ['age', 'hectare', 'shift']\n",
        "    bool_cols = [\n",
        "        'running', 'chasing', 'climbing', 'eating', 'foraging',\n",
        "        'kuks', 'quaas', 'moans', 'tail_flags', 'tail_twitches',\n",
        "        'approaches', 'indifferent', 'runs_from',\n",
        "    ]\n",
        "\n",
        "    ok_features = [c for c in [\n",
        "        'hectare', 'shift', 'primary_fur_color',\n",
        "        'highlight_fur_color', 'specific_location',\n",
        "        'running', 'chasing', 'climbing', 'eating',\n",
        "        'foraging', 'kuks', 'quaas', 'moans',\n",
        "        'tail_flags', 'tail_twitches', 'approaches',\n",
        "        'indifferent', 'runs_from',\n",
        "    ] if c in df.columns]\n",
        "\n",
        "    # Keep only available columns\n",
        "    cat_cols = [c for c in cat_cols if c in df.columns and c != target]\n",
        "    bool_cols = [c for c in bool_cols if c in df.columns and c != target]\n",
        "\n",
        "    # fill booleans with False, then convert to int\n",
        "    df[bool_cols] = df[bool_cols].fillna(False).astype(int)\n",
        "\n",
        "    # encoder for categorical features\n",
        "    preprocessor = ColumnTransformer(transformers=[\n",
        "        ('bools', 'passthrough', bool_cols),\n",
        "        ('cats', OneHotEncoder(handle_unknown='ignore'), cat_cols)\n",
        "    ])\n",
        "\n",
        "    # encode and transform features\n",
        "    X = preprocessor.fit_transform(df)\n",
        "\n",
        "    # encode the target column\n",
        "    y_encoder = OneHotEncoder(sparse_output=False, handle_unknown='ignore')\n",
        "    y = y_encoder.fit_transform(df[[target]])\n",
        "\n",
        "    return X, y, y_encoder\n",
        ""
      ],
      "id": "7eafa3ef788c1d1f",
      "outputs": [],
      "execution_count": null
    },
    {
      "metadata": {
        "ExecuteTime": {
          "end_time": "2025-10-28T00:57:57.135063Z",
          "start_time": "2025-10-28T00:57:57.118716Z"
        },
        "id": "1caea3336b347f78"
      },
      "cell_type": "code",
      "source": [
        "X, y, y_encoder = prepare_dataset(df, target='primary_fur_color')  # 'primary_fur_color' 'shift', 'age'"
      ],
      "id": "1caea3336b347f78",
      "outputs": [],
      "execution_count": null
    },
    {
      "metadata": {
        "ExecuteTime": {
          "end_time": "2025-10-28T00:58:04.064366Z",
          "start_time": "2025-10-28T00:58:04.052296Z"
        },
        "id": "4e0e76811ec1c99f"
      },
      "cell_type": "code",
      "source": [
        "# finally make a train-test-split\n",
        "X_train, X_test, y_train, y_test = train_test_split(\n",
        "    ...)\n",
        "\n",
        "print(f'train: {X_train.shape}\\ntest:  {X_test.shape}')\n",
        "print('Classes:', y_encoder.categories_[0])"
      ],
      "id": "4e0e76811ec1c99f",
      "outputs": [],
      "execution_count": null
    },
    {
      "metadata": {
        "ExecuteTime": {
          "end_time": "2025-10-28T00:58:05.662487Z",
          "start_time": "2025-10-28T00:58:05.659736Z"
        },
        "id": "10d2179e262b8f25"
      },
      "cell_type": "code",
      "source": [],
      "id": "10d2179e262b8f25",
      "outputs": [],
      "execution_count": null
    },
    {
      "metadata": {
        "id": "c03b3025df569317"
      },
      "cell_type": "markdown",
      "source": [
        "### Reproducibility"
      ],
      "id": "c03b3025df569317"
    },
    {
      "metadata": {
        "ExecuteTime": {
          "end_time": "2025-10-28T00:58:06.593434Z",
          "start_time": "2025-10-28T00:58:06.574750Z"
        },
        "id": "6962ebccd5ef810f"
      },
      "cell_type": "code",
      "source": [
        "from numpy.random import seed\n",
        "from tensorflow.random import set_seed\n",
        "seed(1)\n",
        "set_seed(2)\n",
        "sns.set_theme(style='white')"
      ],
      "id": "6962ebccd5ef810f",
      "outputs": [],
      "execution_count": null
    },
    {
      "metadata": {
        "id": "5800ffcb413a46e4"
      },
      "cell_type": "markdown",
      "source": [
        "## Predict Squirrel Fur Color"
      ],
      "id": "5800ffcb413a46e4"
    },
    {
      "metadata": {
        "id": "d17fc213b7acfdda"
      },
      "cell_type": "code",
      "source": [
        "# this function sets up the model. You can make it as complex or simple as you want. In particular, feel free to try dropout, or try different sizes.\n",
        "def make_multiclass_model(input_shape, n_classes) -> keras.Model:\n",
        "    ...\n",
        "\n",
        "# once your function is finished, you can build your model:\n",
        "model = make_multiclass_model((X_train.shape[1],), y_train.shape[1])\n",
        "# now compile it with the correct loss and optimizer:\n",
        "model.compile(\n",
        "    ...\n",
        "              )\n",
        "model.summary()"
      ],
      "id": "d17fc213b7acfdda",
      "outputs": [],
      "execution_count": null
    },
    {
      "metadata": {
        "id": "9b1d257655c9300d"
      },
      "cell_type": "code",
      "source": [
        "# train the model\n",
        "history = model.fit(...,\n",
        "                    validation_split=.2,\n",
        "                    verbose=2)\n",
        "\n",
        "y_train_predict = model.predict(X_train)\n",
        "y_test_predict = model.predict(X_test)"
      ],
      "id": "9b1d257655c9300d",
      "outputs": [],
      "execution_count": null
    },
    {
      "metadata": {
        "id": "6c2d39a18d3436a6"
      },
      "cell_type": "code",
      "source": [
        "# turn the history into a DataFrame for easier analysis\n",
        "history_df = pd.DataFrame.from_dict(history.history)\n",
        "history_df.head()"
      ],
      "id": "6c2d39a18d3436a6",
      "outputs": [],
      "execution_count": null
    },
    {
      "metadata": {
        "id": "6e3be85a57e6972b"
      },
      "cell_type": "code",
      "source": [
        "# plot the training and validation loss and accuracy\n",
        "fig, (ax0, ax1) = plt.subplots(1, 2, figsize=(6, 3))\n",
        "\n",
        "sns.lineplot(..., ax=ax0)\n",
        "ax0.set_xlabel('epochs')\n",
        "sns.lineplot(..., ax=ax1)\n",
        "plt.tight_layout()\n"
      ],
      "id": "6e3be85a57e6972b",
      "outputs": [],
      "execution_count": null
    },
    {
      "metadata": {
        "ExecuteTime": {
          "end_time": "2025-10-28T00:58:51.219764Z",
          "start_time": "2025-10-28T00:58:51.105668Z"
        },
        "id": "1c9eada8e9ff4752"
      },
      "cell_type": "code",
      "source": [
        "test_loss, test_accuracy = model.evaluate(X_test, y_test)\n",
        "f'test loss: {test_loss:.2f}, test accuracy {test_accuracy:.2f}'"
      ],
      "id": "1c9eada8e9ff4752",
      "outputs": [],
      "execution_count": null
    },
    {
      "metadata": {
        "ExecuteTime": {
          "end_time": "2025-10-28T00:58:51.892053Z",
          "start_time": "2025-10-28T00:58:51.814257Z"
        },
        "id": "368060cb7e9ac7f9"
      },
      "cell_type": "code",
      "source": [
        "y_pred = model.predict(X_test)\n",
        "prediction = y_encoder.inverse_transform(y_pred)\n",
        "ground_truth = y_encoder.inverse_transform(y_test)"
      ],
      "id": "368060cb7e9ac7f9",
      "outputs": [],
      "execution_count": null
    },
    {
      "metadata": {
        "ExecuteTime": {
          "end_time": "2025-10-28T00:58:52.253038Z",
          "start_time": "2025-10-28T00:58:52.248561Z"
        },
        "id": "48ee86d839ccf5b1"
      },
      "cell_type": "code",
      "source": [
        "cm = confusion_matrix(ground_truth, prediction)\n",
        "print(cm)"
      ],
      "id": "48ee86d839ccf5b1",
      "outputs": [],
      "execution_count": null
    },
    {
      "metadata": {
        "ExecuteTime": {
          "end_time": "2025-10-28T00:58:52.796114Z",
          "start_time": "2025-10-28T00:58:52.792543Z"
        },
        "id": "53fbe6a188184348"
      },
      "cell_type": "code",
      "source": [
        "# To confirm which axis is the truth and which is the prediction\n",
        "np.unique(ground_truth, return_counts=True)"
      ],
      "id": "53fbe6a188184348",
      "outputs": [],
      "execution_count": null
    },
    {
      "metadata": {
        "id": "a66c3056e5213e63"
      },
      "cell_type": "code",
      "source": [
        "ax = sns.heatmap(cm, annot=True, square=True,\n",
        "            yticklabels=y_encoder.categories_[0],\n",
        "            xticklabels=y_encoder.categories_[0],\n",
        "            )\n",
        "ax.set(xlabel='prediction', ylabel='ground truth')"
      ],
      "id": "a66c3056e5213e63",
      "outputs": [],
      "execution_count": null
    },
    {
      "metadata": {
        "id": "db8c2b2d5d47e26a"
      },
      "cell_type": "code",
      "outputs": [],
      "execution_count": null,
      "source": [],
      "id": "db8c2b2d5d47e26a"
    },
    {
      "metadata": {
        "id": "206ff66ec82167e1"
      },
      "cell_type": "markdown",
      "source": [
        "## Extra Task: Predict `shift`\n",
        "This means whether the squirrel was seen before or after noon."
      ],
      "id": "206ff66ec82167e1"
    },
    {
      "metadata": {
        "id": "97575d9c1138692e"
      },
      "cell_type": "code",
      "outputs": [],
      "execution_count": null,
      "source": [],
      "id": "97575d9c1138692e"
    },
    {
      "metadata": {
        "id": "c609ae46d2d26439"
      },
      "cell_type": "markdown",
      "source": [
        "## Extra Task: Feature Engineering\n",
        "Build a feature that indicates whether a squirrel will accept and eat a nut from you:\n",
        "It `approaches` or `forages`, or `eating` already. Also, it is not `indifferent` or `runs_from` you. Then build a predictor for this feature!"
      ],
      "id": "c609ae46d2d26439"
    },
    {
      "metadata": {
        "id": "867c3df1587f2852"
      },
      "cell_type": "code",
      "outputs": [],
      "execution_count": null,
      "source": [],
      "id": "867c3df1587f2852"
    },
    {
      "metadata": {
        "id": "21dfc3504786ec58"
      },
      "cell_type": "markdown",
      "source": [
        "## Extra Task: Regression\n",
        "Build a synthetic feature that encodes how chatty a squirrel is. For that, combine `kuks`, `moans` and `quaas`."
      ],
      "id": "21dfc3504786ec58"
    },
    {
      "metadata": {
        "id": "e4c7074766c8f82e"
      },
      "cell_type": "code",
      "outputs": [],
      "execution_count": null,
      "source": [],
      "id": "e4c7074766c8f82e"
    }
  ],
  "metadata": {
    "kernelspec": {
      "display_name": "Python 3",
      "language": "python",
      "name": "python3"
    },
    "language_info": {
      "codemirror_mode": {
        "name": "ipython",
        "version": 2
      },
      "file_extension": ".py",
      "mimetype": "text/x-python",
      "name": "python",
      "nbconvert_exporter": "python",
      "pygments_lexer": "ipython2",
      "version": "2.7.6"
    },
    "colab": {
      "provenance": [],
      "include_colab_link": true
    }
  },
  "nbformat": 4,
  "nbformat_minor": 5
}