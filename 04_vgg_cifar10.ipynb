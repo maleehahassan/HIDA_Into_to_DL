{
  "cells": [
    {
      "cell_type": "markdown",
      "metadata": {
        "id": "view-in-github",
        "colab_type": "text"
      },
      "source": [
        "<a href=\"https://colab.research.google.com/github/maleehahassan/HIDA_Into_to_DL/blob/main/04_vgg_cifar10.ipynb\" target=\"_parent\"><img src=\"https://colab.research.google.com/assets/colab-badge.svg\" alt=\"Open In Colab\"/></a>"
      ]
    },
    {
      "cell_type": "markdown",
      "id": "670aefc166823ed0",
      "metadata": {
        "id": "670aefc166823ed0"
      },
      "source": [
        "# Project Overview: CIFAR10 Classification with a Custom VGG-like Network\n",
        "\n",
        "This notebook guides you through building a VGG-style convolutional neural network from scratch to classify images in the CIFAR10 dataset. The workflow includes:\n",
        "\n",
        "- **Importing Libraries**: Key Python libraries for deep learning, data handling, and visualization.\n",
        "- **Loading Data**: CIFAR10 dataset is loaded, containing 60,000 color images across 10 classes.\n",
        "- **Preprocessing**: Images are normalized to the [0, 1] range for better model performance.\n",
        "- **Visualization**: 25 sample images are displayed with their class names for a quick visual check.\n",
        "- **Model Construction**: A VGG-like CNN is built from scratch using TensorFlow/Keras, with multiple convolutional and pooling layers, followed by dense layers.\n",
        "- **Training**: The model is trained for 30 epochs on the CIFAR10 data.\n",
        "- **Evaluation**: Training progress is visualized with accuracy and loss plots. The model is evaluated on the test set to report accuracy.\n",
        "- **Confusion Matrix**: Predictions are made on the test set and a confusion matrix is plotted to show class-wise performance.\n",
        "\n",
        "This notebook helps learners understand how to design, train, and evaluate deeper CNN architectures for image classification tasks."
      ]
    },
    {
      "cell_type": "code",
      "execution_count": null,
      "id": "64b7364d97685924",
      "metadata": {
        "id": "64b7364d97685924"
      },
      "outputs": [],
      "source": [
        "# Import required libraries\n",
        "from tensorflow import keras\n",
        "import numpy as np\n",
        "import matplotlib.pyplot as plt\n",
        "import seaborn as sns\n",
        "import pandas as pd"
      ]
    },
    {
      "cell_type": "code",
      "execution_count": null,
      "id": "bf055bbdb6aaaab8",
      "metadata": {
        "id": "bf055bbdb6aaaab8"
      },
      "outputs": [],
      "source": [
        "# Load the CIFAR10 dataset\n",
        "(train_images, train_labels), (test_images, test_labels) = keras.datasets.cifar10.load_data()"
      ]
    },
    {
      "cell_type": "code",
      "execution_count": null,
      "id": "81580a819eaf4fd8",
      "metadata": {
        "id": "81580a819eaf4fd8"
      },
      "outputs": [],
      "source": [
        "# Normalize pixel values to [0, 1]\n",
        "train_images = train_images / 255.0\n",
        "test_images = test_images / 255.0"
      ]
    },
    {
      "cell_type": "code",
      "execution_count": null,
      "id": "b08bcfcc7d2a480",
      "metadata": {
        "id": "b08bcfcc7d2a480"
      },
      "outputs": [],
      "source": [
        "# Define class names for CIFAR10\n",
        "class_names = ['airplane', 'automobile', 'bird', 'cat', 'deer',\n",
        "               'dog', 'frog', 'horse', 'ship', 'truck']"
      ]
    },
    {
      "cell_type": "code",
      "execution_count": null,
      "id": "73eb2d66de64b24d",
      "metadata": {
        "id": "73eb2d66de64b24d"
      },
      "outputs": [],
      "source": [
        "# Display 25 sample images\n",
        "plt.figure(figsize=(10,10))\n",
        "for i in range(25):\n",
        "    plt.subplot(5,5,i+1)\n",
        "    plt.imshow(train_images[i])\n",
        "    plt.axis('off')\n",
        "    plt.title(class_names[train_labels[i,0]])\n",
        "plt.show()"
      ]
    },
    {
      "cell_type": "code",
      "execution_count": null,
      "id": "8d066ee83644f9a",
      "metadata": {
        "id": "8d066ee83644f9a"
      },
      "outputs": [],
      "source": [
        "# Build a VGG-like model from scratch\n",
        "# This is a simplified version for CIFAR10\n",
        "\n",
        "def build_vgg_like(input_shape, num_classes):\n",
        "    model = keras.Sequential()\n",
        "    # Block 1\n",
        "    model.add(keras.layers.Conv2D(64, (3,3), activation='relu', padding='same', input_shape=input_shape))\n",
        "    model.add(keras.layers.Conv2D(64, (3,3), activation='relu', padding='same'))\n",
        "    model.add(keras.layers.MaxPooling2D((2,2)))\n",
        "    # Block 2\n",
        "    model.add(keras.layers.Conv2D(128, (3,3), activation='relu', padding='same'))\n",
        "    model.add(keras.layers.Conv2D(128, (3,3), activation='relu', padding='same'))\n",
        "    model.add(keras.layers.MaxPooling2D((2,2)))\n",
        "    # Block 3\n",
        "    model.add(keras.layers.Conv2D(256, (3,3), activation='relu', padding='same'))\n",
        "    model.add(keras.layers.Conv2D(256, (3,3), activation='relu', padding='same'))\n",
        "    model.add(keras.layers.MaxPooling2D((2,2)))\n",
        "    # Flatten and Dense layers\n",
        "    model.add(keras.layers.Flatten())\n",
        "    model.add(keras.layers.Dense(512, activation='relu'))\n",
        "    model.add(keras.layers.Dropout(0.5))\n",
        "    model.add(keras.layers.Dense(num_classes, activation='softmax'))\n",
        "    return model"
      ]
    },
    {
      "cell_type": "code",
      "execution_count": null,
      "id": "acf1bba59c85311f",
      "metadata": {
        "id": "acf1bba59c85311f"
      },
      "outputs": [],
      "source": [
        "# Create the VGG-like model\n",
        "model = build_vgg_like(train_images.shape[1:], 10)\n",
        "model.summary()"
      ]
    },
    {
      "cell_type": "code",
      "execution_count": null,
      "id": "843780074eda1c33",
      "metadata": {
        "id": "843780074eda1c33"
      },
      "outputs": [],
      "source": [
        "# Compile the model\n",
        "model.compile(optimizer='adam',\n",
        "              loss='sparse_categorical_crossentropy',\n",
        "              metrics=['accuracy'])"
      ]
    },
    {
      "cell_type": "code",
      "execution_count": null,
      "id": "e3b7b34db83e93a8",
      "metadata": {
        "colab": {
          "background_save": true
        },
        "id": "e3b7b34db83e93a8"
      },
      "outputs": [],
      "source": [
        "# Train the model\n",
        "history = model.fit(train_images, train_labels, epochs=30,\n",
        "                    batch_size=64,\n",
        "                    validation_data=(test_images, test_labels),\n",
        "                    verbose=2)"
      ]
    },
    {
      "cell_type": "code",
      "execution_count": null,
      "id": "254a6cf672aeea90",
      "metadata": {
        "id": "254a6cf672aeea90"
      },
      "outputs": [],
      "source": [
        "# Convert training history to DataFrame\n",
        "history_df = pd.DataFrame(history.history)"
      ]
    },
    {
      "cell_type": "code",
      "execution_count": null,
      "id": "bf6f4b11f4565d93",
      "metadata": {
        "id": "bf6f4b11f4565d93"
      },
      "outputs": [],
      "source": [
        "# Plot training and validation accuracy\n",
        "sns.lineplot(data=history_df[['accuracy','val_accuracy']])\n",
        "plt.xlabel('Epochs')\n",
        "plt.ylabel('Accuracy')\n",
        "plt.title('Training and Validation Accuracy')\n",
        "plt.show()"
      ]
    },
    {
      "cell_type": "code",
      "execution_count": null,
      "id": "97d7b2f24d5121a9",
      "metadata": {
        "id": "97d7b2f24d5121a9"
      },
      "outputs": [],
      "source": [
        "# Plot training and validation loss\n",
        "sns.lineplot(data=history_df[['loss','val_loss']])\n",
        "plt.xlabel('Epochs')\n",
        "plt.ylabel('Loss')\n",
        "plt.title('Training and Validation Loss')\n",
        "plt.show()"
      ]
    },
    {
      "cell_type": "code",
      "execution_count": null,
      "id": "c7de5d7902f6852",
      "metadata": {
        "id": "c7de5d7902f6852"
      },
      "outputs": [],
      "source": [
        "# Evaluate the model on the test set\n",
        "test_loss, test_acc = model.evaluate(test_images, test_labels, verbose=2)\n",
        "print(f'Test accuracy: {test_acc:.3f}')"
      ]
    },
    {
      "cell_type": "code",
      "execution_count": null,
      "id": "ab7845d00d39f579",
      "metadata": {
        "id": "ab7845d00d39f579"
      },
      "outputs": [],
      "source": [
        "# Predict and show confusion matrix\n",
        "from sklearn.metrics import confusion_matrix\n",
        "import numpy as np\n",
        "pred_labels = np.argmax(model.predict(test_images), axis=1)\n",
        "cm = confusion_matrix(test_labels, pred_labels)\n",
        "plt.figure(figsize=(8,6))\n",
        "sns.heatmap(cm, annot=True, fmt='d', cmap='Blues', xticklabels=class_names, yticklabels=class_names)\n",
        "plt.xlabel('Predicted')\n",
        "plt.ylabel('True')\n",
        "plt.title('Confusion Matrix')\n",
        "plt.show()\n"
      ]
    }
  ],
  "metadata": {
    "colab": {
      "provenance": [],
      "include_colab_link": true
    },
    "kernelspec": {
      "display_name": "Python 3",
      "name": "python3"
    },
    "language_info": {
      "name": "python"
    }
  },
  "nbformat": 4,
  "nbformat_minor": 5
}