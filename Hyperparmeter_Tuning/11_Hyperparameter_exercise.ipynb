{
  "cells": [
    {
      "cell_type": "markdown",
      "metadata": {
        "id": "view-in-github",
        "colab_type": "text"
      },
      "source": [
        "<a href=\"https://colab.research.google.com/github/maleehahassan/HIDA_Into_to_DL/blob/main/Hyperparmeter_Tuning/11_Hyperparameter_exercise.ipynb\" target=\"_parent\"><img src=\"https://colab.research.google.com/assets/colab-badge.svg\" alt=\"Open In Colab\"/></a>"
      ]
    },
    {
      "metadata": {
        "id": "979ebc9bf76a8d38"
      },
      "cell_type": "markdown",
      "source": [
        "# Artificial Neural Network Implementation with Hyperparameter Tuning (Exercise Version)\n",
        "This notebook demonstrates how to build and tune a neural network for customer churn prediction. Complete the marked exercises to implement key components while learning from the provided examples.\n"
      ],
      "id": "979ebc9bf76a8d38"
    },
    {
      "metadata": {
        "id": "8450536b009cbcf6"
      },
      "cell_type": "markdown",
      "source": [
        "## Part 1 - Data Preprocessing\n",
        "We'll start by importing necessary libraries and preparing our data.\n"
      ],
      "id": "8450536b009cbcf6"
    },
    {
      "metadata": {
        "id": "2dac591e9cfd2583"
      },
      "cell_type": "code",
      "outputs": [],
      "execution_count": null,
      "source": [
        "# Basic imports are provided as an example\n",
        "import numpy as np\n",
        "import matplotlib.pyplot as plt\n",
        "import pandas as pd\n",
        "\n",
        "# TODO: Import additional libraries you'll need (hint: seaborn for visualization)\n"
      ],
      "id": "2dac591e9cfd2583"
    },
    {
      "metadata": {
        "id": "a32a24758db70cd2"
      },
      "cell_type": "code",
      "outputs": [],
      "execution_count": null,
      "source": [
        "# Machine learning imports example\n",
        "from sklearn.model_selection import train_test_split\n",
        "from sklearn.preprocessing import StandardScaler\n",
        "\n",
        "# TODO: Import additional ML libraries you'll need (hint: for model evaluation)\n"
      ],
      "id": "a32a24758db70cd2"
    },
    {
      "metadata": {
        "id": "93d9cd19650be71a"
      },
      "cell_type": "code",
      "outputs": [],
      "execution_count": null,
      "source": [
        "# Deep learning imports (provided)\n",
        "from tensorflow import keras\n",
        "from tensorflow.keras import layers\n",
        "from scikeras.wrappers import KerasClassifier\n"
      ],
      "id": "93d9cd19650be71a"
    },
    {
      "metadata": {
        "id": "81c9a335cba6b7c6"
      },
      "cell_type": "markdown",
      "source": [
        "### Data Loading and Initial Processing\n",
        "Let's start with loading and examining our dataset.\n"
      ],
      "id": "81c9a335cba6b7c6"
    },
    {
      "metadata": {
        "id": "4d5ee7176330fa63"
      },
      "cell_type": "code",
      "outputs": [],
      "execution_count": null,
      "source": [
        "# Loading the dataset (provided as example)\n",
        "dataset = pd.read_csv('Churn_Modelling.csv')\n",
        "X = dataset.iloc[:, 3:13]  # Features\n",
        "y = dataset.iloc[:, 13]    # Target\n",
        "\n",
        "# Let's examine our data\n",
        "print(\"Feature shape:\", X.shape)\n",
        "print(\"First few rows of features:\")\n",
        "print(X.head())\n",
        "print(\"\\nUnique values in categorical columns:\")\n",
        "print(\"Geography:\", X[\"Geography\"].unique())\n",
        "print(\"Gender:\", X[\"Gender\"].unique())\n"
      ],
      "id": "4d5ee7176330fa63"
    },
    {
      "metadata": {
        "id": "8ae7d15cde69a50a"
      },
      "cell_type": "markdown",
      "source": [
        "### Exercise 1: Handling Categorical Variables\n",
        "Your first task is to handle the categorical variables properly.\n"
      ],
      "id": "8ae7d15cde69a50a"
    },
    {
      "metadata": {
        "id": "b5446b8e27baa54d"
      },
      "cell_type": "code",
      "outputs": [],
      "execution_count": null,
      "source": [
        "# TODO: Create dummy variables for Geography and Gender\n",
        "# Hint: Use pd.get_dummies() and remember to handle dummy variable trap\n",
        "# Your code here\n",
        "\n",
        "\n",
        "# TODO: Concatenate these dummy variables with X\n",
        "# Hint: Use pd.concat with appropriate axis\n",
        "# Your code here\n",
        "\n",
        "\n",
        "# TODO: Drop the original categorical columns\n",
        "# Your code here\n",
        "\n"
      ],
      "id": "b5446b8e27baa54d"
    },
    {
      "metadata": {
        "id": "7a06cb1d6b2f5b7"
      },
      "cell_type": "markdown",
      "source": [
        "### Data Splitting and Scaling\n",
        "We'll help you with the splitting, but you'll need to implement the scaling.\n"
      ],
      "id": "7a06cb1d6b2f5b7"
    },
    {
      "metadata": {
        "id": "10375690a34f0c06"
      },
      "cell_type": "code",
      "outputs": [],
      "execution_count": null,
      "source": [
        "# Data splitting (provided)\n",
        "X_train, X_test, y_train, y_test = train_test_split(X, y,\n",
        "                                                    test_size=0.2,\n",
        "                                                    random_state=0)\n",
        "\n",
        "# TODO: Implement feature scaling\n",
        "# Hint: Use StandardScaler and remember to only fit on training data\n",
        "# Your code here\n",
        "\n"
      ],
      "id": "10375690a34f0c06"
    },
    {
      "metadata": {
        "id": "ba1d52e9c85117ac"
      },
      "cell_type": "markdown",
      "source": [
        "## Part 2 - Model Creation and Hyperparameter Tuning\n"
      ],
      "id": "ba1d52e9c85117ac"
    },
    {
      "metadata": {
        "id": "e446455fe377f508"
      },
      "cell_type": "markdown",
      "source": [
        "### Exercise 2: Model Architecture\n",
        "Here's a template for creating the model. You'll need to complete key parts.\n"
      ],
      "id": "e446455fe377f508"
    },
    {
      "metadata": {
        "id": "a353cc0d878dd954"
      },
      "cell_type": "code",
      "outputs": [],
      "execution_count": null,
      "source": [
        "def create_model(layers_list=[40, 20], activation='relu', n_features=11):\n",
        "    \"\"\"\n",
        "    Creates a neural network with configurable architecture\n",
        "\n",
        "    Parameters:\n",
        "    layers_list : List of integers for neurons in each hidden layer\n",
        "    activation  : Activation function for hidden layers\n",
        "    n_features : Number of input features\n",
        "    \"\"\"\n",
        "    model = keras.Sequential()\n",
        "\n",
        "    # Input layer (provided)\n",
        "    model.add(layers.Input(shape=(n_features,)))\n",
        "\n",
        "    # TODO: Implement hidden layers\n",
        "    # For each size in layers_list:\n",
        "    #   1. Add a Dense layer with that size\n",
        "    #   2. Add the activation function\n",
        "    #   3. Add Dropout (use 0.3 rate)\n",
        "    # Your code here\n",
        "\n",
        "\n",
        "    # Output layer (provided)\n",
        "    model.add(layers.Dense(1, activation=\"sigmoid\"))\n",
        "\n",
        "    # TODO: Compile the model\n",
        "    # Hint: Use 'binary_crossentropy' loss and 'adam' optimizer\n",
        "    # Your code here\n",
        "\n",
        "    return model\n"
      ],
      "id": "a353cc0d878dd954"
    },
    {
      "metadata": {
        "id": "c19ef913d25c8fe4"
      },
      "cell_type": "markdown",
      "source": [
        "### Exercise 3: Setting up Hyperparameter Tuning\n",
        "We'll help you set up the classifier, but you'll need to define the parameter grid.\n"
      ],
      "id": "c19ef913d25c8fe4"
    },
    {
      "metadata": {
        "id": "4e2af4b817cc8906"
      },
      "cell_type": "code",
      "outputs": [],
      "execution_count": null,
      "source": [
        "# KerasClassifier setup (provided)\n",
        "clf = KerasClassifier(\n",
        "    model=create_model,\n",
        "    n_features=X_train.shape[1],\n",
        "    verbose=0,\n",
        ")\n",
        "\n",
        "# TODO: Define your parameter grid\n",
        "# Requirements:\n",
        "# - At least 2 different layer configurations\n",
        "# - Try both 'relu' and 'sigmoid' activations\n",
        "# - Try different batch sizes\n",
        "# Your code here\n",
        "param_grid = {\n",
        "    \"model__layers_list\": # Your layer configurations here,\n",
        "    \"model__activation\": # Your activation functions here,\n",
        "    \"batch_size\": # Your batch sizes here,\n",
        "    \"epochs\": [30]  # We'll keep this fixed for simplicity\n",
        "}\n"
      ],
      "id": "4e2af4b817cc8906"
    },
    {
      "metadata": {
        "id": "8dd1185188968966"
      },
      "cell_type": "code",
      "outputs": [],
      "execution_count": null,
      "source": [
        "# GridSearchCV setup (provided)\n",
        "grid = GridSearchCV(estimator=clf, param_grid=param_grid, cv=5)\n"
      ],
      "id": "8dd1185188968966"
    },
    {
      "metadata": {
        "id": "f2bd895192abcb41"
      },
      "cell_type": "markdown",
      "source": [
        "### Model Training and Evaluation\n",
        "We'll help you with the training setup, but you'll need to implement the evaluation.\n"
      ],
      "id": "f2bd895192abcb41"
    },
    {
      "metadata": {
        "id": "e536bbc7a840c38c"
      },
      "cell_type": "code",
      "outputs": [],
      "execution_count": null,
      "source": [
        "# Train the model (provided)\n",
        "grid_result = grid.fit(X_train, y_train)\n",
        "print(\"Best parameters:\", grid_result.best_params_)\n",
        "print(\"Best cross-validation score:\", grid_result.best_score_)\n",
        "\n",
        "# TODO: Evaluate the model on test set\n",
        "# 1. Get predictions\n",
        "# 2. Create confusion matrix\n",
        "# 3. Calculate accuracy\n",
        "# Your code here\n",
        "\n"
      ],
      "id": "e536bbc7a840c38c"
    },
    {
      "metadata": {
        "id": "663a27d526c92524"
      },
      "cell_type": "markdown",
      "source": [
        "### Exercise 4: Visualization\n",
        "Create an informative visualization of the results.\n"
      ],
      "id": "663a27d526c92524"
    },
    {
      "metadata": {
        "id": "5545666f58b91b6b"
      },
      "cell_type": "code",
      "outputs": [],
      "execution_count": null,
      "source": [
        "# TODO: Create a heatmap of the confusion matrix\n",
        "# Hint: Use seaborn's heatmap with appropriate annotations\n",
        "# Your code here\n"
      ],
      "id": "5545666f58b91b6b"
    }
  ],
  "metadata": {
    "colab": {
      "provenance": [],
      "include_colab_link": true
    }
  },
  "nbformat": 4,
  "nbformat_minor": 5
}