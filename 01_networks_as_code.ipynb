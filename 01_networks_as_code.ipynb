{
  "cells": [
    {
      "cell_type": "markdown",
      "metadata": {
        "id": "view-in-github",
        "colab_type": "text"
      },
      "source": [
        "<a href=\"https://colab.research.google.com/github/maleehahassan/HIDA_Into_to_DL/blob/main/01_networks_as_code.ipynb\" target=\"_parent\"><img src=\"https://colab.research.google.com/assets/colab-badge.svg\" alt=\"Open In Colab\"/></a>"
      ]
    },
    {
      "cell_type": "markdown",
      "source": [
        "# Overview: Penguin Species Classification with Neural Networks\n",
        "\n",
        "This notebook demonstrates how to build a neural network to classify penguin species using the Palmer Penguins dataset. The workflow includes:\n",
        "\n",
        "- **Data Loading & Exploration**: The dataset is loaded and visualized to understand relationships between features and species.\n",
        "- **Preprocessing**: Irrelevant columns are dropped, missing values are removed, and the target variable ('species') is one-hot encoded for classification.\n",
        "- **Data Splitting**: The data is split into training and test sets, stratified by species to maintain class balance.\n",
        "- **Model Building**: A simple feedforward neural network is constructed using TensorFlow/Keras, with one hidden layer and a softmax output for multiclass classification.\n",
        "- **Training**: The model is trained for 100 epochs, and training loss is visualized to monitor learning progress.\n",
        "- **Prediction & Evaluation**: Predictions are made on the test set, and the model's performance is evaluated using a confusion matrix and heatmap to show classification accuracy for each species.\n",
        "\n",
        "This notebook guides learners through the process of preparing data, building and training a neural network for multiclass classification, and evaluating results using visual tools."
      ],
      "metadata": {
        "id": "DA4UVYsZbElO"
      },
      "id": "DA4UVYsZbElO"
    },
    {
      "cell_type": "code",
      "execution_count": null,
      "id": "58ce8193",
      "metadata": {
        "id": "58ce8193"
      },
      "outputs": [],
      "source": [
        "# Import seaborn for data visualization\n",
        "import seaborn as sns"
      ]
    },
    {
      "cell_type": "code",
      "execution_count": null,
      "id": "28fb0cdc",
      "metadata": {
        "id": "28fb0cdc"
      },
      "outputs": [],
      "source": [
        "# Load the penguins dataset from seaborn\n",
        "penguins = sns.load_dataset('penguins')"
      ]
    },
    {
      "cell_type": "code",
      "execution_count": null,
      "id": "ba319245",
      "metadata": {
        "id": "ba319245",
        "collapsed": true
      },
      "outputs": [],
      "source": [
        "# Visualize pairwise relationships in the dataset, colored by species\n",
        "sns.pairplot(penguins, hue=\"species\")"
      ]
    },
    {
      "cell_type": "code",
      "execution_count": null,
      "id": "21f444fc",
      "metadata": {
        "id": "21f444fc"
      },
      "outputs": [],
      "source": [
        "# Convert the 'species' column to a categorical data type\n",
        "penguins['species'] = penguins['species'].astype('category')"
      ]
    },
    {
      "cell_type": "code",
      "execution_count": null,
      "id": "f249b0dc",
      "metadata": {
        "id": "f249b0dc"
      },
      "outputs": [],
      "source": [
        "# Drop two columns and the rows that have NaN values in them\n",
        "# Drop the 'island' and 'sex' columns, then remove rows with missing values\n",
        "penguins_filtered = penguins.drop(columns=['island', 'sex']).dropna()\n",
        "\n",
        "# Extract columns corresponding to features\n",
        "# Extract feature columns (all except 'species') for model input\n",
        "penguins_features = penguins_filtered.drop(columns=['species'])\n"
      ]
    },
    {
      "cell_type": "code",
      "execution_count": null,
      "id": "1d1fecc8",
      "metadata": {
        "id": "1d1fecc8",
        "collapsed": true
      },
      "outputs": [],
      "source": [
        "# Import pandas for data manipulation\n",
        "import pandas as pd\n",
        "\n",
        "# Convert the target variable 'species' to one-hot encoded format\n",
        "target = pd.get_dummies(penguins_filtered['species'])\n",
        "\n",
        "# Display the first 5 rows of the one-hot encoded target\n",
        "target.head() # print out the top 5 to see what it looks like."
      ]
    },
    {
      "cell_type": "code",
      "execution_count": null,
      "id": "75f927f1",
      "metadata": {
        "id": "75f927f1"
      },
      "outputs": [],
      "source": [
        "# Import train_test_split to split data into training and test sets\n",
        "from sklearn.model_selection import train_test_split\n",
        "\n",
        "# Split features and target into training and test sets, stratified by species\n",
        "X_train, X_test, y_train, y_test = train_test_split(penguins_features, target,test_size=0.2, random_state=0, shuffle=True, stratify=target)\n"
      ]
    },
    {
      "cell_type": "code",
      "execution_count": null,
      "id": "06591e39",
      "metadata": {
        "id": "06591e39",
        "collapsed": true
      },
      "outputs": [],
      "source": [
        "# Print the count of each species in the full target set\n",
        "print(target.value_counts())"
      ]
    },
    {
      "cell_type": "code",
      "execution_count": null,
      "id": "1cc33a6d",
      "metadata": {
        "collapsed": true,
        "id": "1cc33a6d"
      },
      "outputs": [],
      "source": [
        "# Print the count of each species in the training set\n",
        "print(y_train.value_counts())"
      ]
    },
    {
      "cell_type": "code",
      "execution_count": null,
      "id": "8f9d026d",
      "metadata": {
        "collapsed": true,
        "id": "8f9d026d"
      },
      "outputs": [],
      "source": [
        "# Print the count of each species in the test set\n",
        "print(y_test.value_counts())"
      ]
    },
    {
      "cell_type": "code",
      "execution_count": null,
      "id": "d2583aeb",
      "metadata": {
        "id": "d2583aeb",
        "collapsed": true
      },
      "outputs": [],
      "source": [
        "# Import keras for building neural networks\n",
        "from tensorflow import keras"
      ]
    },
    {
      "cell_type": "code",
      "execution_count": null,
      "id": "377af5f4",
      "metadata": {
        "id": "377af5f4"
      },
      "outputs": [],
      "source": [
        "# Set random seeds for reproducibility\n",
        "from numpy.random import seed\n",
        "seed(1)\n",
        "from tensorflow.random import set_seed\n",
        "set_seed(2)\n"
      ]
    },
    {
      "cell_type": "code",
      "source": [
        "# Define the input layer with the shape of the feature set\n",
        "inputs = keras.Input(shape=(X_train.shape[1],))\n"
      ],
      "metadata": {
        "id": "9pnQKvm5LZb_"
      },
      "id": "9pnQKvm5LZb_",
      "execution_count": null,
      "outputs": []
    },
    {
      "cell_type": "code",
      "execution_count": null,
      "id": "1ec67ec0",
      "metadata": {
        "collapsed": true,
        "id": "1ec67ec0"
      },
      "outputs": [],
      "source": [
        "# Add a hidden layer with 10 units and ReLU activation\n",
        "hidden_layer = keras.layers.Dense(10, activation=\"relu\")(inputs)"
      ]
    },
    {
      "cell_type": "code",
      "execution_count": null,
      "id": "3007dd5a",
      "metadata": {
        "id": "3007dd5a"
      },
      "outputs": [],
      "source": [
        "# Add an output layer with 3 units (one for each species) and softmax activation\n",
        "output_layer = keras.layers.Dense(3, activation=\"softmax\")(hidden_layer)"
      ]
    },
    {
      "cell_type": "code",
      "execution_count": null,
      "id": "f363d15f",
      "metadata": {
        "collapsed": true,
        "id": "f363d15f"
      },
      "outputs": [],
      "source": [
        "# Build the model by specifying the input and output layers\n",
        "model = keras.Model(inputs=inputs, outputs=output_layer)\n",
        "\n",
        "# Display the model architecture\n",
        "model.summary()\n"
      ]
    },
    {
      "cell_type": "code",
      "execution_count": null,
      "id": "f674781f",
      "metadata": {
        "id": "f674781f"
      },
      "outputs": [],
      "source": [
        "# Compile the model with Adam optimizer and categorical crossentropy loss\n",
        "model.compile(optimizer='adam', loss=keras.losses.CategoricalCrossentropy())"
      ]
    },
    {
      "cell_type": "code",
      "execution_count": null,
      "id": "77476a6f",
      "metadata": {
        "collapsed": true,
        "id": "77476a6f"
      },
      "outputs": [],
      "source": [
        "# Train the model on the training set for 100 epochs\n",
        "history = model.fit(X_train, y_train, epochs=100)"
      ]
    },
    {
      "cell_type": "code",
      "execution_count": null,
      "id": "1e217306",
      "metadata": {
        "collapsed": true,
        "id": "1e217306"
      },
      "outputs": [],
      "source": [
        "# Plot the training loss over epochs\n",
        "sns.lineplot(x=history.epoch, y=history.history['loss'])"
      ]
    },
    {
      "cell_type": "code",
      "execution_count": null,
      "id": "028368d5",
      "metadata": {
        "collapsed": true,
        "id": "028368d5"
      },
      "outputs": [],
      "source": [
        "# Make predictions on the test set\n",
        "y_pred = model.predict(X_test)\n",
        "\n",
        "# Convert predictions to a DataFrame for easier analysis\n",
        "prediction = pd.DataFrame(y_pred, columns=target.columns)\n",
        "prediction\n"
      ]
    },
    {
      "cell_type": "code",
      "execution_count": null,
      "id": "a0711b36",
      "metadata": {
        "collapsed": true,
        "id": "a0711b36"
      },
      "outputs": [],
      "source": [
        "# Get the species with the highest predicted probability for each observation\n",
        "predicted_species = prediction.idxmax(axis=\"columns\")\n",
        "predicted_species\n"
      ]
    },
    {
      "cell_type": "code",
      "execution_count": null,
      "id": "4043d11b",
      "metadata": {
        "collapsed": true,
        "id": "4043d11b"
      },
      "outputs": [],
      "source": [
        "# Import confusion_matrix to evaluate model performance\n",
        "from sklearn.metrics import confusion_matrix\n",
        "\n",
        "# Get the true species labels for the test set\n",
        "true_species = y_test.idxmax(axis=\"columns\")\n",
        "\n",
        "# Compute the confusion matrix\n",
        "matrix = confusion_matrix(true_species, predicted_species)\n",
        "print(matrix)\n"
      ]
    },
    {
      "cell_type": "code",
      "execution_count": null,
      "id": "52ff1785",
      "metadata": {
        "id": "52ff1785"
      },
      "outputs": [],
      "source": [
        "# Convert to a pandas dataframe\n",
        "confusion_df = pd.DataFrame(matrix, index=y_test.columns.values, columns=y_test.columns.values)\n",
        "\n",
        "# Set the names of the x and y axis, this helps with the readability of the heatmap.\n",
        "confusion_df.index.name = 'True Label'\n",
        "confusion_df.columns.name = 'Predicted Label'\n"
      ]
    },
    {
      "cell_type": "code",
      "execution_count": null,
      "id": "72fd46b0",
      "metadata": {
        "collapsed": true,
        "id": "72fd46b0"
      },
      "outputs": [],
      "source": [
        "# Visualize the confusion matrix as a heatmap\n",
        "sns.heatmap(confusion_df, annot=True)"
      ]
    },
    {
      "cell_type": "code",
      "execution_count": null,
      "id": "4828129f",
      "metadata": {
        "id": "4828129f"
      },
      "outputs": [],
      "source": []
    }
  ],
  "metadata": {
    "kernelspec": {
      "display_name": "Python 3 (ipykernel)",
      "language": "python",
      "name": "python3"
    },
    "language_info": {
      "codemirror_mode": {
        "name": "ipython",
        "version": 3
      },
      "file_extension": ".py",
      "mimetype": "text/x-python",
      "name": "python",
      "nbconvert_exporter": "python",
      "pygments_lexer": "ipython3",
      "version": "3.10.2"
    },
    "colab": {
      "provenance": [],
      "include_colab_link": true
    }
  },
  "nbformat": 4,
  "nbformat_minor": 5
}